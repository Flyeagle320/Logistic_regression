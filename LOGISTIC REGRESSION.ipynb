{
 "cells": [
  {
   "cell_type": "markdown",
   "id": "1aec84f3",
   "metadata": {},
   "source": [
    "USED IDE -JUPYTER NOTEBOOK"
   ]
  },
  {
   "cell_type": "markdown",
   "id": "d6720614",
   "metadata": {},
   "source": [
    "PROBLEM 1#"
   ]
  },
  {
   "cell_type": "code",
   "execution_count": 1,
   "id": "a701d735",
   "metadata": {},
   "outputs": [],
   "source": [
    "import pandas as pd\n",
    "import numpy as np\n",
    "import matplotlib.pyplot as plt\n",
    "import statsmodels.formula.api as sm\n",
    "from sklearn.model_selection import train_test_split # train and test \n",
    "from sklearn import metrics\n",
    "from sklearn.metrics import roc_curve, auc\n",
    "from sklearn.metrics import classification_report\n",
    "from sklearn.metrics import accuracy_score\n"
   ]
  },
  {
   "cell_type": "code",
   "execution_count": 2,
   "id": "ce58b899",
   "metadata": {},
   "outputs": [],
   "source": [
    "##importing data#\n",
    "affair = pd.read_csv('D:\\\\DATA SCIENCE ASSIGNMENT\\\\Datasets_LR\\\\Affairs.csv',sep = \",\")"
   ]
  },
  {
   "cell_type": "code",
   "execution_count": 3,
   "id": "fb19eb63",
   "metadata": {},
   "outputs": [
    {
     "data": {
      "text/html": [
       "<div>\n",
       "<style scoped>\n",
       "    .dataframe tbody tr th:only-of-type {\n",
       "        vertical-align: middle;\n",
       "    }\n",
       "\n",
       "    .dataframe tbody tr th {\n",
       "        vertical-align: top;\n",
       "    }\n",
       "\n",
       "    .dataframe thead th {\n",
       "        text-align: right;\n",
       "    }\n",
       "</style>\n",
       "<table border=\"1\" class=\"dataframe\">\n",
       "  <thead>\n",
       "    <tr style=\"text-align: right;\">\n",
       "      <th></th>\n",
       "      <th>Unnamed: 0</th>\n",
       "      <th>naffairs</th>\n",
       "      <th>kids</th>\n",
       "      <th>vryunhap</th>\n",
       "      <th>unhap</th>\n",
       "      <th>avgmarr</th>\n",
       "      <th>hapavg</th>\n",
       "      <th>vryhap</th>\n",
       "      <th>antirel</th>\n",
       "      <th>notrel</th>\n",
       "      <th>slghtrel</th>\n",
       "      <th>smerel</th>\n",
       "      <th>vryrel</th>\n",
       "      <th>yrsmarr1</th>\n",
       "      <th>yrsmarr2</th>\n",
       "      <th>yrsmarr3</th>\n",
       "      <th>yrsmarr4</th>\n",
       "      <th>yrsmarr5</th>\n",
       "      <th>yrsmarr6</th>\n",
       "    </tr>\n",
       "  </thead>\n",
       "  <tbody>\n",
       "    <tr>\n",
       "      <th>0</th>\n",
       "      <td>1</td>\n",
       "      <td>0</td>\n",
       "      <td>0</td>\n",
       "      <td>0</td>\n",
       "      <td>0</td>\n",
       "      <td>0</td>\n",
       "      <td>1</td>\n",
       "      <td>0</td>\n",
       "      <td>0</td>\n",
       "      <td>0</td>\n",
       "      <td>1</td>\n",
       "      <td>0</td>\n",
       "      <td>0</td>\n",
       "      <td>0</td>\n",
       "      <td>0</td>\n",
       "      <td>0</td>\n",
       "      <td>0</td>\n",
       "      <td>1</td>\n",
       "      <td>0</td>\n",
       "    </tr>\n",
       "    <tr>\n",
       "      <th>1</th>\n",
       "      <td>2</td>\n",
       "      <td>0</td>\n",
       "      <td>0</td>\n",
       "      <td>0</td>\n",
       "      <td>0</td>\n",
       "      <td>0</td>\n",
       "      <td>1</td>\n",
       "      <td>0</td>\n",
       "      <td>0</td>\n",
       "      <td>0</td>\n",
       "      <td>0</td>\n",
       "      <td>1</td>\n",
       "      <td>0</td>\n",
       "      <td>0</td>\n",
       "      <td>0</td>\n",
       "      <td>1</td>\n",
       "      <td>0</td>\n",
       "      <td>0</td>\n",
       "      <td>0</td>\n",
       "    </tr>\n",
       "    <tr>\n",
       "      <th>2</th>\n",
       "      <td>3</td>\n",
       "      <td>3</td>\n",
       "      <td>0</td>\n",
       "      <td>0</td>\n",
       "      <td>0</td>\n",
       "      <td>0</td>\n",
       "      <td>1</td>\n",
       "      <td>0</td>\n",
       "      <td>0</td>\n",
       "      <td>0</td>\n",
       "      <td>1</td>\n",
       "      <td>0</td>\n",
       "      <td>0</td>\n",
       "      <td>0</td>\n",
       "      <td>1</td>\n",
       "      <td>0</td>\n",
       "      <td>0</td>\n",
       "      <td>0</td>\n",
       "      <td>0</td>\n",
       "    </tr>\n",
       "    <tr>\n",
       "      <th>3</th>\n",
       "      <td>4</td>\n",
       "      <td>0</td>\n",
       "      <td>1</td>\n",
       "      <td>0</td>\n",
       "      <td>0</td>\n",
       "      <td>0</td>\n",
       "      <td>1</td>\n",
       "      <td>0</td>\n",
       "      <td>1</td>\n",
       "      <td>0</td>\n",
       "      <td>0</td>\n",
       "      <td>0</td>\n",
       "      <td>0</td>\n",
       "      <td>0</td>\n",
       "      <td>0</td>\n",
       "      <td>0</td>\n",
       "      <td>0</td>\n",
       "      <td>0</td>\n",
       "      <td>1</td>\n",
       "    </tr>\n",
       "    <tr>\n",
       "      <th>4</th>\n",
       "      <td>5</td>\n",
       "      <td>3</td>\n",
       "      <td>1</td>\n",
       "      <td>0</td>\n",
       "      <td>0</td>\n",
       "      <td>0</td>\n",
       "      <td>0</td>\n",
       "      <td>1</td>\n",
       "      <td>0</td>\n",
       "      <td>0</td>\n",
       "      <td>1</td>\n",
       "      <td>0</td>\n",
       "      <td>0</td>\n",
       "      <td>0</td>\n",
       "      <td>0</td>\n",
       "      <td>1</td>\n",
       "      <td>0</td>\n",
       "      <td>0</td>\n",
       "      <td>0</td>\n",
       "    </tr>\n",
       "    <tr>\n",
       "      <th>5</th>\n",
       "      <td>6</td>\n",
       "      <td>0</td>\n",
       "      <td>1</td>\n",
       "      <td>0</td>\n",
       "      <td>0</td>\n",
       "      <td>0</td>\n",
       "      <td>0</td>\n",
       "      <td>1</td>\n",
       "      <td>0</td>\n",
       "      <td>0</td>\n",
       "      <td>0</td>\n",
       "      <td>0</td>\n",
       "      <td>1</td>\n",
       "      <td>0</td>\n",
       "      <td>0</td>\n",
       "      <td>0</td>\n",
       "      <td>0</td>\n",
       "      <td>0</td>\n",
       "      <td>1</td>\n",
       "    </tr>\n",
       "    <tr>\n",
       "      <th>6</th>\n",
       "      <td>7</td>\n",
       "      <td>0</td>\n",
       "      <td>0</td>\n",
       "      <td>0</td>\n",
       "      <td>0</td>\n",
       "      <td>1</td>\n",
       "      <td>0</td>\n",
       "      <td>0</td>\n",
       "      <td>0</td>\n",
       "      <td>1</td>\n",
       "      <td>0</td>\n",
       "      <td>0</td>\n",
       "      <td>0</td>\n",
       "      <td>1</td>\n",
       "      <td>0</td>\n",
       "      <td>0</td>\n",
       "      <td>0</td>\n",
       "      <td>0</td>\n",
       "      <td>0</td>\n",
       "    </tr>\n",
       "    <tr>\n",
       "      <th>7</th>\n",
       "      <td>8</td>\n",
       "      <td>0</td>\n",
       "      <td>0</td>\n",
       "      <td>0</td>\n",
       "      <td>0</td>\n",
       "      <td>0</td>\n",
       "      <td>0</td>\n",
       "      <td>1</td>\n",
       "      <td>0</td>\n",
       "      <td>1</td>\n",
       "      <td>0</td>\n",
       "      <td>0</td>\n",
       "      <td>0</td>\n",
       "      <td>0</td>\n",
       "      <td>1</td>\n",
       "      <td>0</td>\n",
       "      <td>0</td>\n",
       "      <td>0</td>\n",
       "      <td>0</td>\n",
       "    </tr>\n",
       "    <tr>\n",
       "      <th>8</th>\n",
       "      <td>9</td>\n",
       "      <td>7</td>\n",
       "      <td>1</td>\n",
       "      <td>0</td>\n",
       "      <td>1</td>\n",
       "      <td>0</td>\n",
       "      <td>0</td>\n",
       "      <td>0</td>\n",
       "      <td>0</td>\n",
       "      <td>0</td>\n",
       "      <td>0</td>\n",
       "      <td>0</td>\n",
       "      <td>1</td>\n",
       "      <td>0</td>\n",
       "      <td>0</td>\n",
       "      <td>0</td>\n",
       "      <td>0</td>\n",
       "      <td>0</td>\n",
       "      <td>1</td>\n",
       "    </tr>\n",
       "    <tr>\n",
       "      <th>9</th>\n",
       "      <td>10</td>\n",
       "      <td>0</td>\n",
       "      <td>0</td>\n",
       "      <td>0</td>\n",
       "      <td>0</td>\n",
       "      <td>1</td>\n",
       "      <td>0</td>\n",
       "      <td>0</td>\n",
       "      <td>0</td>\n",
       "      <td>1</td>\n",
       "      <td>0</td>\n",
       "      <td>0</td>\n",
       "      <td>0</td>\n",
       "      <td>1</td>\n",
       "      <td>0</td>\n",
       "      <td>0</td>\n",
       "      <td>0</td>\n",
       "      <td>0</td>\n",
       "      <td>0</td>\n",
       "    </tr>\n",
       "  </tbody>\n",
       "</table>\n",
       "</div>"
      ],
      "text/plain": [
       "   Unnamed: 0  naffairs  kids  vryunhap  unhap  avgmarr  hapavg  vryhap  \\\n",
       "0           1         0     0         0      0        0       1       0   \n",
       "1           2         0     0         0      0        0       1       0   \n",
       "2           3         3     0         0      0        0       1       0   \n",
       "3           4         0     1         0      0        0       1       0   \n",
       "4           5         3     1         0      0        0       0       1   \n",
       "5           6         0     1         0      0        0       0       1   \n",
       "6           7         0     0         0      0        1       0       0   \n",
       "7           8         0     0         0      0        0       0       1   \n",
       "8           9         7     1         0      1        0       0       0   \n",
       "9          10         0     0         0      0        1       0       0   \n",
       "\n",
       "   antirel  notrel  slghtrel  smerel  vryrel  yrsmarr1  yrsmarr2  yrsmarr3  \\\n",
       "0        0       0         1       0       0         0         0         0   \n",
       "1        0       0         0       1       0         0         0         1   \n",
       "2        0       0         1       0       0         0         1         0   \n",
       "3        1       0         0       0       0         0         0         0   \n",
       "4        0       0         1       0       0         0         0         1   \n",
       "5        0       0         0       0       1         0         0         0   \n",
       "6        0       1         0       0       0         1         0         0   \n",
       "7        0       1         0       0       0         0         1         0   \n",
       "8        0       0         0       0       1         0         0         0   \n",
       "9        0       1         0       0       0         1         0         0   \n",
       "\n",
       "   yrsmarr4  yrsmarr5  yrsmarr6  \n",
       "0         0         1         0  \n",
       "1         0         0         0  \n",
       "2         0         0         0  \n",
       "3         0         0         1  \n",
       "4         0         0         0  \n",
       "5         0         0         1  \n",
       "6         0         0         0  \n",
       "7         0         0         0  \n",
       "8         0         0         1  \n",
       "9         0         0         0  "
      ]
     },
     "execution_count": 3,
     "metadata": {},
     "output_type": "execute_result"
    }
   ],
   "source": [
    "affair.head(10)"
   ]
  },
  {
   "cell_type": "code",
   "execution_count": 4,
   "id": "6c10a962",
   "metadata": {},
   "outputs": [
    {
     "data": {
      "text/html": [
       "<div>\n",
       "<style scoped>\n",
       "    .dataframe tbody tr th:only-of-type {\n",
       "        vertical-align: middle;\n",
       "    }\n",
       "\n",
       "    .dataframe tbody tr th {\n",
       "        vertical-align: top;\n",
       "    }\n",
       "\n",
       "    .dataframe thead th {\n",
       "        text-align: right;\n",
       "    }\n",
       "</style>\n",
       "<table border=\"1\" class=\"dataframe\">\n",
       "  <thead>\n",
       "    <tr style=\"text-align: right;\">\n",
       "      <th></th>\n",
       "      <th>Unnamed: 0</th>\n",
       "      <th>naffairs</th>\n",
       "      <th>kids</th>\n",
       "      <th>vryunhap</th>\n",
       "      <th>unhap</th>\n",
       "      <th>avgmarr</th>\n",
       "      <th>hapavg</th>\n",
       "      <th>vryhap</th>\n",
       "      <th>antirel</th>\n",
       "      <th>notrel</th>\n",
       "      <th>slghtrel</th>\n",
       "      <th>smerel</th>\n",
       "      <th>vryrel</th>\n",
       "      <th>yrsmarr1</th>\n",
       "      <th>yrsmarr2</th>\n",
       "      <th>yrsmarr3</th>\n",
       "      <th>yrsmarr4</th>\n",
       "      <th>yrsmarr5</th>\n",
       "      <th>yrsmarr6</th>\n",
       "    </tr>\n",
       "  </thead>\n",
       "  <tbody>\n",
       "    <tr>\n",
       "      <th>591</th>\n",
       "      <td>592</td>\n",
       "      <td>0</td>\n",
       "      <td>1</td>\n",
       "      <td>0</td>\n",
       "      <td>0</td>\n",
       "      <td>0</td>\n",
       "      <td>1</td>\n",
       "      <td>0</td>\n",
       "      <td>0</td>\n",
       "      <td>0</td>\n",
       "      <td>0</td>\n",
       "      <td>1</td>\n",
       "      <td>0</td>\n",
       "      <td>0</td>\n",
       "      <td>0</td>\n",
       "      <td>1</td>\n",
       "      <td>0</td>\n",
       "      <td>0</td>\n",
       "      <td>0</td>\n",
       "    </tr>\n",
       "    <tr>\n",
       "      <th>592</th>\n",
       "      <td>593</td>\n",
       "      <td>0</td>\n",
       "      <td>0</td>\n",
       "      <td>0</td>\n",
       "      <td>0</td>\n",
       "      <td>0</td>\n",
       "      <td>0</td>\n",
       "      <td>1</td>\n",
       "      <td>0</td>\n",
       "      <td>0</td>\n",
       "      <td>0</td>\n",
       "      <td>1</td>\n",
       "      <td>0</td>\n",
       "      <td>0</td>\n",
       "      <td>0</td>\n",
       "      <td>1</td>\n",
       "      <td>0</td>\n",
       "      <td>0</td>\n",
       "      <td>0</td>\n",
       "    </tr>\n",
       "    <tr>\n",
       "      <th>593</th>\n",
       "      <td>594</td>\n",
       "      <td>2</td>\n",
       "      <td>1</td>\n",
       "      <td>0</td>\n",
       "      <td>0</td>\n",
       "      <td>0</td>\n",
       "      <td>0</td>\n",
       "      <td>1</td>\n",
       "      <td>0</td>\n",
       "      <td>1</td>\n",
       "      <td>0</td>\n",
       "      <td>0</td>\n",
       "      <td>0</td>\n",
       "      <td>0</td>\n",
       "      <td>0</td>\n",
       "      <td>0</td>\n",
       "      <td>0</td>\n",
       "      <td>1</td>\n",
       "      <td>0</td>\n",
       "    </tr>\n",
       "    <tr>\n",
       "      <th>594</th>\n",
       "      <td>595</td>\n",
       "      <td>2</td>\n",
       "      <td>1</td>\n",
       "      <td>0</td>\n",
       "      <td>1</td>\n",
       "      <td>0</td>\n",
       "      <td>0</td>\n",
       "      <td>0</td>\n",
       "      <td>0</td>\n",
       "      <td>0</td>\n",
       "      <td>1</td>\n",
       "      <td>0</td>\n",
       "      <td>0</td>\n",
       "      <td>0</td>\n",
       "      <td>0</td>\n",
       "      <td>0</td>\n",
       "      <td>1</td>\n",
       "      <td>0</td>\n",
       "      <td>0</td>\n",
       "    </tr>\n",
       "    <tr>\n",
       "      <th>595</th>\n",
       "      <td>596</td>\n",
       "      <td>0</td>\n",
       "      <td>0</td>\n",
       "      <td>0</td>\n",
       "      <td>0</td>\n",
       "      <td>0</td>\n",
       "      <td>0</td>\n",
       "      <td>1</td>\n",
       "      <td>0</td>\n",
       "      <td>1</td>\n",
       "      <td>0</td>\n",
       "      <td>0</td>\n",
       "      <td>0</td>\n",
       "      <td>0</td>\n",
       "      <td>1</td>\n",
       "      <td>0</td>\n",
       "      <td>0</td>\n",
       "      <td>0</td>\n",
       "      <td>0</td>\n",
       "    </tr>\n",
       "    <tr>\n",
       "      <th>596</th>\n",
       "      <td>597</td>\n",
       "      <td>0</td>\n",
       "      <td>0</td>\n",
       "      <td>0</td>\n",
       "      <td>0</td>\n",
       "      <td>0</td>\n",
       "      <td>1</td>\n",
       "      <td>0</td>\n",
       "      <td>0</td>\n",
       "      <td>0</td>\n",
       "      <td>0</td>\n",
       "      <td>1</td>\n",
       "      <td>0</td>\n",
       "      <td>0</td>\n",
       "      <td>0</td>\n",
       "      <td>0</td>\n",
       "      <td>0</td>\n",
       "      <td>0</td>\n",
       "      <td>1</td>\n",
       "    </tr>\n",
       "    <tr>\n",
       "      <th>597</th>\n",
       "      <td>598</td>\n",
       "      <td>1</td>\n",
       "      <td>1</td>\n",
       "      <td>0</td>\n",
       "      <td>0</td>\n",
       "      <td>0</td>\n",
       "      <td>0</td>\n",
       "      <td>1</td>\n",
       "      <td>0</td>\n",
       "      <td>0</td>\n",
       "      <td>1</td>\n",
       "      <td>0</td>\n",
       "      <td>0</td>\n",
       "      <td>0</td>\n",
       "      <td>0</td>\n",
       "      <td>0</td>\n",
       "      <td>0</td>\n",
       "      <td>0</td>\n",
       "      <td>1</td>\n",
       "    </tr>\n",
       "    <tr>\n",
       "      <th>598</th>\n",
       "      <td>599</td>\n",
       "      <td>0</td>\n",
       "      <td>1</td>\n",
       "      <td>0</td>\n",
       "      <td>1</td>\n",
       "      <td>0</td>\n",
       "      <td>0</td>\n",
       "      <td>0</td>\n",
       "      <td>0</td>\n",
       "      <td>1</td>\n",
       "      <td>0</td>\n",
       "      <td>0</td>\n",
       "      <td>0</td>\n",
       "      <td>0</td>\n",
       "      <td>0</td>\n",
       "      <td>0</td>\n",
       "      <td>0</td>\n",
       "      <td>1</td>\n",
       "      <td>0</td>\n",
       "    </tr>\n",
       "    <tr>\n",
       "      <th>599</th>\n",
       "      <td>600</td>\n",
       "      <td>0</td>\n",
       "      <td>1</td>\n",
       "      <td>0</td>\n",
       "      <td>0</td>\n",
       "      <td>0</td>\n",
       "      <td>1</td>\n",
       "      <td>0</td>\n",
       "      <td>0</td>\n",
       "      <td>0</td>\n",
       "      <td>1</td>\n",
       "      <td>0</td>\n",
       "      <td>0</td>\n",
       "      <td>0</td>\n",
       "      <td>0</td>\n",
       "      <td>0</td>\n",
       "      <td>0</td>\n",
       "      <td>0</td>\n",
       "      <td>1</td>\n",
       "    </tr>\n",
       "    <tr>\n",
       "      <th>600</th>\n",
       "      <td>601</td>\n",
       "      <td>0</td>\n",
       "      <td>1</td>\n",
       "      <td>0</td>\n",
       "      <td>0</td>\n",
       "      <td>0</td>\n",
       "      <td>1</td>\n",
       "      <td>0</td>\n",
       "      <td>0</td>\n",
       "      <td>1</td>\n",
       "      <td>0</td>\n",
       "      <td>0</td>\n",
       "      <td>0</td>\n",
       "      <td>0</td>\n",
       "      <td>0</td>\n",
       "      <td>1</td>\n",
       "      <td>0</td>\n",
       "      <td>0</td>\n",
       "      <td>0</td>\n",
       "    </tr>\n",
       "  </tbody>\n",
       "</table>\n",
       "</div>"
      ],
      "text/plain": [
       "     Unnamed: 0  naffairs  kids  vryunhap  unhap  avgmarr  hapavg  vryhap  \\\n",
       "591         592         0     1         0      0        0       1       0   \n",
       "592         593         0     0         0      0        0       0       1   \n",
       "593         594         2     1         0      0        0       0       1   \n",
       "594         595         2     1         0      1        0       0       0   \n",
       "595         596         0     0         0      0        0       0       1   \n",
       "596         597         0     0         0      0        0       1       0   \n",
       "597         598         1     1         0      0        0       0       1   \n",
       "598         599         0     1         0      1        0       0       0   \n",
       "599         600         0     1         0      0        0       1       0   \n",
       "600         601         0     1         0      0        0       1       0   \n",
       "\n",
       "     antirel  notrel  slghtrel  smerel  vryrel  yrsmarr1  yrsmarr2  yrsmarr3  \\\n",
       "591        0       0         0       1       0         0         0         1   \n",
       "592        0       0         0       1       0         0         0         1   \n",
       "593        0       1         0       0       0         0         0         0   \n",
       "594        0       0         1       0       0         0         0         0   \n",
       "595        0       1         0       0       0         0         1         0   \n",
       "596        0       0         0       1       0         0         0         0   \n",
       "597        0       0         1       0       0         0         0         0   \n",
       "598        0       1         0       0       0         0         0         0   \n",
       "599        0       0         1       0       0         0         0         0   \n",
       "600        0       1         0       0       0         0         0         1   \n",
       "\n",
       "     yrsmarr4  yrsmarr5  yrsmarr6  \n",
       "591         0         0         0  \n",
       "592         0         0         0  \n",
       "593         0         1         0  \n",
       "594         1         0         0  \n",
       "595         0         0         0  \n",
       "596         0         0         1  \n",
       "597         0         0         1  \n",
       "598         0         1         0  \n",
       "599         0         0         1  \n",
       "600         0         0         0  "
      ]
     },
     "execution_count": 4,
     "metadata": {},
     "output_type": "execute_result"
    }
   ],
   "source": [
    "affair.tail(10)"
   ]
  },
  {
   "cell_type": "code",
   "execution_count": 5,
   "id": "f10c92dd",
   "metadata": {},
   "outputs": [],
   "source": [
    "##removing 0th columns\n",
    "affair = affair.iloc[:,1:]"
   ]
  },
  {
   "cell_type": "code",
   "execution_count": 6,
   "id": "aa2b5da6",
   "metadata": {},
   "outputs": [
    {
     "data": {
      "text/plain": [
       "naffairs    0\n",
       "kids        0\n",
       "vryunhap    0\n",
       "unhap       0\n",
       "avgmarr     0\n",
       "hapavg      0\n",
       "vryhap      0\n",
       "antirel     0\n",
       "notrel      0\n",
       "slghtrel    0\n",
       "smerel      0\n",
       "vryrel      0\n",
       "yrsmarr1    0\n",
       "yrsmarr2    0\n",
       "yrsmarr3    0\n",
       "yrsmarr4    0\n",
       "yrsmarr5    0\n",
       "yrsmarr6    0\n",
       "dtype: int64"
      ]
     },
     "execution_count": 6,
     "metadata": {},
     "output_type": "execute_result"
    }
   ],
   "source": [
    "affair.isna().sum()"
   ]
  },
  {
   "cell_type": "code",
   "execution_count": 7,
   "id": "03763caa",
   "metadata": {},
   "outputs": [
    {
     "data": {
      "text/plain": [
       "Index(['naffairs', 'kids', 'vryunhap', 'unhap', 'avgmarr', 'hapavg', 'vryhap',\n",
       "       'antirel', 'notrel', 'slghtrel', 'smerel', 'vryrel', 'yrsmarr1',\n",
       "       'yrsmarr2', 'yrsmarr3', 'yrsmarr4', 'yrsmarr5', 'yrsmarr6'],\n",
       "      dtype='object')"
      ]
     },
     "execution_count": 7,
     "metadata": {},
     "output_type": "execute_result"
    }
   ],
   "source": [
    "affair.columns"
   ]
  },
  {
   "cell_type": "code",
   "execution_count": 8,
   "id": "3ebf91d4",
   "metadata": {},
   "outputs": [],
   "source": [
    "##descretization \"naffairs\" column <6 as 0 and >=6 as 1\n",
    "affair['naffairs']=(affair['naffairs']>=6 ).astype(int)"
   ]
  },
  {
   "cell_type": "code",
   "execution_count": 9,
   "id": "f1adbc58",
   "metadata": {},
   "outputs": [
    {
     "name": "stdout",
     "output_type": "stream",
     "text": [
      "Optimization terminated successfully.\n",
      "         Current function value: 0.330606\n",
      "         Iterations 7\n"
     ]
    }
   ],
   "source": [
    "##model building #\n",
    "logit_model = sm.logit('naffairs~kids+vryunhap+unhap+avgmarr+hapavg+vryhap+antirel+notrel+slghtrel+smerel+vryrel+yrsmarr1+yrsmarr2+yrsmarr3+yrsmarr4+yrsmarr5+yrsmarr6' , data = affair).fit()"
   ]
  },
  {
   "cell_type": "code",
   "execution_count": 10,
   "id": "371176c4",
   "metadata": {},
   "outputs": [
    {
     "data": {
      "text/html": [
       "<table class=\"simpletable\">\n",
       "<caption>Logit Regression Results</caption>\n",
       "<tr>\n",
       "  <th>Dep. Variable:</th>       <td>naffairs</td>     <th>  No. Observations:  </th>  <td>   601</td>  \n",
       "</tr>\n",
       "<tr>\n",
       "  <th>Model:</th>                 <td>Logit</td>      <th>  Df Residuals:      </th>  <td>   586</td>  \n",
       "</tr>\n",
       "<tr>\n",
       "  <th>Method:</th>                 <td>MLE</td>       <th>  Df Model:          </th>  <td>    14</td>  \n",
       "</tr>\n",
       "<tr>\n",
       "  <th>Date:</th>            <td>Mon, 29 Aug 2022</td> <th>  Pseudo R-squ.:     </th>  <td>0.1572</td>  \n",
       "</tr>\n",
       "<tr>\n",
       "  <th>Time:</th>                <td>21:18:08</td>     <th>  Log-Likelihood:    </th> <td> -198.69</td> \n",
       "</tr>\n",
       "<tr>\n",
       "  <th>converged:</th>             <td>True</td>       <th>  LL-Null:           </th> <td> -235.75</td> \n",
       "</tr>\n",
       "<tr>\n",
       "  <th>Covariance Type:</th>     <td>nonrobust</td>    <th>  LLR p-value:       </th> <td>3.449e-10</td>\n",
       "</tr>\n",
       "</table>\n",
       "<table class=\"simpletable\">\n",
       "<tr>\n",
       "      <td></td>         <th>coef</th>     <th>std err</th>      <th>z</th>      <th>P>|z|</th>  <th>[0.025</th>    <th>0.975]</th>  \n",
       "</tr>\n",
       "<tr>\n",
       "  <th>Intercept</th> <td>   -1.0619</td> <td>      nan</td> <td>      nan</td> <td>   nan</td> <td>      nan</td> <td>      nan</td>\n",
       "</tr>\n",
       "<tr>\n",
       "  <th>kids</th>      <td>   -0.4678</td> <td>    0.415</td> <td>   -1.126</td> <td> 0.260</td> <td>   -1.282</td> <td>    0.347</td>\n",
       "</tr>\n",
       "<tr>\n",
       "  <th>vryunhap</th>  <td>    0.3007</td> <td> 8.89e+06</td> <td> 3.38e-08</td> <td> 1.000</td> <td>-1.74e+07</td> <td> 1.74e+07</td>\n",
       "</tr>\n",
       "<tr>\n",
       "  <th>unhap</th>     <td>    0.7714</td> <td> 8.89e+06</td> <td> 8.67e-08</td> <td> 1.000</td> <td>-1.74e+07</td> <td> 1.74e+07</td>\n",
       "</tr>\n",
       "<tr>\n",
       "  <th>avgmarr</th>   <td>   -0.4104</td> <td> 8.89e+06</td> <td>-4.61e-08</td> <td> 1.000</td> <td>-1.74e+07</td> <td> 1.74e+07</td>\n",
       "</tr>\n",
       "<tr>\n",
       "  <th>hapavg</th>    <td>   -0.5855</td> <td> 8.89e+06</td> <td>-6.58e-08</td> <td> 1.000</td> <td>-1.74e+07</td> <td> 1.74e+07</td>\n",
       "</tr>\n",
       "<tr>\n",
       "  <th>vryhap</th>    <td>   -1.1381</td> <td> 8.89e+06</td> <td>-1.28e-07</td> <td> 1.000</td> <td>-1.74e+07</td> <td> 1.74e+07</td>\n",
       "</tr>\n",
       "<tr>\n",
       "  <th>antirel</th>   <td>    0.7474</td> <td> 1.33e+07</td> <td> 5.62e-08</td> <td> 1.000</td> <td>-2.61e+07</td> <td> 2.61e+07</td>\n",
       "</tr>\n",
       "<tr>\n",
       "  <th>notrel</th>    <td>    0.0096</td> <td> 1.33e+07</td> <td>  7.2e-10</td> <td> 1.000</td> <td>-2.61e+07</td> <td> 2.61e+07</td>\n",
       "</tr>\n",
       "<tr>\n",
       "  <th>slghtrel</th>  <td>    0.1645</td> <td> 1.33e+07</td> <td> 1.24e-08</td> <td> 1.000</td> <td>-2.61e+07</td> <td> 2.61e+07</td>\n",
       "</tr>\n",
       "<tr>\n",
       "  <th>smerel</th>    <td>   -1.1152</td> <td> 1.33e+07</td> <td>-8.39e-08</td> <td> 1.000</td> <td>-2.61e+07</td> <td> 2.61e+07</td>\n",
       "</tr>\n",
       "<tr>\n",
       "  <th>vryrel</th>    <td>   -0.8682</td> <td> 1.33e+07</td> <td>-6.53e-08</td> <td> 1.000</td> <td>-2.61e+07</td> <td> 2.61e+07</td>\n",
       "</tr>\n",
       "<tr>\n",
       "  <th>yrsmarr1</th>  <td>   -1.2054</td> <td> 1.17e+07</td> <td>-1.03e-07</td> <td> 1.000</td> <td>-2.29e+07</td> <td> 2.29e+07</td>\n",
       "</tr>\n",
       "<tr>\n",
       "  <th>yrsmarr2</th>  <td>   -1.5317</td> <td> 1.17e+07</td> <td>-1.31e-07</td> <td> 1.000</td> <td>-2.29e+07</td> <td> 2.29e+07</td>\n",
       "</tr>\n",
       "<tr>\n",
       "  <th>yrsmarr3</th>  <td>   -0.1509</td> <td> 1.17e+07</td> <td>-1.29e-08</td> <td> 1.000</td> <td>-2.29e+07</td> <td> 2.29e+07</td>\n",
       "</tr>\n",
       "<tr>\n",
       "  <th>yrsmarr4</th>  <td>    0.2363</td> <td> 1.17e+07</td> <td> 2.02e-08</td> <td> 1.000</td> <td>-2.29e+07</td> <td> 2.29e+07</td>\n",
       "</tr>\n",
       "<tr>\n",
       "  <th>yrsmarr5</th>  <td>    0.8162</td> <td> 1.17e+07</td> <td> 6.97e-08</td> <td> 1.000</td> <td>-2.29e+07</td> <td> 2.29e+07</td>\n",
       "</tr>\n",
       "<tr>\n",
       "  <th>yrsmarr6</th>  <td>    0.7735</td> <td> 1.17e+07</td> <td> 6.61e-08</td> <td> 1.000</td> <td>-2.29e+07</td> <td> 2.29e+07</td>\n",
       "</tr>\n",
       "</table>"
      ],
      "text/plain": [
       "<class 'statsmodels.iolib.summary.Summary'>\n",
       "\"\"\"\n",
       "                           Logit Regression Results                           \n",
       "==============================================================================\n",
       "Dep. Variable:               naffairs   No. Observations:                  601\n",
       "Model:                          Logit   Df Residuals:                      586\n",
       "Method:                           MLE   Df Model:                           14\n",
       "Date:                Mon, 29 Aug 2022   Pseudo R-squ.:                  0.1572\n",
       "Time:                        21:18:08   Log-Likelihood:                -198.69\n",
       "converged:                       True   LL-Null:                       -235.75\n",
       "Covariance Type:            nonrobust   LLR p-value:                 3.449e-10\n",
       "==============================================================================\n",
       "                 coef    std err          z      P>|z|      [0.025      0.975]\n",
       "------------------------------------------------------------------------------\n",
       "Intercept     -1.0619        nan        nan        nan         nan         nan\n",
       "kids          -0.4678      0.415     -1.126      0.260      -1.282       0.347\n",
       "vryunhap       0.3007   8.89e+06   3.38e-08      1.000   -1.74e+07    1.74e+07\n",
       "unhap          0.7714   8.89e+06   8.67e-08      1.000   -1.74e+07    1.74e+07\n",
       "avgmarr       -0.4104   8.89e+06  -4.61e-08      1.000   -1.74e+07    1.74e+07\n",
       "hapavg        -0.5855   8.89e+06  -6.58e-08      1.000   -1.74e+07    1.74e+07\n",
       "vryhap        -1.1381   8.89e+06  -1.28e-07      1.000   -1.74e+07    1.74e+07\n",
       "antirel        0.7474   1.33e+07   5.62e-08      1.000   -2.61e+07    2.61e+07\n",
       "notrel         0.0096   1.33e+07    7.2e-10      1.000   -2.61e+07    2.61e+07\n",
       "slghtrel       0.1645   1.33e+07   1.24e-08      1.000   -2.61e+07    2.61e+07\n",
       "smerel        -1.1152   1.33e+07  -8.39e-08      1.000   -2.61e+07    2.61e+07\n",
       "vryrel        -0.8682   1.33e+07  -6.53e-08      1.000   -2.61e+07    2.61e+07\n",
       "yrsmarr1      -1.2054   1.17e+07  -1.03e-07      1.000   -2.29e+07    2.29e+07\n",
       "yrsmarr2      -1.5317   1.17e+07  -1.31e-07      1.000   -2.29e+07    2.29e+07\n",
       "yrsmarr3      -0.1509   1.17e+07  -1.29e-08      1.000   -2.29e+07    2.29e+07\n",
       "yrsmarr4       0.2363   1.17e+07   2.02e-08      1.000   -2.29e+07    2.29e+07\n",
       "yrsmarr5       0.8162   1.17e+07   6.97e-08      1.000   -2.29e+07    2.29e+07\n",
       "yrsmarr6       0.7735   1.17e+07   6.61e-08      1.000   -2.29e+07    2.29e+07\n",
       "==============================================================================\n",
       "\"\"\""
      ]
     },
     "execution_count": 10,
     "metadata": {},
     "output_type": "execute_result"
    }
   ],
   "source": [
    "#summary #\n",
    "logit_model.summary2()\n",
    "logit_model.summary()"
   ]
  },
  {
   "cell_type": "code",
   "execution_count": 11,
   "id": "5848e3d2",
   "metadata": {},
   "outputs": [],
   "source": [
    "pred = logit_model.predict(affair.iloc[: , 1:])"
   ]
  },
  {
   "cell_type": "code",
   "execution_count": 12,
   "id": "e69547bd",
   "metadata": {},
   "outputs": [
    {
     "data": {
      "text/plain": [
       "0.1628475006948961"
      ]
     },
     "execution_count": 12,
     "metadata": {},
     "output_type": "execute_result"
    }
   ],
   "source": [
    "fpr,tpr,thresholds = roc_curve(affair.naffairs,pred)\n",
    "optimal_idx =np.argmax(tpr-fpr)\n",
    "optimal_threshold = thresholds[optimal_idx]\n",
    "optimal_threshold"
   ]
  },
  {
   "cell_type": "code",
   "execution_count": 13,
   "id": "5e6035f1",
   "metadata": {},
   "outputs": [],
   "source": [
    "import pylab as pl"
   ]
  },
  {
   "cell_type": "code",
   "execution_count": 14,
   "id": "f5883c77",
   "metadata": {},
   "outputs": [
    {
     "data": {
      "text/html": [
       "<div>\n",
       "<style scoped>\n",
       "    .dataframe tbody tr th:only-of-type {\n",
       "        vertical-align: middle;\n",
       "    }\n",
       "\n",
       "    .dataframe tbody tr th {\n",
       "        vertical-align: top;\n",
       "    }\n",
       "\n",
       "    .dataframe thead th {\n",
       "        text-align: right;\n",
       "    }\n",
       "</style>\n",
       "<table border=\"1\" class=\"dataframe\">\n",
       "  <thead>\n",
       "    <tr style=\"text-align: right;\">\n",
       "      <th></th>\n",
       "      <th>fpr</th>\n",
       "      <th>tpr</th>\n",
       "      <th>1-fpr</th>\n",
       "      <th>tf</th>\n",
       "      <th>thresholds</th>\n",
       "    </tr>\n",
       "  </thead>\n",
       "  <tbody>\n",
       "    <tr>\n",
       "      <th>53</th>\n",
       "      <td>0.297505</td>\n",
       "      <td>0.7</td>\n",
       "      <td>0.702495</td>\n",
       "      <td>-0.002495</td>\n",
       "      <td>0.140325</td>\n",
       "    </tr>\n",
       "  </tbody>\n",
       "</table>\n",
       "</div>"
      ],
      "text/plain": [
       "         fpr  tpr     1-fpr        tf  thresholds\n",
       "53  0.297505  0.7  0.702495 -0.002495    0.140325"
      ]
     },
     "execution_count": 14,
     "metadata": {},
     "output_type": "execute_result"
    }
   ],
   "source": [
    "i = np.arange(len(tpr))\n",
    "roc = pd.DataFrame({'fpr':pd.Series(fpr,index=i),'tpr':pd.Series(tpr,index=i), '1-fpr':pd.Series(1-fpr,index=i),'tf': pd.Series(tpr-(1-fpr),index=i), 'thresholds':pd.Series(thresholds,index= i)})\n",
    "roc.iloc[(roc.tf-0).abs().argsort()[:1]]"
   ]
  },
  {
   "cell_type": "code",
   "execution_count": 15,
   "id": "91550244",
   "metadata": {},
   "outputs": [
    {
     "data": {
      "text/plain": [
       "[Text(-20.0, 0, ''),\n",
       " Text(0.0, 0, ''),\n",
       " Text(20.0, 0, ''),\n",
       " Text(40.0, 0, ''),\n",
       " Text(60.0, 0, ''),\n",
       " Text(80.0, 0, ''),\n",
       " Text(100.0, 0, ''),\n",
       " Text(120.0, 0, ''),\n",
       " Text(140.0, 0, ''),\n",
       " Text(160.0, 0, '')]"
      ]
     },
     "execution_count": 15,
     "metadata": {},
     "output_type": "execute_result"
    },
    {
     "data": {
      "image/png": "[encoded data removed]",
      "text/plain": [
       "<Figure size 432x288 with 1 Axes>"
      ]
     },
     "metadata": {
      "needs_background": "light"
     },
     "output_type": "display_data"
    }
   ],
   "source": [
    "##plotting tpr vs 1-fpr\n",
    "fig, ax= pl.subplots()\n",
    "pl.plot(roc['tpr'], color = 'red')\n",
    "pl.plot(roc['1-fpr'], color = 'blue')\n",
    "pl.xlabel('1-False positive rate')\n",
    "pl.ylabel('True positive rate')\n",
    "pl.title('Reciever operating characteristic')\n",
    "ax.set_xticklabels([])"
   ]
  },
  {
   "cell_type": "code",
   "execution_count": 16,
   "id": "35e7406d",
   "metadata": {},
   "outputs": [
    {
     "name": "stdout",
     "output_type": "stream",
     "text": [
      "Area under the ROC curve:0.772061\n"
     ]
    }
   ],
   "source": [
    "roc_auc = auc(fpr,tpr)\n",
    "print('Area under the ROC curve:%f'% roc_auc)"
   ]
  },
  {
   "cell_type": "code",
   "execution_count": 17,
   "id": "4c7e9521",
   "metadata": {},
   "outputs": [],
   "source": [
    "##filling all cell with zeros#\n",
    "affair['pred']=np.zeros(601)"
   ]
  },
  {
   "cell_type": "code",
   "execution_count": 18,
   "id": "eef3c1fc",
   "metadata": {},
   "outputs": [],
   "source": [
    "##taking threshold values# and above the prob value will be taken as correct value#\n",
    "affair.loc[pred>optimal_threshold,'pred']=1"
   ]
  },
  {
   "cell_type": "code",
   "execution_count": 19,
   "id": "3825d1cf",
   "metadata": {},
   "outputs": [
    {
     "name": "stdout",
     "output_type": "stream",
     "text": [
      "              precision    recall  f1-score   support\n",
      "\n",
      "         0.0       0.75      0.94      0.83       415\n",
      "         1.0       0.68      0.29      0.41       186\n",
      "\n",
      "    accuracy                           0.74       601\n",
      "   macro avg       0.71      0.61      0.62       601\n",
      "weighted avg       0.72      0.74      0.70       601\n",
      "\n"
     ]
    }
   ],
   "source": [
    "##classification report#\n",
    "classification = classification_report(affair['pred'], affair['naffairs'])\n",
    "print(classification)"
   ]
  },
  {
   "cell_type": "code",
   "execution_count": 20,
   "id": "f5de389c",
   "metadata": {},
   "outputs": [],
   "source": [
    "###splitting into test nd train data#\n",
    "train_data , test_data = train_test_split(affair, test_size=0.3)"
   ]
  },
  {
   "cell_type": "code",
   "execution_count": 21,
   "id": "98121806",
   "metadata": {},
   "outputs": [
    {
     "name": "stdout",
     "output_type": "stream",
     "text": [
      "Optimization terminated successfully.\n",
      "         Current function value: 0.334353\n",
      "         Iterations 8\n"
     ]
    }
   ],
   "source": [
    "model = sm.logit('naffairs~kids+vryunhap+unhap+avgmarr+hapavg+vryhap+antirel+notrel+slghtrel+smerel+vryrel+yrsmarr1+yrsmarr2+yrsmarr3+yrsmarr4+yrsmarr5+yrsmarr6' , data = train_data).fit()"
   ]
  },
  {
   "cell_type": "code",
   "execution_count": 22,
   "id": "bcb2b7ad",
   "metadata": {},
   "outputs": [
    {
     "data": {
      "text/html": [
       "<table class=\"simpletable\">\n",
       "<caption>Logit Regression Results</caption>\n",
       "<tr>\n",
       "  <th>Dep. Variable:</th>       <td>naffairs</td>     <th>  No. Observations:  </th>  <td>   420</td>  \n",
       "</tr>\n",
       "<tr>\n",
       "  <th>Model:</th>                 <td>Logit</td>      <th>  Df Residuals:      </th>  <td>   405</td>  \n",
       "</tr>\n",
       "<tr>\n",
       "  <th>Method:</th>                 <td>MLE</td>       <th>  Df Model:          </th>  <td>    14</td>  \n",
       "</tr>\n",
       "<tr>\n",
       "  <th>Date:</th>            <td>Mon, 29 Aug 2022</td> <th>  Pseudo R-squ.:     </th>  <td>0.1761</td>  \n",
       "</tr>\n",
       "<tr>\n",
       "  <th>Time:</th>                <td>21:18:19</td>     <th>  Log-Likelihood:    </th> <td> -140.43</td> \n",
       "</tr>\n",
       "<tr>\n",
       "  <th>converged:</th>             <td>True</td>       <th>  LL-Null:           </th> <td> -170.45</td> \n",
       "</tr>\n",
       "<tr>\n",
       "  <th>Covariance Type:</th>     <td>nonrobust</td>    <th>  LLR p-value:       </th> <td>1.155e-07</td>\n",
       "</tr>\n",
       "</table>\n",
       "<table class=\"simpletable\">\n",
       "<tr>\n",
       "      <td></td>         <th>coef</th>     <th>std err</th>      <th>z</th>      <th>P>|z|</th>  <th>[0.025</th>    <th>0.975]</th>  \n",
       "</tr>\n",
       "<tr>\n",
       "  <th>Intercept</th> <td>   -0.9729</td> <td>      nan</td> <td>      nan</td> <td>   nan</td> <td>      nan</td> <td>      nan</td>\n",
       "</tr>\n",
       "<tr>\n",
       "  <th>kids</th>      <td>   -0.5792</td> <td>    0.495</td> <td>   -1.171</td> <td> 0.242</td> <td>   -1.549</td> <td>    0.390</td>\n",
       "</tr>\n",
       "<tr>\n",
       "  <th>vryunhap</th>  <td>    0.5218</td> <td>      nan</td> <td>      nan</td> <td>   nan</td> <td>      nan</td> <td>      nan</td>\n",
       "</tr>\n",
       "<tr>\n",
       "  <th>unhap</th>     <td>    0.8605</td> <td>      nan</td> <td>      nan</td> <td>   nan</td> <td>      nan</td> <td>      nan</td>\n",
       "</tr>\n",
       "<tr>\n",
       "  <th>avgmarr</th>   <td>   -0.3766</td> <td>      nan</td> <td>      nan</td> <td>   nan</td> <td>      nan</td> <td>      nan</td>\n",
       "</tr>\n",
       "<tr>\n",
       "  <th>hapavg</th>    <td>   -0.7087</td> <td>      nan</td> <td>      nan</td> <td>   nan</td> <td>      nan</td> <td>      nan</td>\n",
       "</tr>\n",
       "<tr>\n",
       "  <th>vryhap</th>    <td>   -1.2700</td> <td>      nan</td> <td>      nan</td> <td>   nan</td> <td>      nan</td> <td>      nan</td>\n",
       "</tr>\n",
       "<tr>\n",
       "  <th>antirel</th>   <td>    0.7495</td> <td>      nan</td> <td>      nan</td> <td>   nan</td> <td>      nan</td> <td>      nan</td>\n",
       "</tr>\n",
       "<tr>\n",
       "  <th>notrel</th>    <td>   -0.0032</td> <td>      nan</td> <td>      nan</td> <td>   nan</td> <td>      nan</td> <td>      nan</td>\n",
       "</tr>\n",
       "<tr>\n",
       "  <th>slghtrel</th>  <td>    0.0686</td> <td>      nan</td> <td>      nan</td> <td>   nan</td> <td>      nan</td> <td>      nan</td>\n",
       "</tr>\n",
       "<tr>\n",
       "  <th>smerel</th>    <td>   -1.0613</td> <td>      nan</td> <td>      nan</td> <td>   nan</td> <td>      nan</td> <td>      nan</td>\n",
       "</tr>\n",
       "<tr>\n",
       "  <th>vryrel</th>    <td>   -0.7265</td> <td>      nan</td> <td>      nan</td> <td>   nan</td> <td>      nan</td> <td>      nan</td>\n",
       "</tr>\n",
       "<tr>\n",
       "  <th>yrsmarr1</th>  <td>   -1.4610</td> <td>      nan</td> <td>      nan</td> <td>   nan</td> <td>      nan</td> <td>      nan</td>\n",
       "</tr>\n",
       "<tr>\n",
       "  <th>yrsmarr2</th>  <td>   -1.6172</td> <td>      nan</td> <td>      nan</td> <td>   nan</td> <td>      nan</td> <td>      nan</td>\n",
       "</tr>\n",
       "<tr>\n",
       "  <th>yrsmarr3</th>  <td>   -0.1080</td> <td>      nan</td> <td>      nan</td> <td>   nan</td> <td>      nan</td> <td>      nan</td>\n",
       "</tr>\n",
       "<tr>\n",
       "  <th>yrsmarr4</th>  <td>    0.5586</td> <td>      nan</td> <td>      nan</td> <td>   nan</td> <td>      nan</td> <td>      nan</td>\n",
       "</tr>\n",
       "<tr>\n",
       "  <th>yrsmarr5</th>  <td>    0.8638</td> <td>      nan</td> <td>      nan</td> <td>   nan</td> <td>      nan</td> <td>      nan</td>\n",
       "</tr>\n",
       "<tr>\n",
       "  <th>yrsmarr6</th>  <td>    0.7910</td> <td>      nan</td> <td>      nan</td> <td>   nan</td> <td>      nan</td> <td>      nan</td>\n",
       "</tr>\n",
       "</table>"
      ],
      "text/plain": [
       "<class 'statsmodels.iolib.summary.Summary'>\n",
       "\"\"\"\n",
       "                           Logit Regression Results                           \n",
       "==============================================================================\n",
       "Dep. Variable:               naffairs   No. Observations:                  420\n",
       "Model:                          Logit   Df Residuals:                      405\n",
       "Method:                           MLE   Df Model:                           14\n",
       "Date:                Mon, 29 Aug 2022   Pseudo R-squ.:                  0.1761\n",
       "Time:                        21:18:19   Log-Likelihood:                -140.43\n",
       "converged:                       True   LL-Null:                       -170.45\n",
       "Covariance Type:            nonrobust   LLR p-value:                 1.155e-07\n",
       "==============================================================================\n",
       "                 coef    std err          z      P>|z|      [0.025      0.975]\n",
       "------------------------------------------------------------------------------\n",
       "Intercept     -0.9729        nan        nan        nan         nan         nan\n",
       "kids          -0.5792      0.495     -1.171      0.242      -1.549       0.390\n",
       "vryunhap       0.5218        nan        nan        nan         nan         nan\n",
       "unhap          0.8605        nan        nan        nan         nan         nan\n",
       "avgmarr       -0.3766        nan        nan        nan         nan         nan\n",
       "hapavg        -0.7087        nan        nan        nan         nan         nan\n",
       "vryhap        -1.2700        nan        nan        nan         nan         nan\n",
       "antirel        0.7495        nan        nan        nan         nan         nan\n",
       "notrel        -0.0032        nan        nan        nan         nan         nan\n",
       "slghtrel       0.0686        nan        nan        nan         nan         nan\n",
       "smerel        -1.0613        nan        nan        nan         nan         nan\n",
       "vryrel        -0.7265        nan        nan        nan         nan         nan\n",
       "yrsmarr1      -1.4610        nan        nan        nan         nan         nan\n",
       "yrsmarr2      -1.6172        nan        nan        nan         nan         nan\n",
       "yrsmarr3      -0.1080        nan        nan        nan         nan         nan\n",
       "yrsmarr4       0.5586        nan        nan        nan         nan         nan\n",
       "yrsmarr5       0.8638        nan        nan        nan         nan         nan\n",
       "yrsmarr6       0.7910        nan        nan        nan         nan         nan\n",
       "==============================================================================\n",
       "\"\"\""
      ]
     },
     "execution_count": 22,
     "metadata": {},
     "output_type": "execute_result"
    }
   ],
   "source": [
    "model.summary2\n",
    "model.summary()"
   ]
  },
  {
   "cell_type": "code",
   "execution_count": 23,
   "id": "c35fbcfa",
   "metadata": {},
   "outputs": [],
   "source": [
    "#prediction on test data#\n",
    "test_pred  = model.predict(test_data.iloc[:,1:])"
   ]
  },
  {
   "cell_type": "code",
   "execution_count": 24,
   "id": "c4ddb1e7",
   "metadata": {},
   "outputs": [],
   "source": [
    "##creating new column for storing prediction#\n",
    "#filling all the cell with zeros\n",
    "test_data['test_pred'] = np.zeros(181)"
   ]
  },
  {
   "cell_type": "code",
   "execution_count": 25,
   "id": "dab46f3c",
   "metadata": {},
   "outputs": [],
   "source": [
    "# taking threshold value as 'optimal_threshold' and above the thresold prob value will be treated as 1 #\n",
    "test_data.loc[test_pred>optimal_threshold,'test_pred']=1\n"
   ]
  },
  {
   "cell_type": "code",
   "execution_count": 26,
   "id": "2965a17c",
   "metadata": {},
   "outputs": [
    {
     "data": {
      "text/html": [
       "<div>\n",
       "<style scoped>\n",
       "    .dataframe tbody tr th:only-of-type {\n",
       "        vertical-align: middle;\n",
       "    }\n",
       "\n",
       "    .dataframe tbody tr th {\n",
       "        vertical-align: top;\n",
       "    }\n",
       "\n",
       "    .dataframe thead th {\n",
       "        text-align: right;\n",
       "    }\n",
       "</style>\n",
       "<table border=\"1\" class=\"dataframe\">\n",
       "  <thead>\n",
       "    <tr style=\"text-align: right;\">\n",
       "      <th>naffairs</th>\n",
       "      <th>0</th>\n",
       "      <th>1</th>\n",
       "    </tr>\n",
       "    <tr>\n",
       "      <th>test_pred</th>\n",
       "      <th></th>\n",
       "      <th></th>\n",
       "    </tr>\n",
       "  </thead>\n",
       "  <tbody>\n",
       "    <tr>\n",
       "      <th>0.0</th>\n",
       "      <td>121</td>\n",
       "      <td>7</td>\n",
       "    </tr>\n",
       "    <tr>\n",
       "      <th>1.0</th>\n",
       "      <td>39</td>\n",
       "      <td>14</td>\n",
       "    </tr>\n",
       "  </tbody>\n",
       "</table>\n",
       "</div>"
      ],
      "text/plain": [
       "naffairs     0   1\n",
       "test_pred         \n",
       "0.0        121   7\n",
       "1.0         39  14"
      ]
     },
     "execution_count": 26,
     "metadata": {},
     "output_type": "execute_result"
    }
   ],
   "source": [
    "##confusion matrix#\n",
    "confusion_matrix =  pd.crosstab(test_data.test_pred, test_data['naffairs'])\n",
    "confusion_matrix"
   ]
  },
  {
   "cell_type": "code",
   "execution_count": 27,
   "id": "64539512",
   "metadata": {},
   "outputs": [
    {
     "data": {
      "text/plain": [
       "0.7458563535911602"
      ]
     },
     "execution_count": 27,
     "metadata": {},
     "output_type": "execute_result"
    }
   ],
   "source": [
    "accuracy_test  = accuracy_score(test_data['naffairs'], test_data.test_pred)\n",
    "accuracy_test"
   ]
  },
  {
   "cell_type": "code",
   "execution_count": 28,
   "id": "616b7a0a",
   "metadata": {},
   "outputs": [
    {
     "name": "stdout",
     "output_type": "stream",
     "text": [
      "              precision    recall  f1-score   support\n",
      "\n",
      "         0.0       0.76      0.95      0.84       128\n",
      "         1.0       0.67      0.26      0.38        53\n",
      "\n",
      "    accuracy                           0.75       181\n",
      "   macro avg       0.71      0.60      0.61       181\n",
      "weighted avg       0.73      0.75      0.71       181\n",
      "\n"
     ]
    }
   ],
   "source": [
    "##classification report#\n",
    "classification = classification_report(test_data['test_pred'], test_data['naffairs'])\n",
    "print(classification)"
   ]
  },
  {
   "cell_type": "code",
   "execution_count": 35,
   "id": "5a60d97b",
   "metadata": {},
   "outputs": [],
   "source": [
    "##roc curve and AUC#\n",
    "fpr,tpr,threshold = metrics.roc_curve(test_data['naffairs'],test_pred)"
   ]
  },
  {
   "cell_type": "code",
   "execution_count": 36,
   "id": "9bb6575c",
   "metadata": {},
   "outputs": [
    {
     "data": {
      "text/plain": [
       "Text(0, 0.5, 'True positive rate')"
      ]
     },
     "execution_count": 36,
     "metadata": {},
     "output_type": "execute_result"
    },
    {
     "data": {
      "image/png": "[encoded data removed]",
      "text/plain": [
       "<Figure size 432x288 with 1 Axes>"
      ]
     },
     "metadata": {
      "needs_background": "light"
     },
     "output_type": "display_data"
    }
   ],
   "source": [
    "##ROC plot#\n",
    "plt.plot(fpr,tpr);plt.xlabel(\"False positive rate\");plt.ylabel(\"True positive rate\")"
   ]
  },
  {
   "cell_type": "code",
   "execution_count": 37,
   "id": "39b37fb9",
   "metadata": {},
   "outputs": [
    {
     "data": {
      "text/plain": [
       "0.7340773809523811"
      ]
     },
     "execution_count": 37,
     "metadata": {},
     "output_type": "execute_result"
    }
   ],
   "source": [
    "roc_auc_test = metrics.auc(fpr,tpr)\n",
    "roc_auc_test"
   ]
  },
  {
   "cell_type": "code",
   "execution_count": 38,
   "id": "73af0c7e",
   "metadata": {},
   "outputs": [],
   "source": [
    "##prediction on test data#\n",
    "train_pred = model.predict(train_data.iloc[:,1:])"
   ]
  },
  {
   "cell_type": "code",
   "execution_count": 39,
   "id": "fbd4e533",
   "metadata": {},
   "outputs": [],
   "source": [
    "##create new columns#\n",
    "##filling all  the cell with colums#\n",
    "train_data['train_pred'] = np.zeros(420)"
   ]
  },
  {
   "cell_type": "code",
   "execution_count": 40,
   "id": "9a256fb0",
   "metadata": {},
   "outputs": [],
   "source": [
    "# taking threshold value and above the prob value will be treated as correct value #\n",
    "train_data.loc[train_pred>optimal_threshold, 'train_pred'] =1"
   ]
  },
  {
   "cell_type": "code",
   "execution_count": 41,
   "id": "31c4cab3",
   "metadata": {},
   "outputs": [
    {
     "data": {
      "text/html": [
       "<div>\n",
       "<style scoped>\n",
       "    .dataframe tbody tr th:only-of-type {\n",
       "        vertical-align: middle;\n",
       "    }\n",
       "\n",
       "    .dataframe tbody tr th {\n",
       "        vertical-align: top;\n",
       "    }\n",
       "\n",
       "    .dataframe thead th {\n",
       "        text-align: right;\n",
       "    }\n",
       "</style>\n",
       "<table border=\"1\" class=\"dataframe\">\n",
       "  <thead>\n",
       "    <tr style=\"text-align: right;\">\n",
       "      <th>naffairs</th>\n",
       "      <th>0</th>\n",
       "      <th>1</th>\n",
       "    </tr>\n",
       "    <tr>\n",
       "      <th>train_pred</th>\n",
       "      <th></th>\n",
       "      <th></th>\n",
       "    </tr>\n",
       "  </thead>\n",
       "  <tbody>\n",
       "    <tr>\n",
       "      <th>0.0</th>\n",
       "      <td>260</td>\n",
       "      <td>19</td>\n",
       "    </tr>\n",
       "    <tr>\n",
       "      <th>1.0</th>\n",
       "      <td>101</td>\n",
       "      <td>40</td>\n",
       "    </tr>\n",
       "  </tbody>\n",
       "</table>\n",
       "</div>"
      ],
      "text/plain": [
       "naffairs      0   1\n",
       "train_pred         \n",
       "0.0         260  19\n",
       "1.0         101  40"
      ]
     },
     "execution_count": 41,
     "metadata": {},
     "output_type": "execute_result"
    }
   ],
   "source": [
    "##confusion matrix#\n",
    "confusion_matrix = pd.crosstab(train_data.train_pred, train_data['naffairs'])\n",
    "confusion_matrix"
   ]
  },
  {
   "cell_type": "code",
   "execution_count": 42,
   "id": "99f9c442",
   "metadata": {},
   "outputs": [
    {
     "data": {
      "text/plain": [
       "0.7142857142857143"
      ]
     },
     "execution_count": 42,
     "metadata": {},
     "output_type": "execute_result"
    }
   ],
   "source": [
    "##accuracy score#\n",
    "accuracy_train = accuracy_score(train_data['naffairs'], train_data.train_pred)\n",
    "accuracy_train"
   ]
  },
  {
   "cell_type": "markdown",
   "id": "864528e6",
   "metadata": {},
   "source": [
    "PROBLEM 2#"
   ]
  },
  {
   "cell_type": "code",
   "execution_count": 1,
   "id": "d5a0e30d",
   "metadata": {},
   "outputs": [],
   "source": [
    "import pandas as pd\n",
    "import numpy as np\n",
    "import matplotlib.pyplot as plt\n",
    "import statsmodels.formula.api as sm\n",
    "from sklearn.model_selection import train_test_split # train and test \n",
    "from sklearn import metrics\n",
    "from sklearn.metrics import roc_curve, auc\n",
    "from sklearn.metrics import classification_report\n",
    "from sklearn.metrics import accuracy_score"
   ]
  },
  {
   "cell_type": "code",
   "execution_count": 2,
   "id": "b772b4a0",
   "metadata": {},
   "outputs": [],
   "source": [
    "##LOADING DATASET#\n",
    "ads= pd.read_csv('D:\\\\DATA SCIENCE ASSIGNMENT\\\\Datasets_LR\\\\advertising.csv',sep = \",\" )"
   ]
  },
  {
   "cell_type": "code",
   "execution_count": 3,
   "id": "27b8b67d",
   "metadata": {},
   "outputs": [
    {
     "data": {
      "text/html": [
       "<div>\n",
       "<style scoped>\n",
       "    .dataframe tbody tr th:only-of-type {\n",
       "        vertical-align: middle;\n",
       "    }\n",
       "\n",
       "    .dataframe tbody tr th {\n",
       "        vertical-align: top;\n",
       "    }\n",
       "\n",
       "    .dataframe thead th {\n",
       "        text-align: right;\n",
       "    }\n",
       "</style>\n",
       "<table border=\"1\" class=\"dataframe\">\n",
       "  <thead>\n",
       "    <tr style=\"text-align: right;\">\n",
       "      <th></th>\n",
       "      <th>Daily_Time_ Spent _on_Site</th>\n",
       "      <th>Age</th>\n",
       "      <th>Area_Income</th>\n",
       "      <th>Daily Internet Usage</th>\n",
       "      <th>Ad_Topic_Line</th>\n",
       "      <th>City</th>\n",
       "      <th>Male</th>\n",
       "      <th>Country</th>\n",
       "      <th>Timestamp</th>\n",
       "      <th>Clicked_on_Ad</th>\n",
       "    </tr>\n",
       "  </thead>\n",
       "  <tbody>\n",
       "    <tr>\n",
       "      <th>0</th>\n",
       "      <td>68.95</td>\n",
       "      <td>35</td>\n",
       "      <td>61833.90</td>\n",
       "      <td>256.09</td>\n",
       "      <td>Cloned 5thgeneration orchestration</td>\n",
       "      <td>Wrightburgh</td>\n",
       "      <td>0</td>\n",
       "      <td>Tunisia</td>\n",
       "      <td>27/03/2016 0:53</td>\n",
       "      <td>0</td>\n",
       "    </tr>\n",
       "    <tr>\n",
       "      <th>1</th>\n",
       "      <td>80.23</td>\n",
       "      <td>31</td>\n",
       "      <td>68441.85</td>\n",
       "      <td>193.77</td>\n",
       "      <td>Monitored national standardization</td>\n",
       "      <td>West Jodi</td>\n",
       "      <td>1</td>\n",
       "      <td>Nauru</td>\n",
       "      <td>4/04/2016 1:39</td>\n",
       "      <td>0</td>\n",
       "    </tr>\n",
       "    <tr>\n",
       "      <th>2</th>\n",
       "      <td>69.47</td>\n",
       "      <td>26</td>\n",
       "      <td>59785.94</td>\n",
       "      <td>236.50</td>\n",
       "      <td>Organic bottom-line service-desk</td>\n",
       "      <td>Davidton</td>\n",
       "      <td>0</td>\n",
       "      <td>San Marino</td>\n",
       "      <td>13/03/2016 20:35</td>\n",
       "      <td>0</td>\n",
       "    </tr>\n",
       "    <tr>\n",
       "      <th>3</th>\n",
       "      <td>74.15</td>\n",
       "      <td>29</td>\n",
       "      <td>54806.18</td>\n",
       "      <td>245.89</td>\n",
       "      <td>Triple-buffered reciprocal time-frame</td>\n",
       "      <td>West Terrifurt</td>\n",
       "      <td>1</td>\n",
       "      <td>Italy</td>\n",
       "      <td>10/01/2016 2:31</td>\n",
       "      <td>0</td>\n",
       "    </tr>\n",
       "    <tr>\n",
       "      <th>4</th>\n",
       "      <td>68.37</td>\n",
       "      <td>35</td>\n",
       "      <td>73889.99</td>\n",
       "      <td>225.58</td>\n",
       "      <td>Robust logistical utilization</td>\n",
       "      <td>South Manuel</td>\n",
       "      <td>0</td>\n",
       "      <td>Iceland</td>\n",
       "      <td>3/06/2016 3:36</td>\n",
       "      <td>0</td>\n",
       "    </tr>\n",
       "    <tr>\n",
       "      <th>5</th>\n",
       "      <td>59.99</td>\n",
       "      <td>23</td>\n",
       "      <td>59761.56</td>\n",
       "      <td>226.74</td>\n",
       "      <td>Sharable client-driven software</td>\n",
       "      <td>Jamieberg</td>\n",
       "      <td>1</td>\n",
       "      <td>Norway</td>\n",
       "      <td>19/05/2016 14:30</td>\n",
       "      <td>0</td>\n",
       "    </tr>\n",
       "    <tr>\n",
       "      <th>6</th>\n",
       "      <td>88.91</td>\n",
       "      <td>33</td>\n",
       "      <td>53852.85</td>\n",
       "      <td>208.36</td>\n",
       "      <td>Enhanced dedicated support</td>\n",
       "      <td>Brandonstad</td>\n",
       "      <td>0</td>\n",
       "      <td>Myanmar</td>\n",
       "      <td>28/01/2016 20:59</td>\n",
       "      <td>0</td>\n",
       "    </tr>\n",
       "    <tr>\n",
       "      <th>7</th>\n",
       "      <td>66.00</td>\n",
       "      <td>48</td>\n",
       "      <td>24593.33</td>\n",
       "      <td>131.76</td>\n",
       "      <td>Reactive local challenge</td>\n",
       "      <td>Port Jefferybury</td>\n",
       "      <td>1</td>\n",
       "      <td>Australia</td>\n",
       "      <td>7/03/2016 1:40</td>\n",
       "      <td>1</td>\n",
       "    </tr>\n",
       "    <tr>\n",
       "      <th>8</th>\n",
       "      <td>74.53</td>\n",
       "      <td>30</td>\n",
       "      <td>68862.00</td>\n",
       "      <td>221.51</td>\n",
       "      <td>Configurable coherent function</td>\n",
       "      <td>West Colin</td>\n",
       "      <td>1</td>\n",
       "      <td>Grenada</td>\n",
       "      <td>18/04/2016 9:33</td>\n",
       "      <td>0</td>\n",
       "    </tr>\n",
       "    <tr>\n",
       "      <th>9</th>\n",
       "      <td>69.88</td>\n",
       "      <td>20</td>\n",
       "      <td>55642.32</td>\n",
       "      <td>183.82</td>\n",
       "      <td>Mandatory homogeneous architecture</td>\n",
       "      <td>Ramirezton</td>\n",
       "      <td>1</td>\n",
       "      <td>Ghana</td>\n",
       "      <td>11/07/2016 1:42</td>\n",
       "      <td>0</td>\n",
       "    </tr>\n",
       "  </tbody>\n",
       "</table>\n",
       "</div>"
      ],
      "text/plain": [
       "   Daily_Time_ Spent _on_Site  Age  Area_Income  Daily Internet Usage  \\\n",
       "0                       68.95   35     61833.90                256.09   \n",
       "1                       80.23   31     68441.85                193.77   \n",
       "2                       69.47   26     59785.94                236.50   \n",
       "3                       74.15   29     54806.18                245.89   \n",
       "4                       68.37   35     73889.99                225.58   \n",
       "5                       59.99   23     59761.56                226.74   \n",
       "6                       88.91   33     53852.85                208.36   \n",
       "7                       66.00   48     24593.33                131.76   \n",
       "8                       74.53   30     68862.00                221.51   \n",
       "9                       69.88   20     55642.32                183.82   \n",
       "\n",
       "                           Ad_Topic_Line              City  Male     Country  \\\n",
       "0     Cloned 5thgeneration orchestration       Wrightburgh     0     Tunisia   \n",
       "1     Monitored national standardization         West Jodi     1       Nauru   \n",
       "2       Organic bottom-line service-desk          Davidton     0  San Marino   \n",
       "3  Triple-buffered reciprocal time-frame    West Terrifurt     1       Italy   \n",
       "4          Robust logistical utilization      South Manuel     0     Iceland   \n",
       "5        Sharable client-driven software         Jamieberg     1      Norway   \n",
       "6             Enhanced dedicated support       Brandonstad     0     Myanmar   \n",
       "7               Reactive local challenge  Port Jefferybury     1   Australia   \n",
       "8         Configurable coherent function        West Colin     1     Grenada   \n",
       "9     Mandatory homogeneous architecture        Ramirezton     1       Ghana   \n",
       "\n",
       "          Timestamp  Clicked_on_Ad  \n",
       "0   27/03/2016 0:53              0  \n",
       "1    4/04/2016 1:39              0  \n",
       "2  13/03/2016 20:35              0  \n",
       "3   10/01/2016 2:31              0  \n",
       "4    3/06/2016 3:36              0  \n",
       "5  19/05/2016 14:30              0  \n",
       "6  28/01/2016 20:59              0  \n",
       "7    7/03/2016 1:40              1  \n",
       "8   18/04/2016 9:33              0  \n",
       "9   11/07/2016 1:42              0  "
      ]
     },
     "execution_count": 3,
     "metadata": {},
     "output_type": "execute_result"
    }
   ],
   "source": [
    "ads.head(10)"
   ]
  },
  {
   "cell_type": "code",
   "execution_count": 4,
   "id": "39a846ec",
   "metadata": {},
   "outputs": [
    {
     "data": {
      "text/html": [
       "<div>\n",
       "<style scoped>\n",
       "    .dataframe tbody tr th:only-of-type {\n",
       "        vertical-align: middle;\n",
       "    }\n",
       "\n",
       "    .dataframe tbody tr th {\n",
       "        vertical-align: top;\n",
       "    }\n",
       "\n",
       "    .dataframe thead th {\n",
       "        text-align: right;\n",
       "    }\n",
       "</style>\n",
       "<table border=\"1\" class=\"dataframe\">\n",
       "  <thead>\n",
       "    <tr style=\"text-align: right;\">\n",
       "      <th></th>\n",
       "      <th>Daily_Time_ Spent _on_Site</th>\n",
       "      <th>Age</th>\n",
       "      <th>Area_Income</th>\n",
       "      <th>Daily Internet Usage</th>\n",
       "      <th>Ad_Topic_Line</th>\n",
       "      <th>City</th>\n",
       "      <th>Male</th>\n",
       "      <th>Country</th>\n",
       "      <th>Timestamp</th>\n",
       "      <th>Clicked_on_Ad</th>\n",
       "    </tr>\n",
       "  </thead>\n",
       "  <tbody>\n",
       "    <tr>\n",
       "      <th>990</th>\n",
       "      <td>35.79</td>\n",
       "      <td>44</td>\n",
       "      <td>33813.08</td>\n",
       "      <td>165.62</td>\n",
       "      <td>Enterprise-wide tangible model</td>\n",
       "      <td>North Katie</td>\n",
       "      <td>1</td>\n",
       "      <td>Tonga</td>\n",
       "      <td>20/04/2016 13:36</td>\n",
       "      <td>1</td>\n",
       "    </tr>\n",
       "    <tr>\n",
       "      <th>991</th>\n",
       "      <td>38.96</td>\n",
       "      <td>38</td>\n",
       "      <td>36497.22</td>\n",
       "      <td>140.67</td>\n",
       "      <td>Versatile mission-critical application</td>\n",
       "      <td>Mauricefurt</td>\n",
       "      <td>1</td>\n",
       "      <td>Comoros</td>\n",
       "      <td>21/07/2016 16:02</td>\n",
       "      <td>1</td>\n",
       "    </tr>\n",
       "    <tr>\n",
       "      <th>992</th>\n",
       "      <td>69.17</td>\n",
       "      <td>40</td>\n",
       "      <td>66193.81</td>\n",
       "      <td>123.62</td>\n",
       "      <td>Extended leadingedge solution</td>\n",
       "      <td>New Patrick</td>\n",
       "      <td>0</td>\n",
       "      <td>Montenegro</td>\n",
       "      <td>6/03/2016 11:36</td>\n",
       "      <td>1</td>\n",
       "    </tr>\n",
       "    <tr>\n",
       "      <th>993</th>\n",
       "      <td>64.20</td>\n",
       "      <td>27</td>\n",
       "      <td>66200.96</td>\n",
       "      <td>227.63</td>\n",
       "      <td>Phased zero tolerance extranet</td>\n",
       "      <td>Edwardsmouth</td>\n",
       "      <td>1</td>\n",
       "      <td>Isle of Man</td>\n",
       "      <td>11/02/2016 23:45</td>\n",
       "      <td>0</td>\n",
       "    </tr>\n",
       "    <tr>\n",
       "      <th>994</th>\n",
       "      <td>43.70</td>\n",
       "      <td>28</td>\n",
       "      <td>63126.96</td>\n",
       "      <td>173.01</td>\n",
       "      <td>Front-line bifurcated ability</td>\n",
       "      <td>Nicholasland</td>\n",
       "      <td>0</td>\n",
       "      <td>Mayotte</td>\n",
       "      <td>4/04/2016 3:57</td>\n",
       "      <td>1</td>\n",
       "    </tr>\n",
       "    <tr>\n",
       "      <th>995</th>\n",
       "      <td>72.97</td>\n",
       "      <td>30</td>\n",
       "      <td>71384.57</td>\n",
       "      <td>208.58</td>\n",
       "      <td>Fundamental modular algorithm</td>\n",
       "      <td>Duffystad</td>\n",
       "      <td>1</td>\n",
       "      <td>Lebanon</td>\n",
       "      <td>11/02/2016 21:49</td>\n",
       "      <td>1</td>\n",
       "    </tr>\n",
       "    <tr>\n",
       "      <th>996</th>\n",
       "      <td>51.30</td>\n",
       "      <td>45</td>\n",
       "      <td>67782.17</td>\n",
       "      <td>134.42</td>\n",
       "      <td>Grass-roots cohesive monitoring</td>\n",
       "      <td>New Darlene</td>\n",
       "      <td>1</td>\n",
       "      <td>Bosnia and Herzegovina</td>\n",
       "      <td>22/04/2016 2:07</td>\n",
       "      <td>1</td>\n",
       "    </tr>\n",
       "    <tr>\n",
       "      <th>997</th>\n",
       "      <td>51.63</td>\n",
       "      <td>51</td>\n",
       "      <td>42415.72</td>\n",
       "      <td>120.37</td>\n",
       "      <td>Expanded intangible solution</td>\n",
       "      <td>South Jessica</td>\n",
       "      <td>1</td>\n",
       "      <td>Mongolia</td>\n",
       "      <td>1/02/2016 17:24</td>\n",
       "      <td>1</td>\n",
       "    </tr>\n",
       "    <tr>\n",
       "      <th>998</th>\n",
       "      <td>55.55</td>\n",
       "      <td>19</td>\n",
       "      <td>41920.79</td>\n",
       "      <td>187.95</td>\n",
       "      <td>Proactive bandwidth-monitored policy</td>\n",
       "      <td>West Steven</td>\n",
       "      <td>0</td>\n",
       "      <td>Guatemala</td>\n",
       "      <td>24/03/2016 2:35</td>\n",
       "      <td>0</td>\n",
       "    </tr>\n",
       "    <tr>\n",
       "      <th>999</th>\n",
       "      <td>45.01</td>\n",
       "      <td>26</td>\n",
       "      <td>29875.80</td>\n",
       "      <td>178.35</td>\n",
       "      <td>Virtual 5thgeneration emulation</td>\n",
       "      <td>Ronniemouth</td>\n",
       "      <td>0</td>\n",
       "      <td>Brazil</td>\n",
       "      <td>3/06/2016 21:43</td>\n",
       "      <td>1</td>\n",
       "    </tr>\n",
       "  </tbody>\n",
       "</table>\n",
       "</div>"
      ],
      "text/plain": [
       "     Daily_Time_ Spent _on_Site  Age  Area_Income  Daily Internet Usage  \\\n",
       "990                       35.79   44     33813.08                165.62   \n",
       "991                       38.96   38     36497.22                140.67   \n",
       "992                       69.17   40     66193.81                123.62   \n",
       "993                       64.20   27     66200.96                227.63   \n",
       "994                       43.70   28     63126.96                173.01   \n",
       "995                       72.97   30     71384.57                208.58   \n",
       "996                       51.30   45     67782.17                134.42   \n",
       "997                       51.63   51     42415.72                120.37   \n",
       "998                       55.55   19     41920.79                187.95   \n",
       "999                       45.01   26     29875.80                178.35   \n",
       "\n",
       "                              Ad_Topic_Line           City  Male  \\\n",
       "990          Enterprise-wide tangible model    North Katie     1   \n",
       "991  Versatile mission-critical application    Mauricefurt     1   \n",
       "992           Extended leadingedge solution    New Patrick     0   \n",
       "993          Phased zero tolerance extranet   Edwardsmouth     1   \n",
       "994           Front-line bifurcated ability   Nicholasland     0   \n",
       "995           Fundamental modular algorithm      Duffystad     1   \n",
       "996         Grass-roots cohesive monitoring    New Darlene     1   \n",
       "997            Expanded intangible solution  South Jessica     1   \n",
       "998    Proactive bandwidth-monitored policy    West Steven     0   \n",
       "999         Virtual 5thgeneration emulation    Ronniemouth     0   \n",
       "\n",
       "                    Country         Timestamp  Clicked_on_Ad  \n",
       "990                   Tonga  20/04/2016 13:36              1  \n",
       "991                 Comoros  21/07/2016 16:02              1  \n",
       "992              Montenegro   6/03/2016 11:36              1  \n",
       "993             Isle of Man  11/02/2016 23:45              0  \n",
       "994                 Mayotte    4/04/2016 3:57              1  \n",
       "995                 Lebanon  11/02/2016 21:49              1  \n",
       "996  Bosnia and Herzegovina   22/04/2016 2:07              1  \n",
       "997                Mongolia   1/02/2016 17:24              1  \n",
       "998               Guatemala   24/03/2016 2:35              0  \n",
       "999                  Brazil   3/06/2016 21:43              1  "
      ]
     },
     "execution_count": 4,
     "metadata": {},
     "output_type": "execute_result"
    }
   ],
   "source": [
    "ads.tail(10)"
   ]
  },
  {
   "cell_type": "code",
   "execution_count": 5,
   "id": "e6f3bda8",
   "metadata": {},
   "outputs": [],
   "source": [
    "##selecting required columns#\n",
    "ads = ads.iloc[:,[0,1,2,3,6,9]]"
   ]
  },
  {
   "cell_type": "code",
   "execution_count": 6,
   "id": "89598135",
   "metadata": {},
   "outputs": [
    {
     "data": {
      "text/html": [
       "<div>\n",
       "<style scoped>\n",
       "    .dataframe tbody tr th:only-of-type {\n",
       "        vertical-align: middle;\n",
       "    }\n",
       "\n",
       "    .dataframe tbody tr th {\n",
       "        vertical-align: top;\n",
       "    }\n",
       "\n",
       "    .dataframe thead th {\n",
       "        text-align: right;\n",
       "    }\n",
       "</style>\n",
       "<table border=\"1\" class=\"dataframe\">\n",
       "  <thead>\n",
       "    <tr style=\"text-align: right;\">\n",
       "      <th></th>\n",
       "      <th>Daily_Time_ Spent _on_Site</th>\n",
       "      <th>Age</th>\n",
       "      <th>Area_Income</th>\n",
       "      <th>Daily Internet Usage</th>\n",
       "      <th>Male</th>\n",
       "      <th>Clicked_on_Ad</th>\n",
       "    </tr>\n",
       "  </thead>\n",
       "  <tbody>\n",
       "    <tr>\n",
       "      <th>0</th>\n",
       "      <td>68.95</td>\n",
       "      <td>35</td>\n",
       "      <td>61833.90</td>\n",
       "      <td>256.09</td>\n",
       "      <td>0</td>\n",
       "      <td>0</td>\n",
       "    </tr>\n",
       "    <tr>\n",
       "      <th>1</th>\n",
       "      <td>80.23</td>\n",
       "      <td>31</td>\n",
       "      <td>68441.85</td>\n",
       "      <td>193.77</td>\n",
       "      <td>1</td>\n",
       "      <td>0</td>\n",
       "    </tr>\n",
       "    <tr>\n",
       "      <th>2</th>\n",
       "      <td>69.47</td>\n",
       "      <td>26</td>\n",
       "      <td>59785.94</td>\n",
       "      <td>236.50</td>\n",
       "      <td>0</td>\n",
       "      <td>0</td>\n",
       "    </tr>\n",
       "    <tr>\n",
       "      <th>3</th>\n",
       "      <td>74.15</td>\n",
       "      <td>29</td>\n",
       "      <td>54806.18</td>\n",
       "      <td>245.89</td>\n",
       "      <td>1</td>\n",
       "      <td>0</td>\n",
       "    </tr>\n",
       "    <tr>\n",
       "      <th>4</th>\n",
       "      <td>68.37</td>\n",
       "      <td>35</td>\n",
       "      <td>73889.99</td>\n",
       "      <td>225.58</td>\n",
       "      <td>0</td>\n",
       "      <td>0</td>\n",
       "    </tr>\n",
       "    <tr>\n",
       "      <th>...</th>\n",
       "      <td>...</td>\n",
       "      <td>...</td>\n",
       "      <td>...</td>\n",
       "      <td>...</td>\n",
       "      <td>...</td>\n",
       "      <td>...</td>\n",
       "    </tr>\n",
       "    <tr>\n",
       "      <th>995</th>\n",
       "      <td>72.97</td>\n",
       "      <td>30</td>\n",
       "      <td>71384.57</td>\n",
       "      <td>208.58</td>\n",
       "      <td>1</td>\n",
       "      <td>1</td>\n",
       "    </tr>\n",
       "    <tr>\n",
       "      <th>996</th>\n",
       "      <td>51.30</td>\n",
       "      <td>45</td>\n",
       "      <td>67782.17</td>\n",
       "      <td>134.42</td>\n",
       "      <td>1</td>\n",
       "      <td>1</td>\n",
       "    </tr>\n",
       "    <tr>\n",
       "      <th>997</th>\n",
       "      <td>51.63</td>\n",
       "      <td>51</td>\n",
       "      <td>42415.72</td>\n",
       "      <td>120.37</td>\n",
       "      <td>1</td>\n",
       "      <td>1</td>\n",
       "    </tr>\n",
       "    <tr>\n",
       "      <th>998</th>\n",
       "      <td>55.55</td>\n",
       "      <td>19</td>\n",
       "      <td>41920.79</td>\n",
       "      <td>187.95</td>\n",
       "      <td>0</td>\n",
       "      <td>0</td>\n",
       "    </tr>\n",
       "    <tr>\n",
       "      <th>999</th>\n",
       "      <td>45.01</td>\n",
       "      <td>26</td>\n",
       "      <td>29875.80</td>\n",
       "      <td>178.35</td>\n",
       "      <td>0</td>\n",
       "      <td>1</td>\n",
       "    </tr>\n",
       "  </tbody>\n",
       "</table>\n",
       "<p>1000 rows × 6 columns</p>\n",
       "</div>"
      ],
      "text/plain": [
       "     Daily_Time_ Spent _on_Site  Age  Area_Income  Daily Internet Usage  Male  \\\n",
       "0                         68.95   35     61833.90                256.09     0   \n",
       "1                         80.23   31     68441.85                193.77     1   \n",
       "2                         69.47   26     59785.94                236.50     0   \n",
       "3                         74.15   29     54806.18                245.89     1   \n",
       "4                         68.37   35     73889.99                225.58     0   \n",
       "..                          ...  ...          ...                   ...   ...   \n",
       "995                       72.97   30     71384.57                208.58     1   \n",
       "996                       51.30   45     67782.17                134.42     1   \n",
       "997                       51.63   51     42415.72                120.37     1   \n",
       "998                       55.55   19     41920.79                187.95     0   \n",
       "999                       45.01   26     29875.80                178.35     0   \n",
       "\n",
       "     Clicked_on_Ad  \n",
       "0                0  \n",
       "1                0  \n",
       "2                0  \n",
       "3                0  \n",
       "4                0  \n",
       "..             ...  \n",
       "995              1  \n",
       "996              1  \n",
       "997              1  \n",
       "998              0  \n",
       "999              1  \n",
       "\n",
       "[1000 rows x 6 columns]"
      ]
     },
     "execution_count": 6,
     "metadata": {},
     "output_type": "execute_result"
    }
   ],
   "source": [
    "ads"
   ]
  },
  {
   "cell_type": "code",
   "execution_count": 7,
   "id": "1523d175",
   "metadata": {},
   "outputs": [
    {
     "data": {
      "text/plain": [
       "Daily_Time_ Spent _on_Site    0\n",
       "Age                           0\n",
       "Area_Income                   0\n",
       "Daily Internet Usage          0\n",
       "Male                          0\n",
       "Clicked_on_Ad                 0\n",
       "dtype: int64"
      ]
     },
     "execution_count": 7,
     "metadata": {},
     "output_type": "execute_result"
    }
   ],
   "source": [
    "ads.isna().sum()##cheking na values#"
   ]
  },
  {
   "cell_type": "code",
   "execution_count": 8,
   "id": "f5f842d5",
   "metadata": {},
   "outputs": [],
   "source": [
    "##renaming colums#\n",
    "cols = {'Daily_Time_ Spent _on_Site':'Daily_Time_Spent_on_Site' ,'Daily Internet Usage':'Daily_Internet_Usage' }\n",
    "ads.rename(cols , axis =1 , inplace = True)"
   ]
  },
  {
   "cell_type": "code",
   "execution_count": 9,
   "id": "6bbb52e4",
   "metadata": {},
   "outputs": [
    {
     "data": {
      "text/plain": [
       "Index(['Daily_Time_Spent_on_Site', 'Age', 'Area_Income',\n",
       "       'Daily_Internet_Usage', 'Male', 'Clicked_on_Ad'],\n",
       "      dtype='object')"
      ]
     },
     "execution_count": 9,
     "metadata": {},
     "output_type": "execute_result"
    }
   ],
   "source": [
    "ads.columns"
   ]
  },
  {
   "cell_type": "code",
   "execution_count": 10,
   "id": "e5f70c01",
   "metadata": {},
   "outputs": [
    {
     "name": "stdout",
     "output_type": "stream",
     "text": [
      "Optimization terminated successfully.\n",
      "         Current function value: 0.090904\n",
      "         Iterations 10\n"
     ]
    }
   ],
   "source": [
    "##model building#\n",
    "logit_model = sm.logit('Clicked_on_Ad ~  Daily_Time_Spent_on_Site + Age + Area_Income + Daily_Internet_Usage + Male',\n",
    "                       data = ads).fit()"
   ]
  },
  {
   "cell_type": "code",
   "execution_count": 11,
   "id": "71694bf0",
   "metadata": {},
   "outputs": [
    {
     "data": {
      "text/html": [
       "<table class=\"simpletable\">\n",
       "<caption>Logit Regression Results</caption>\n",
       "<tr>\n",
       "  <th>Dep. Variable:</th>     <td>Clicked_on_Ad</td>  <th>  No. Observations:  </th>   <td>  1000</td>  \n",
       "</tr>\n",
       "<tr>\n",
       "  <th>Model:</th>                 <td>Logit</td>      <th>  Df Residuals:      </th>   <td>   994</td>  \n",
       "</tr>\n",
       "<tr>\n",
       "  <th>Method:</th>                 <td>MLE</td>       <th>  Df Model:          </th>   <td>     5</td>  \n",
       "</tr>\n",
       "<tr>\n",
       "  <th>Date:</th>            <td>Tue, 30 Aug 2022</td> <th>  Pseudo R-squ.:     </th>   <td>0.8689</td>  \n",
       "</tr>\n",
       "<tr>\n",
       "  <th>Time:</th>                <td>20:44:54</td>     <th>  Log-Likelihood:    </th>  <td> -90.904</td> \n",
       "</tr>\n",
       "<tr>\n",
       "  <th>converged:</th>             <td>True</td>       <th>  LL-Null:           </th>  <td> -693.15</td> \n",
       "</tr>\n",
       "<tr>\n",
       "  <th>Covariance Type:</th>     <td>nonrobust</td>    <th>  LLR p-value:       </th> <td>3.136e-258</td>\n",
       "</tr>\n",
       "</table>\n",
       "<table class=\"simpletable\">\n",
       "<tr>\n",
       "              <td></td>                <th>coef</th>     <th>std err</th>      <th>z</th>      <th>P>|z|</th>  <th>[0.025</th>    <th>0.975]</th>  \n",
       "</tr>\n",
       "<tr>\n",
       "  <th>Intercept</th>                <td>   27.3606</td> <td>    2.736</td> <td>    9.999</td> <td> 0.000</td> <td>   21.997</td> <td>   32.724</td>\n",
       "</tr>\n",
       "<tr>\n",
       "  <th>Daily_Time_Spent_on_Site</th> <td>   -0.1927</td> <td>    0.021</td> <td>   -9.286</td> <td> 0.000</td> <td>   -0.233</td> <td>   -0.152</td>\n",
       "</tr>\n",
       "<tr>\n",
       "  <th>Age</th>                      <td>    0.1709</td> <td>    0.026</td> <td>    6.607</td> <td> 0.000</td> <td>    0.120</td> <td>    0.222</td>\n",
       "</tr>\n",
       "<tr>\n",
       "  <th>Area_Income</th>              <td>   -0.0001</td> <td> 1.88e-05</td> <td>   -7.245</td> <td> 0.000</td> <td>   -0.000</td> <td>-9.93e-05</td>\n",
       "</tr>\n",
       "<tr>\n",
       "  <th>Daily_Internet_Usage</th>     <td>   -0.0635</td> <td>    0.007</td> <td>   -9.390</td> <td> 0.000</td> <td>   -0.077</td> <td>   -0.050</td>\n",
       "</tr>\n",
       "<tr>\n",
       "  <th>Male</th>                     <td>   -0.4217</td> <td>    0.404</td> <td>   -1.043</td> <td> 0.297</td> <td>   -1.214</td> <td>    0.371</td>\n",
       "</tr>\n",
       "</table><br/><br/>Possibly complete quasi-separation: A fraction 0.23 of observations can be<br/>perfectly predicted. This might indicate that there is complete<br/>quasi-separation. In this case some parameters will not be identified."
      ],
      "text/plain": [
       "<class 'statsmodels.iolib.summary.Summary'>\n",
       "\"\"\"\n",
       "                           Logit Regression Results                           \n",
       "==============================================================================\n",
       "Dep. Variable:          Clicked_on_Ad   No. Observations:                 1000\n",
       "Model:                          Logit   Df Residuals:                      994\n",
       "Method:                           MLE   Df Model:                            5\n",
       "Date:                Tue, 30 Aug 2022   Pseudo R-squ.:                  0.8689\n",
       "Time:                        20:44:54   Log-Likelihood:                -90.904\n",
       "converged:                       True   LL-Null:                       -693.15\n",
       "Covariance Type:            nonrobust   LLR p-value:                3.136e-258\n",
       "============================================================================================\n",
       "                               coef    std err          z      P>|z|      [0.025      0.975]\n",
       "--------------------------------------------------------------------------------------------\n",
       "Intercept                   27.3606      2.736      9.999      0.000      21.997      32.724\n",
       "Daily_Time_Spent_on_Site    -0.1927      0.021     -9.286      0.000      -0.233      -0.152\n",
       "Age                          0.1709      0.026      6.607      0.000       0.120       0.222\n",
       "Area_Income                 -0.0001   1.88e-05     -7.245      0.000      -0.000   -9.93e-05\n",
       "Daily_Internet_Usage        -0.0635      0.007     -9.390      0.000      -0.077      -0.050\n",
       "Male                        -0.4217      0.404     -1.043      0.297      -1.214       0.371\n",
       "============================================================================================\n",
       "\n",
       "Possibly complete quasi-separation: A fraction 0.23 of observations can be\n",
       "perfectly predicted. This might indicate that there is complete\n",
       "quasi-separation. In this case some parameters will not be identified.\n",
       "\"\"\""
      ]
     },
     "execution_count": 11,
     "metadata": {},
     "output_type": "execute_result"
    }
   ],
   "source": [
    "logit_model.summary2() #for AIC model#\n",
    "logit_model.summary()"
   ]
  },
  {
   "cell_type": "code",
   "execution_count": 12,
   "id": "7c10ff39",
   "metadata": {},
   "outputs": [],
   "source": [
    "preds = logit_model.predict(ads.iloc[:,:5])"
   ]
  },
  {
   "cell_type": "code",
   "execution_count": 13,
   "id": "59633dbc",
   "metadata": {},
   "outputs": [
    {
     "data": {
      "text/plain": [
       "0.6326111998951847"
      ]
     },
     "execution_count": 13,
     "metadata": {},
     "output_type": "execute_result"
    }
   ],
   "source": [
    "fpr,tpr,thresholds = roc_curve(ads.Clicked_on_Ad,preds)\n",
    "optimal_idx =np.argmax(tpr-fpr)\n",
    "optimal_threshold = thresholds[optimal_idx]\n",
    "optimal_threshold"
   ]
  },
  {
   "cell_type": "code",
   "execution_count": 14,
   "id": "f19e1a4d",
   "metadata": {},
   "outputs": [],
   "source": [
    "import pylab as pl"
   ]
  },
  {
   "cell_type": "code",
   "execution_count": 15,
   "id": "29a6fb3e",
   "metadata": {},
   "outputs": [
    {
     "data": {
      "text/html": [
       "<div>\n",
       "<style scoped>\n",
       "    .dataframe tbody tr th:only-of-type {\n",
       "        vertical-align: middle;\n",
       "    }\n",
       "\n",
       "    .dataframe tbody tr th {\n",
       "        vertical-align: top;\n",
       "    }\n",
       "\n",
       "    .dataframe thead th {\n",
       "        text-align: right;\n",
       "    }\n",
       "</style>\n",
       "<table border=\"1\" class=\"dataframe\">\n",
       "  <thead>\n",
       "    <tr style=\"text-align: right;\">\n",
       "      <th></th>\n",
       "      <th>fpr</th>\n",
       "      <th>tpr</th>\n",
       "      <th>1-fpr</th>\n",
       "      <th>tf</th>\n",
       "      <th>thresholds</th>\n",
       "    </tr>\n",
       "  </thead>\n",
       "  <tbody>\n",
       "    <tr>\n",
       "      <th>17</th>\n",
       "      <td>0.036</td>\n",
       "      <td>0.966</td>\n",
       "      <td>0.964</td>\n",
       "      <td>0.002</td>\n",
       "      <td>0.370638</td>\n",
       "    </tr>\n",
       "  </tbody>\n",
       "</table>\n",
       "</div>"
      ],
      "text/plain": [
       "      fpr    tpr  1-fpr     tf  thresholds\n",
       "17  0.036  0.966  0.964  0.002    0.370638"
      ]
     },
     "execution_count": 15,
     "metadata": {},
     "output_type": "execute_result"
    }
   ],
   "source": [
    "i = np.arange(len(tpr))\n",
    "roc = pd.DataFrame({'fpr':pd.Series(fpr,index=i),'tpr':pd.Series(tpr,index=i), '1-fpr':pd.Series(1-fpr,index=i),'tf': pd.Series(tpr-(1-fpr),index=i), 'thresholds':pd.Series(thresholds,index= i)})\n",
    "roc.iloc[(roc.tf-0).abs().argsort()[:1]]"
   ]
  },
  {
   "cell_type": "code",
   "execution_count": 24,
   "id": "e8e2ed22",
   "metadata": {},
   "outputs": [
    {
     "data": {
      "text/plain": [
       "[Text(-10.0, 0, ''),\n",
       " Text(0.0, 0, ''),\n",
       " Text(10.0, 0, ''),\n",
       " Text(20.0, 0, ''),\n",
       " Text(30.0, 0, ''),\n",
       " Text(40.0, 0, ''),\n",
       " Text(50.0, 0, ''),\n",
       " Text(60.0, 0, '')]"
      ]
     },
     "execution_count": 24,
     "metadata": {},
     "output_type": "execute_result"
    },
    {
     "data": {
      "image/png": "[encoded data removed]",
      "text/plain": [
       "<Figure size 432x288 with 1 Axes>"
      ]
     },
     "metadata": {
      "needs_background": "light"
     },
     "output_type": "display_data"
    }
   ],
   "source": [
    "##plotting tpr vs 1-fpr\n",
    "fig, ax= pl.subplots()\n",
    "pl.plot(roc['tpr'], color = 'red')\n",
    "pl.plot(roc['1-fpr'], color = 'blue')\n",
    "pl.xlabel('1-False positive rate')\n",
    "pl.ylabel('True positive rate')\n",
    "pl.title('Reciever operating characteristic')\n",
    "ax.set_xticklabels([])"
   ]
  },
  {
   "cell_type": "code",
   "execution_count": 25,
   "id": "ab93e1e4",
   "metadata": {},
   "outputs": [
    {
     "name": "stdout",
     "output_type": "stream",
     "text": [
      "Area under the ROC curve:0.991800\n"
     ]
    }
   ],
   "source": [
    "roc_auc = auc(fpr,tpr)\n",
    "print('Area under the ROC curve:%f'% roc_auc)"
   ]
  },
  {
   "cell_type": "code",
   "execution_count": 26,
   "id": "e45bf8ad",
   "metadata": {},
   "outputs": [],
   "source": [
    "ads[\"preds\"] = np.zeros(1000)"
   ]
  },
  {
   "cell_type": "code",
   "execution_count": 27,
   "id": "1042f1bc",
   "metadata": {},
   "outputs": [],
   "source": [
    "# taking threshold value and above the prob value will be treated as correct value \n",
    "ads.loc[preds>optimal_threshold,'preds']=1"
   ]
  },
  {
   "cell_type": "code",
   "execution_count": 30,
   "id": "8e843dc7",
   "metadata": {
    "scrolled": true
   },
   "outputs": [
    {
     "name": "stdout",
     "output_type": "stream",
     "text": [
      "              precision    recall  f1-score   support\n",
      "\n",
      "         0.0       0.99      0.96      0.97       518\n",
      "         1.0       0.95      0.99      0.97       482\n",
      "\n",
      "    accuracy                           0.97      1000\n",
      "   macro avg       0.97      0.97      0.97      1000\n",
      "weighted avg       0.97      0.97      0.97      1000\n",
      "\n"
     ]
    }
   ],
   "source": [
    "##classification report#\n",
    "classification = classification_report(ads['preds'], ads['Clicked_on_Ad'])\n",
    "print(classification)"
   ]
  },
  {
   "cell_type": "code",
   "execution_count": 31,
   "id": "5e7f9143",
   "metadata": {},
   "outputs": [],
   "source": [
    "##splitting into test and train data#\n",
    "train_data , test_data = train_test_split(ads,test_size = 0.3)"
   ]
  },
  {
   "cell_type": "code",
   "execution_count": 34,
   "id": "c8b763a9",
   "metadata": {},
   "outputs": [
    {
     "name": "stdout",
     "output_type": "stream",
     "text": [
      "Optimization terminated successfully.\n",
      "         Current function value: 0.080204\n",
      "         Iterations 10\n"
     ]
    }
   ],
   "source": [
    "model = sm.logit('Clicked_on_Ad ~  Daily_Time_Spent_on_Site + Age + Area_Income + Daily_Internet_Usage + Male',\n",
    "                       data = train_data).fit()"
   ]
  },
  {
   "cell_type": "code",
   "execution_count": 36,
   "id": "73759ef5",
   "metadata": {},
   "outputs": [
    {
     "data": {
      "text/html": [
       "<table class=\"simpletable\">\n",
       "<caption>Logit Regression Results</caption>\n",
       "<tr>\n",
       "  <th>Dep. Variable:</th>     <td>Clicked_on_Ad</td>  <th>  No. Observations:  </th>   <td>   700</td>  \n",
       "</tr>\n",
       "<tr>\n",
       "  <th>Model:</th>                 <td>Logit</td>      <th>  Df Residuals:      </th>   <td>   694</td>  \n",
       "</tr>\n",
       "<tr>\n",
       "  <th>Method:</th>                 <td>MLE</td>       <th>  Df Model:          </th>   <td>     5</td>  \n",
       "</tr>\n",
       "<tr>\n",
       "  <th>Date:</th>            <td>Tue, 30 Aug 2022</td> <th>  Pseudo R-squ.:     </th>   <td>0.8843</td>  \n",
       "</tr>\n",
       "<tr>\n",
       "  <th>Time:</th>                <td>20:47:53</td>     <th>  Log-Likelihood:    </th>  <td> -56.143</td> \n",
       "</tr>\n",
       "<tr>\n",
       "  <th>converged:</th>             <td>True</td>       <th>  LL-Null:           </th>  <td> -485.13</td> \n",
       "</tr>\n",
       "<tr>\n",
       "  <th>Covariance Type:</th>     <td>nonrobust</td>    <th>  LLR p-value:       </th> <td>3.304e-183</td>\n",
       "</tr>\n",
       "</table>\n",
       "<table class=\"simpletable\">\n",
       "<tr>\n",
       "              <td></td>                <th>coef</th>     <th>std err</th>      <th>z</th>      <th>P>|z|</th>  <th>[0.025</th>    <th>0.975]</th>  \n",
       "</tr>\n",
       "<tr>\n",
       "  <th>Intercept</th>                <td>   28.4711</td> <td>    3.583</td> <td>    7.947</td> <td> 0.000</td> <td>   21.449</td> <td>   35.493</td>\n",
       "</tr>\n",
       "<tr>\n",
       "  <th>Daily_Time_Spent_on_Site</th> <td>   -0.2042</td> <td>    0.027</td> <td>   -7.579</td> <td> 0.000</td> <td>   -0.257</td> <td>   -0.151</td>\n",
       "</tr>\n",
       "<tr>\n",
       "  <th>Age</th>                      <td>    0.1881</td> <td>    0.034</td> <td>    5.482</td> <td> 0.000</td> <td>    0.121</td> <td>    0.255</td>\n",
       "</tr>\n",
       "<tr>\n",
       "  <th>Area_Income</th>              <td>   -0.0001</td> <td>  2.4e-05</td> <td>   -6.056</td> <td> 0.000</td> <td>   -0.000</td> <td>-9.84e-05</td>\n",
       "</tr>\n",
       "<tr>\n",
       "  <th>Daily_Internet_Usage</th>     <td>   -0.0652</td> <td>    0.009</td> <td>   -7.583</td> <td> 0.000</td> <td>   -0.082</td> <td>   -0.048</td>\n",
       "</tr>\n",
       "<tr>\n",
       "  <th>Male</th>                     <td>   -0.8850</td> <td>    0.528</td> <td>   -1.676</td> <td> 0.094</td> <td>   -1.920</td> <td>    0.150</td>\n",
       "</tr>\n",
       "</table><br/><br/>Possibly complete quasi-separation: A fraction 0.26 of observations can be<br/>perfectly predicted. This might indicate that there is complete<br/>quasi-separation. In this case some parameters will not be identified."
      ],
      "text/plain": [
       "<class 'statsmodels.iolib.summary.Summary'>\n",
       "\"\"\"\n",
       "                           Logit Regression Results                           \n",
       "==============================================================================\n",
       "Dep. Variable:          Clicked_on_Ad   No. Observations:                  700\n",
       "Model:                          Logit   Df Residuals:                      694\n",
       "Method:                           MLE   Df Model:                            5\n",
       "Date:                Tue, 30 Aug 2022   Pseudo R-squ.:                  0.8843\n",
       "Time:                        20:47:53   Log-Likelihood:                -56.143\n",
       "converged:                       True   LL-Null:                       -485.13\n",
       "Covariance Type:            nonrobust   LLR p-value:                3.304e-183\n",
       "============================================================================================\n",
       "                               coef    std err          z      P>|z|      [0.025      0.975]\n",
       "--------------------------------------------------------------------------------------------\n",
       "Intercept                   28.4711      3.583      7.947      0.000      21.449      35.493\n",
       "Daily_Time_Spent_on_Site    -0.2042      0.027     -7.579      0.000      -0.257      -0.151\n",
       "Age                          0.1881      0.034      5.482      0.000       0.121       0.255\n",
       "Area_Income                 -0.0001    2.4e-05     -6.056      0.000      -0.000   -9.84e-05\n",
       "Daily_Internet_Usage        -0.0652      0.009     -7.583      0.000      -0.082      -0.048\n",
       "Male                        -0.8850      0.528     -1.676      0.094      -1.920       0.150\n",
       "============================================================================================\n",
       "\n",
       "Possibly complete quasi-separation: A fraction 0.26 of observations can be\n",
       "perfectly predicted. This might indicate that there is complete\n",
       "quasi-separation. In this case some parameters will not be identified.\n",
       "\"\"\""
      ]
     },
     "execution_count": 36,
     "metadata": {},
     "output_type": "execute_result"
    }
   ],
   "source": [
    "model.summary2 #for AIC\n",
    "model.summary()"
   ]
  },
  {
   "cell_type": "code",
   "execution_count": 37,
   "id": "eec98fb4",
   "metadata": {},
   "outputs": [],
   "source": [
    "#prediction on test data#\n",
    "test_pred  = model.predict(test_data.iloc[:,:5])"
   ]
  },
  {
   "cell_type": "code",
   "execution_count": 38,
   "id": "22833b7a",
   "metadata": {},
   "outputs": [],
   "source": [
    "##creating new column for storing prediction#\n",
    "#filling all the cell with zeros\n",
    "test_data['test_pred'] = np.zeros(300)"
   ]
  },
  {
   "cell_type": "code",
   "execution_count": 39,
   "id": "7adcf712",
   "metadata": {},
   "outputs": [],
   "source": [
    "# taking threshold value as 'optimal_threshold' and above the thresold prob value will be treated as 1 #\n",
    "test_data.loc[test_pred>optimal_threshold,'test_pred']=1\n"
   ]
  },
  {
   "cell_type": "code",
   "execution_count": 40,
   "id": "b7e162d8",
   "metadata": {
    "scrolled": true
   },
   "outputs": [
    {
     "data": {
      "text/html": [
       "<div>\n",
       "<style scoped>\n",
       "    .dataframe tbody tr th:only-of-type {\n",
       "        vertical-align: middle;\n",
       "    }\n",
       "\n",
       "    .dataframe tbody tr th {\n",
       "        vertical-align: top;\n",
       "    }\n",
       "\n",
       "    .dataframe thead th {\n",
       "        text-align: right;\n",
       "    }\n",
       "</style>\n",
       "<table border=\"1\" class=\"dataframe\">\n",
       "  <thead>\n",
       "    <tr style=\"text-align: right;\">\n",
       "      <th>Clicked_on_Ad</th>\n",
       "      <th>0</th>\n",
       "      <th>1</th>\n",
       "    </tr>\n",
       "    <tr>\n",
       "      <th>test_pred</th>\n",
       "      <th></th>\n",
       "      <th></th>\n",
       "    </tr>\n",
       "  </thead>\n",
       "  <tbody>\n",
       "    <tr>\n",
       "      <th>0.0</th>\n",
       "      <td>153</td>\n",
       "      <td>11</td>\n",
       "    </tr>\n",
       "    <tr>\n",
       "      <th>1.0</th>\n",
       "      <td>2</td>\n",
       "      <td>134</td>\n",
       "    </tr>\n",
       "  </tbody>\n",
       "</table>\n",
       "</div>"
      ],
      "text/plain": [
       "Clicked_on_Ad    0    1\n",
       "test_pred              \n",
       "0.0            153   11\n",
       "1.0              2  134"
      ]
     },
     "execution_count": 40,
     "metadata": {},
     "output_type": "execute_result"
    }
   ],
   "source": [
    "##confusion matrix#\n",
    "confusion_matrix =  pd.crosstab(test_data.test_pred, test_data['Clicked_on_Ad'])\n",
    "confusion_matrix"
   ]
  },
  {
   "cell_type": "code",
   "execution_count": 41,
   "id": "de6c9df2",
   "metadata": {},
   "outputs": [
    {
     "data": {
      "text/plain": [
       "0.9566666666666667"
      ]
     },
     "execution_count": 41,
     "metadata": {},
     "output_type": "execute_result"
    }
   ],
   "source": [
    "accuracy_test  = accuracy_score(test_data['Clicked_on_Ad'], test_data.test_pred)\n",
    "accuracy_test"
   ]
  },
  {
   "cell_type": "code",
   "execution_count": 42,
   "id": "a9bc6633",
   "metadata": {
    "scrolled": true
   },
   "outputs": [
    {
     "name": "stdout",
     "output_type": "stream",
     "text": [
      "              precision    recall  f1-score   support\n",
      "\n",
      "         0.0       0.99      0.93      0.96       164\n",
      "         1.0       0.92      0.99      0.95       136\n",
      "\n",
      "    accuracy                           0.96       300\n",
      "   macro avg       0.96      0.96      0.96       300\n",
      "weighted avg       0.96      0.96      0.96       300\n",
      "\n"
     ]
    }
   ],
   "source": [
    "##classification report#\n",
    "classification = classification_report(test_data['test_pred'], test_data['Clicked_on_Ad'])\n",
    "print(classification)"
   ]
  },
  {
   "cell_type": "code",
   "execution_count": 43,
   "id": "7fbb24cb",
   "metadata": {},
   "outputs": [],
   "source": [
    "##roc curve and AUC#\n",
    "fpr,tpr,threshold = metrics.roc_curve(test_data['Clicked_on_Ad'],test_pred)"
   ]
  },
  {
   "cell_type": "code",
   "execution_count": 44,
   "id": "fc904b0a",
   "metadata": {},
   "outputs": [
    {
     "data": {
      "text/plain": [
       "Text(0, 0.5, 'True positive rate')"
      ]
     },
     "execution_count": 44,
     "metadata": {},
     "output_type": "execute_result"
    },
    {
     "data": {
      "image/png": "[encoded data removed]",
      "text/plain": [
       "<Figure size 432x288 with 1 Axes>"
      ]
     },
     "metadata": {
      "needs_background": "light"
     },
     "output_type": "display_data"
    }
   ],
   "source": [
    "##ROC plot#\n",
    "plt.plot(fpr,tpr);plt.xlabel(\"False positive rate\");plt.ylabel(\"True positive rate\")"
   ]
  },
  {
   "cell_type": "code",
   "execution_count": 45,
   "id": "83ee8dff",
   "metadata": {},
   "outputs": [
    {
     "data": {
      "text/plain": [
       "0.9854505005561734"
      ]
     },
     "execution_count": 45,
     "metadata": {},
     "output_type": "execute_result"
    }
   ],
   "source": [
    "roc_auc_test = metrics.auc(fpr,tpr)\n",
    "roc_auc_test"
   ]
  },
  {
   "cell_type": "code",
   "execution_count": 46,
   "id": "903d67b8",
   "metadata": {},
   "outputs": [],
   "source": [
    "##prediction on test data#\n",
    "train_pred = model.predict(train_data.iloc[:,:5])"
   ]
  },
  {
   "cell_type": "code",
   "execution_count": 47,
   "id": "c17d4ac4",
   "metadata": {},
   "outputs": [],
   "source": [
    "##create new columns#\n",
    "##filling all  the cell with colums#\n",
    "train_data['train_pred'] = np.zeros(700)"
   ]
  },
  {
   "cell_type": "code",
   "execution_count": 49,
   "id": "5d2abc0a",
   "metadata": {},
   "outputs": [],
   "source": [
    "# taking threshold value and above the prob value will be treated as correct value #\n",
    "train_data.loc[train_pred>optimal_threshold, 'train_pred'] =1"
   ]
  },
  {
   "cell_type": "code",
   "execution_count": 50,
   "id": "0ca9c6b9",
   "metadata": {},
   "outputs": [
    {
     "data": {
      "text/html": [
       "<div>\n",
       "<style scoped>\n",
       "    .dataframe tbody tr th:only-of-type {\n",
       "        vertical-align: middle;\n",
       "    }\n",
       "\n",
       "    .dataframe tbody tr th {\n",
       "        vertical-align: top;\n",
       "    }\n",
       "\n",
       "    .dataframe thead th {\n",
       "        text-align: right;\n",
       "    }\n",
       "</style>\n",
       "<table border=\"1\" class=\"dataframe\">\n",
       "  <thead>\n",
       "    <tr style=\"text-align: right;\">\n",
       "      <th>Clicked_on_Ad</th>\n",
       "      <th>0</th>\n",
       "      <th>1</th>\n",
       "    </tr>\n",
       "    <tr>\n",
       "      <th>train_pred</th>\n",
       "      <th></th>\n",
       "      <th></th>\n",
       "    </tr>\n",
       "  </thead>\n",
       "  <tbody>\n",
       "    <tr>\n",
       "      <th>0.0</th>\n",
       "      <td>342</td>\n",
       "      <td>15</td>\n",
       "    </tr>\n",
       "    <tr>\n",
       "      <th>1.0</th>\n",
       "      <td>3</td>\n",
       "      <td>340</td>\n",
       "    </tr>\n",
       "  </tbody>\n",
       "</table>\n",
       "</div>"
      ],
      "text/plain": [
       "Clicked_on_Ad    0    1\n",
       "train_pred             \n",
       "0.0            342   15\n",
       "1.0              3  340"
      ]
     },
     "execution_count": 50,
     "metadata": {},
     "output_type": "execute_result"
    }
   ],
   "source": [
    "##confusion matrix#\n",
    "confusion_matrix = pd.crosstab(train_data.train_pred, train_data['Clicked_on_Ad'])\n",
    "confusion_matrix"
   ]
  },
  {
   "cell_type": "code",
   "execution_count": 51,
   "id": "3189bd6d",
   "metadata": {},
   "outputs": [
    {
     "data": {
      "text/plain": [
       "0.9742857142857143"
      ]
     },
     "execution_count": 51,
     "metadata": {},
     "output_type": "execute_result"
    }
   ],
   "source": [
    "##accuracy score#\n",
    "accuracy_train = accuracy_score(train_data['Clicked_on_Ad'], train_data.train_pred)\n",
    "accuracy_train"
   ]
  },
  {
   "cell_type": "markdown",
   "id": "cd438911",
   "metadata": {},
   "source": [
    "PROBLEM 3#"
   ]
  },
  {
   "cell_type": "code",
   "execution_count": 1,
   "id": "5dcb8fc6",
   "metadata": {},
   "outputs": [],
   "source": [
    "import pandas as pd\n",
    "import numpy as np\n",
    "import matplotlib.pyplot as plt\n",
    "import statsmodels.formula.api as sm\n",
    "from sklearn.model_selection import train_test_split # train and test \n",
    "from sklearn import metrics\n",
    "from sklearn.metrics import roc_curve, auc\n",
    "from sklearn.metrics import classification_report\n",
    "from sklearn.metrics import accuracy_score"
   ]
  },
  {
   "cell_type": "code",
   "execution_count": 3,
   "id": "abaf18be",
   "metadata": {},
   "outputs": [],
   "source": [
    "##LOADING DATASET#\n",
    "election = pd.read_csv('D:\\\\DATA SCIENCE ASSIGNMENT\\\\Datasets_LR\\\\election_data.csv')"
   ]
  },
  {
   "cell_type": "code",
   "execution_count": 4,
   "id": "e12523ec",
   "metadata": {},
   "outputs": [
    {
     "data": {
      "text/html": [
       "<div>\n",
       "<style scoped>\n",
       "    .dataframe tbody tr th:only-of-type {\n",
       "        vertical-align: middle;\n",
       "    }\n",
       "\n",
       "    .dataframe tbody tr th {\n",
       "        vertical-align: top;\n",
       "    }\n",
       "\n",
       "    .dataframe thead th {\n",
       "        text-align: right;\n",
       "    }\n",
       "</style>\n",
       "<table border=\"1\" class=\"dataframe\">\n",
       "  <thead>\n",
       "    <tr style=\"text-align: right;\">\n",
       "      <th></th>\n",
       "      <th>Election-id</th>\n",
       "      <th>Result</th>\n",
       "      <th>Year</th>\n",
       "      <th>Amount Spent</th>\n",
       "      <th>Popularity Rank</th>\n",
       "    </tr>\n",
       "  </thead>\n",
       "  <tbody>\n",
       "    <tr>\n",
       "      <th>0</th>\n",
       "      <td>NaN</td>\n",
       "      <td>NaN</td>\n",
       "      <td>NaN</td>\n",
       "      <td>NaN</td>\n",
       "      <td>NaN</td>\n",
       "    </tr>\n",
       "    <tr>\n",
       "      <th>1</th>\n",
       "      <td>122.0</td>\n",
       "      <td>0.0</td>\n",
       "      <td>32.0</td>\n",
       "      <td>3.81</td>\n",
       "      <td>3.0</td>\n",
       "    </tr>\n",
       "    <tr>\n",
       "      <th>2</th>\n",
       "      <td>315.0</td>\n",
       "      <td>1.0</td>\n",
       "      <td>48.0</td>\n",
       "      <td>6.32</td>\n",
       "      <td>2.0</td>\n",
       "    </tr>\n",
       "    <tr>\n",
       "      <th>3</th>\n",
       "      <td>201.0</td>\n",
       "      <td>1.0</td>\n",
       "      <td>51.0</td>\n",
       "      <td>3.67</td>\n",
       "      <td>1.0</td>\n",
       "    </tr>\n",
       "    <tr>\n",
       "      <th>4</th>\n",
       "      <td>965.0</td>\n",
       "      <td>0.0</td>\n",
       "      <td>40.0</td>\n",
       "      <td>2.93</td>\n",
       "      <td>4.0</td>\n",
       "    </tr>\n",
       "  </tbody>\n",
       "</table>\n",
       "</div>"
      ],
      "text/plain": [
       "   Election-id  Result  Year  Amount Spent  Popularity Rank\n",
       "0          NaN     NaN   NaN           NaN              NaN\n",
       "1        122.0     0.0  32.0          3.81              3.0\n",
       "2        315.0     1.0  48.0          6.32              2.0\n",
       "3        201.0     1.0  51.0          3.67              1.0\n",
       "4        965.0     0.0  40.0          2.93              4.0"
      ]
     },
     "execution_count": 4,
     "metadata": {},
     "output_type": "execute_result"
    }
   ],
   "source": [
    "election.head()"
   ]
  },
  {
   "cell_type": "code",
   "execution_count": 5,
   "id": "a83830b9",
   "metadata": {},
   "outputs": [
    {
     "data": {
      "text/html": [
       "<div>\n",
       "<style scoped>\n",
       "    .dataframe tbody tr th:only-of-type {\n",
       "        vertical-align: middle;\n",
       "    }\n",
       "\n",
       "    .dataframe tbody tr th {\n",
       "        vertical-align: top;\n",
       "    }\n",
       "\n",
       "    .dataframe thead th {\n",
       "        text-align: right;\n",
       "    }\n",
       "</style>\n",
       "<table border=\"1\" class=\"dataframe\">\n",
       "  <thead>\n",
       "    <tr style=\"text-align: right;\">\n",
       "      <th></th>\n",
       "      <th>Election-id</th>\n",
       "      <th>Result</th>\n",
       "      <th>Year</th>\n",
       "      <th>Amount Spent</th>\n",
       "      <th>Popularity Rank</th>\n",
       "    </tr>\n",
       "  </thead>\n",
       "  <tbody>\n",
       "    <tr>\n",
       "      <th>6</th>\n",
       "      <td>150.0</td>\n",
       "      <td>0.0</td>\n",
       "      <td>35.0</td>\n",
       "      <td>4.20</td>\n",
       "      <td>4.0</td>\n",
       "    </tr>\n",
       "    <tr>\n",
       "      <th>7</th>\n",
       "      <td>743.0</td>\n",
       "      <td>1.0</td>\n",
       "      <td>39.0</td>\n",
       "      <td>5.66</td>\n",
       "      <td>2.0</td>\n",
       "    </tr>\n",
       "    <tr>\n",
       "      <th>8</th>\n",
       "      <td>612.0</td>\n",
       "      <td>1.0</td>\n",
       "      <td>42.0</td>\n",
       "      <td>4.32</td>\n",
       "      <td>3.0</td>\n",
       "    </tr>\n",
       "    <tr>\n",
       "      <th>9</th>\n",
       "      <td>206.0</td>\n",
       "      <td>1.0</td>\n",
       "      <td>44.0</td>\n",
       "      <td>3.26</td>\n",
       "      <td>3.0</td>\n",
       "    </tr>\n",
       "    <tr>\n",
       "      <th>10</th>\n",
       "      <td>792.0</td>\n",
       "      <td>0.0</td>\n",
       "      <td>50.0</td>\n",
       "      <td>4.52</td>\n",
       "      <td>4.0</td>\n",
       "    </tr>\n",
       "  </tbody>\n",
       "</table>\n",
       "</div>"
      ],
      "text/plain": [
       "    Election-id  Result  Year  Amount Spent  Popularity Rank\n",
       "6         150.0     0.0  35.0          4.20              4.0\n",
       "7         743.0     1.0  39.0          5.66              2.0\n",
       "8         612.0     1.0  42.0          4.32              3.0\n",
       "9         206.0     1.0  44.0          3.26              3.0\n",
       "10        792.0     0.0  50.0          4.52              4.0"
      ]
     },
     "execution_count": 5,
     "metadata": {},
     "output_type": "execute_result"
    }
   ],
   "source": [
    "election.tail()"
   ]
  },
  {
   "cell_type": "code",
   "execution_count": 7,
   "id": "446224db",
   "metadata": {},
   "outputs": [],
   "source": [
    "##removing unwated row#\n",
    "election=election.iloc[1:,1:]"
   ]
  },
  {
   "cell_type": "code",
   "execution_count": 8,
   "id": "e0b9f92a",
   "metadata": {},
   "outputs": [
    {
     "data": {
      "text/html": [
       "<div>\n",
       "<style scoped>\n",
       "    .dataframe tbody tr th:only-of-type {\n",
       "        vertical-align: middle;\n",
       "    }\n",
       "\n",
       "    .dataframe tbody tr th {\n",
       "        vertical-align: top;\n",
       "    }\n",
       "\n",
       "    .dataframe thead th {\n",
       "        text-align: right;\n",
       "    }\n",
       "</style>\n",
       "<table border=\"1\" class=\"dataframe\">\n",
       "  <thead>\n",
       "    <tr style=\"text-align: right;\">\n",
       "      <th></th>\n",
       "      <th>Result</th>\n",
       "      <th>Year</th>\n",
       "      <th>Amount Spent</th>\n",
       "      <th>Popularity Rank</th>\n",
       "    </tr>\n",
       "  </thead>\n",
       "  <tbody>\n",
       "    <tr>\n",
       "      <th>1</th>\n",
       "      <td>0.0</td>\n",
       "      <td>32.0</td>\n",
       "      <td>3.81</td>\n",
       "      <td>3.0</td>\n",
       "    </tr>\n",
       "    <tr>\n",
       "      <th>2</th>\n",
       "      <td>1.0</td>\n",
       "      <td>48.0</td>\n",
       "      <td>6.32</td>\n",
       "      <td>2.0</td>\n",
       "    </tr>\n",
       "    <tr>\n",
       "      <th>3</th>\n",
       "      <td>1.0</td>\n",
       "      <td>51.0</td>\n",
       "      <td>3.67</td>\n",
       "      <td>1.0</td>\n",
       "    </tr>\n",
       "    <tr>\n",
       "      <th>4</th>\n",
       "      <td>0.0</td>\n",
       "      <td>40.0</td>\n",
       "      <td>2.93</td>\n",
       "      <td>4.0</td>\n",
       "    </tr>\n",
       "    <tr>\n",
       "      <th>5</th>\n",
       "      <td>1.0</td>\n",
       "      <td>52.0</td>\n",
       "      <td>3.60</td>\n",
       "      <td>1.0</td>\n",
       "    </tr>\n",
       "  </tbody>\n",
       "</table>\n",
       "</div>"
      ],
      "text/plain": [
       "   Result  Year  Amount Spent  Popularity Rank\n",
       "1     0.0  32.0          3.81              3.0\n",
       "2     1.0  48.0          6.32              2.0\n",
       "3     1.0  51.0          3.67              1.0\n",
       "4     0.0  40.0          2.93              4.0\n",
       "5     1.0  52.0          3.60              1.0"
      ]
     },
     "execution_count": 8,
     "metadata": {},
     "output_type": "execute_result"
    }
   ],
   "source": [
    "election.head()"
   ]
  },
  {
   "cell_type": "code",
   "execution_count": 9,
   "id": "2e441533",
   "metadata": {},
   "outputs": [
    {
     "data": {
      "text/html": [
       "<div>\n",
       "<style scoped>\n",
       "    .dataframe tbody tr th:only-of-type {\n",
       "        vertical-align: middle;\n",
       "    }\n",
       "\n",
       "    .dataframe tbody tr th {\n",
       "        vertical-align: top;\n",
       "    }\n",
       "\n",
       "    .dataframe thead th {\n",
       "        text-align: right;\n",
       "    }\n",
       "</style>\n",
       "<table border=\"1\" class=\"dataframe\">\n",
       "  <thead>\n",
       "    <tr style=\"text-align: right;\">\n",
       "      <th></th>\n",
       "      <th>Result</th>\n",
       "      <th>Year</th>\n",
       "      <th>Amount Spent</th>\n",
       "      <th>Popularity Rank</th>\n",
       "    </tr>\n",
       "  </thead>\n",
       "  <tbody>\n",
       "    <tr>\n",
       "      <th>count</th>\n",
       "      <td>10.000000</td>\n",
       "      <td>10.000000</td>\n",
       "      <td>10.000000</td>\n",
       "      <td>10.000000</td>\n",
       "    </tr>\n",
       "    <tr>\n",
       "      <th>mean</th>\n",
       "      <td>0.600000</td>\n",
       "      <td>43.300000</td>\n",
       "      <td>4.229000</td>\n",
       "      <td>2.700000</td>\n",
       "    </tr>\n",
       "    <tr>\n",
       "      <th>std</th>\n",
       "      <td>0.516398</td>\n",
       "      <td>6.912951</td>\n",
       "      <td>1.055351</td>\n",
       "      <td>1.159502</td>\n",
       "    </tr>\n",
       "    <tr>\n",
       "      <th>min</th>\n",
       "      <td>0.000000</td>\n",
       "      <td>32.000000</td>\n",
       "      <td>2.930000</td>\n",
       "      <td>1.000000</td>\n",
       "    </tr>\n",
       "    <tr>\n",
       "      <th>25%</th>\n",
       "      <td>0.000000</td>\n",
       "      <td>39.250000</td>\n",
       "      <td>3.617500</td>\n",
       "      <td>2.000000</td>\n",
       "    </tr>\n",
       "    <tr>\n",
       "      <th>50%</th>\n",
       "      <td>1.000000</td>\n",
       "      <td>43.000000</td>\n",
       "      <td>4.005000</td>\n",
       "      <td>3.000000</td>\n",
       "    </tr>\n",
       "    <tr>\n",
       "      <th>75%</th>\n",
       "      <td>1.000000</td>\n",
       "      <td>49.500000</td>\n",
       "      <td>4.470000</td>\n",
       "      <td>3.750000</td>\n",
       "    </tr>\n",
       "    <tr>\n",
       "      <th>max</th>\n",
       "      <td>1.000000</td>\n",
       "      <td>52.000000</td>\n",
       "      <td>6.320000</td>\n",
       "      <td>4.000000</td>\n",
       "    </tr>\n",
       "  </tbody>\n",
       "</table>\n",
       "</div>"
      ],
      "text/plain": [
       "          Result       Year  Amount Spent  Popularity Rank\n",
       "count  10.000000  10.000000     10.000000        10.000000\n",
       "mean    0.600000  43.300000      4.229000         2.700000\n",
       "std     0.516398   6.912951      1.055351         1.159502\n",
       "min     0.000000  32.000000      2.930000         1.000000\n",
       "25%     0.000000  39.250000      3.617500         2.000000\n",
       "50%     1.000000  43.000000      4.005000         3.000000\n",
       "75%     1.000000  49.500000      4.470000         3.750000\n",
       "max     1.000000  52.000000      6.320000         4.000000"
      ]
     },
     "execution_count": 9,
     "metadata": {},
     "output_type": "execute_result"
    }
   ],
   "source": [
    "election.describe()"
   ]
  },
  {
   "cell_type": "code",
   "execution_count": 11,
   "id": "7002d5ef",
   "metadata": {},
   "outputs": [
    {
     "data": {
      "text/plain": [
       "Result             0\n",
       "Year               0\n",
       "Amount Spent       0\n",
       "Popularity Rank    0\n",
       "dtype: int64"
      ]
     },
     "execution_count": 11,
     "metadata": {},
     "output_type": "execute_result"
    }
   ],
   "source": [
    "election.isna().sum() #checking missing value#"
   ]
  },
  {
   "cell_type": "code",
   "execution_count": 12,
   "id": "8419480f",
   "metadata": {},
   "outputs": [],
   "source": [
    "##altering column names for analysis#\n",
    "cols={'Amount Spent':'Amount_Spent','Popularity Rank':'Popularity_Rank'}\n",
    "election.rename(cols,axis=1, inplace=True)"
   ]
  },
  {
   "cell_type": "code",
   "execution_count": 13,
   "id": "eba9ffb7",
   "metadata": {},
   "outputs": [
    {
     "data": {
      "text/plain": [
       "Index(['Result', 'Year', 'Amount_Spent', 'Popularity_Rank'], dtype='object')"
      ]
     },
     "execution_count": 13,
     "metadata": {},
     "output_type": "execute_result"
    }
   ],
   "source": [
    "election.columns"
   ]
  },
  {
   "cell_type": "code",
   "execution_count": 19,
   "id": "3901be65",
   "metadata": {},
   "outputs": [
    {
     "name": "stdout",
     "output_type": "stream",
     "text": [
      "Optimization terminated successfully.\n",
      "         Current function value: 0.000000\n",
      "         Iterations: 28\n",
      "         Function evaluations: 31\n",
      "         Gradient evaluations: 31\n"
     ]
    }
   ],
   "source": [
    "##model building#\n",
    "logit= sm.logit('Result ~  Year + Amount_Spent + Popularity_Rank',\n",
    "                       data = election)\n",
    "logit_model=logit.fit(method='bfgs')"
   ]
  },
  {
   "cell_type": "code",
   "execution_count": 20,
   "id": "761400f3",
   "metadata": {},
   "outputs": [
    {
     "data": {
      "text/html": [
       "<table class=\"simpletable\">\n",
       "<caption>Logit Regression Results</caption>\n",
       "<tr>\n",
       "  <th>Dep. Variable:</th>        <td>Result</td>      <th>  No. Observations:  </th>   <td>    10</td>   \n",
       "</tr>\n",
       "<tr>\n",
       "  <th>Model:</th>                 <td>Logit</td>      <th>  Df Residuals:      </th>   <td>     6</td>   \n",
       "</tr>\n",
       "<tr>\n",
       "  <th>Method:</th>                 <td>MLE</td>       <th>  Df Model:          </th>   <td>     3</td>   \n",
       "</tr>\n",
       "<tr>\n",
       "  <th>Date:</th>            <td>Wed, 31 Aug 2022</td> <th>  Pseudo R-squ.:     </th>   <td> 1.000</td>   \n",
       "</tr>\n",
       "<tr>\n",
       "  <th>Time:</th>                <td>10:25:30</td>     <th>  Log-Likelihood:    </th> <td>-1.3750e-06</td>\n",
       "</tr>\n",
       "<tr>\n",
       "  <th>converged:</th>             <td>True</td>       <th>  LL-Null:           </th>  <td> -6.7301</td>  \n",
       "</tr>\n",
       "<tr>\n",
       "  <th>Covariance Type:</th>     <td>nonrobust</td>    <th>  LLR p-value:       </th>  <td>0.003740</td>  \n",
       "</tr>\n",
       "</table>\n",
       "<table class=\"simpletable\">\n",
       "<tr>\n",
       "         <td></td>            <th>coef</th>     <th>std err</th>      <th>z</th>      <th>P>|z|</th>  <th>[0.025</th>    <th>0.975]</th>  \n",
       "</tr>\n",
       "<tr>\n",
       "  <th>Intercept</th>       <td>   -2.9397</td> <td> 3.14e+08</td> <td>-9.36e-09</td> <td> 1.000</td> <td>-6.16e+08</td> <td> 6.16e+08</td>\n",
       "</tr>\n",
       "<tr>\n",
       "  <th>Year</th>            <td>    5.2768</td> <td> 1.26e+07</td> <td>  4.2e-07</td> <td> 1.000</td> <td>-2.46e+07</td> <td> 2.46e+07</td>\n",
       "</tr>\n",
       "<tr>\n",
       "  <th>Amount_Spent</th>    <td>    5.8153</td> <td> 2.37e+07</td> <td> 2.45e-07</td> <td> 1.000</td> <td>-4.64e+07</td> <td> 4.64e+07</td>\n",
       "</tr>\n",
       "<tr>\n",
       "  <th>Popularity_Rank</th> <td>  -75.1724</td> <td> 1.05e+08</td> <td>-7.15e-07</td> <td> 1.000</td> <td>-2.06e+08</td> <td> 2.06e+08</td>\n",
       "</tr>\n",
       "</table><br/><br/>Complete Separation: The results show that there iscomplete separation.<br/>In this case the Maximum Likelihood Estimator does not exist and the parameters<br/>are not identified."
      ],
      "text/plain": [
       "<class 'statsmodels.iolib.summary.Summary'>\n",
       "\"\"\"\n",
       "                           Logit Regression Results                           \n",
       "==============================================================================\n",
       "Dep. Variable:                 Result   No. Observations:                   10\n",
       "Model:                          Logit   Df Residuals:                        6\n",
       "Method:                           MLE   Df Model:                            3\n",
       "Date:                Wed, 31 Aug 2022   Pseudo R-squ.:                   1.000\n",
       "Time:                        10:25:30   Log-Likelihood:            -1.3750e-06\n",
       "converged:                       True   LL-Null:                       -6.7301\n",
       "Covariance Type:            nonrobust   LLR p-value:                  0.003740\n",
       "===================================================================================\n",
       "                      coef    std err          z      P>|z|      [0.025      0.975]\n",
       "-----------------------------------------------------------------------------------\n",
       "Intercept          -2.9397   3.14e+08  -9.36e-09      1.000   -6.16e+08    6.16e+08\n",
       "Year                5.2768   1.26e+07    4.2e-07      1.000   -2.46e+07    2.46e+07\n",
       "Amount_Spent        5.8153   2.37e+07   2.45e-07      1.000   -4.64e+07    4.64e+07\n",
       "Popularity_Rank   -75.1724   1.05e+08  -7.15e-07      1.000   -2.06e+08    2.06e+08\n",
       "===================================================================================\n",
       "\n",
       "Complete Separation: The results show that there iscomplete separation.\n",
       "In this case the Maximum Likelihood Estimator does not exist and the parameters\n",
       "are not identified.\n",
       "\"\"\""
      ]
     },
     "execution_count": 20,
     "metadata": {},
     "output_type": "execute_result"
    }
   ],
   "source": [
    "logit_model.summary2() #for AIC model#\n",
    "logit_model.summary()"
   ]
  },
  {
   "cell_type": "code",
   "execution_count": 23,
   "id": "3f246601",
   "metadata": {},
   "outputs": [],
   "source": [
    "pred= logit_model.predict(election.iloc[:,1:])"
   ]
  },
  {
   "cell_type": "code",
   "execution_count": 25,
   "id": "e3dba5fb",
   "metadata": {},
   "outputs": [
    {
     "data": {
      "text/plain": [
       "0.9999999886004559"
      ]
     },
     "execution_count": 25,
     "metadata": {},
     "output_type": "execute_result"
    }
   ],
   "source": [
    "fpr,tpr,thresholds = roc_curve(election.Result,pred)\n",
    "optimal_idx =np.argmax(tpr-fpr)\n",
    "optimal_threshold = thresholds[optimal_idx]\n",
    "optimal_threshold"
   ]
  },
  {
   "cell_type": "code",
   "execution_count": 26,
   "id": "72aabf30",
   "metadata": {},
   "outputs": [],
   "source": [
    "import pylab as pl"
   ]
  },
  {
   "cell_type": "code",
   "execution_count": 27,
   "id": "53f967dc",
   "metadata": {},
   "outputs": [
    {
     "data": {
      "text/html": [
       "<div>\n",
       "<style scoped>\n",
       "    .dataframe tbody tr th:only-of-type {\n",
       "        vertical-align: middle;\n",
       "    }\n",
       "\n",
       "    .dataframe tbody tr th {\n",
       "        vertical-align: top;\n",
       "    }\n",
       "\n",
       "    .dataframe thead th {\n",
       "        text-align: right;\n",
       "    }\n",
       "</style>\n",
       "<table border=\"1\" class=\"dataframe\">\n",
       "  <thead>\n",
       "    <tr style=\"text-align: right;\">\n",
       "      <th></th>\n",
       "      <th>fpr</th>\n",
       "      <th>tpr</th>\n",
       "      <th>1-fpr</th>\n",
       "      <th>tf</th>\n",
       "      <th>thresholds</th>\n",
       "    </tr>\n",
       "  </thead>\n",
       "  <tbody>\n",
       "    <tr>\n",
       "      <th>2</th>\n",
       "      <td>0.0</td>\n",
       "      <td>1.0</td>\n",
       "      <td>1.0</td>\n",
       "      <td>0.0</td>\n",
       "      <td>1.0</td>\n",
       "    </tr>\n",
       "  </tbody>\n",
       "</table>\n",
       "</div>"
      ],
      "text/plain": [
       "   fpr  tpr  1-fpr   tf  thresholds\n",
       "2  0.0  1.0    1.0  0.0         1.0"
      ]
     },
     "execution_count": 27,
     "metadata": {},
     "output_type": "execute_result"
    }
   ],
   "source": [
    "i = np.arange(len(tpr))\n",
    "roc = pd.DataFrame({'fpr':pd.Series(fpr,index=i),'tpr':pd.Series(tpr,index=i), '1-fpr':pd.Series(1-fpr,index=i),'tf': pd.Series(tpr-(1-fpr),index=i), 'thresholds':pd.Series(thresholds,index= i)})\n",
    "roc.iloc[(roc.tf-0).abs().argsort()[:1]]"
   ]
  },
  {
   "cell_type": "code",
   "execution_count": 28,
   "id": "ef41b3a3",
   "metadata": {},
   "outputs": [
    {
     "data": {
      "text/plain": [
       "[Text(-0.5, 0, ''),\n",
       " Text(0.0, 0, ''),\n",
       " Text(0.5, 0, ''),\n",
       " Text(1.0, 0, ''),\n",
       " Text(1.5, 0, ''),\n",
       " Text(2.0, 0, ''),\n",
       " Text(2.5, 0, ''),\n",
       " Text(3.0, 0, ''),\n",
       " Text(3.5, 0, '')]"
      ]
     },
     "execution_count": 28,
     "metadata": {},
     "output_type": "execute_result"
    },
    {
     "data": {
      "image/png": "[encoded data removed]",
      "text/plain": [
       "<Figure size 432x288 with 1 Axes>"
      ]
     },
     "metadata": {
      "needs_background": "light"
     },
     "output_type": "display_data"
    }
   ],
   "source": [
    "##plotting tpr vs 1-fpr\n",
    "fig, ax= pl.subplots()\n",
    "pl.plot(roc['tpr'], color = 'red')\n",
    "pl.plot(roc['1-fpr'], color = 'blue')\n",
    "pl.xlabel('1-False positive rate')\n",
    "pl.ylabel('True positive rate')\n",
    "pl.title('Reciever operating characteristic')\n",
    "ax.set_xticklabels([])"
   ]
  },
  {
   "cell_type": "code",
   "execution_count": 29,
   "id": "0baedfc7",
   "metadata": {},
   "outputs": [
    {
     "name": "stdout",
     "output_type": "stream",
     "text": [
      "Area under the ROC curve:1.000000\n"
     ]
    }
   ],
   "source": [
    "roc_auc = auc(fpr,tpr)\n",
    "print('Area under the ROC curve:%f'% roc_auc)"
   ]
  },
  {
   "cell_type": "code",
   "execution_count": 30,
   "id": "1fbf7145",
   "metadata": {},
   "outputs": [],
   "source": [
    "election[\"pred\"] = np.zeros(10)"
   ]
  },
  {
   "cell_type": "code",
   "execution_count": 32,
   "id": "7ab12b5c",
   "metadata": {},
   "outputs": [],
   "source": [
    "# taking threshold value and above the prob value will be treated as correct value \n",
    "election.loc[pred>optimal_threshold,'pred']=1"
   ]
  },
  {
   "cell_type": "code",
   "execution_count": 34,
   "id": "ea5fbd3d",
   "metadata": {},
   "outputs": [
    {
     "name": "stdout",
     "output_type": "stream",
     "text": [
      "              precision    recall  f1-score   support\n",
      "\n",
      "         0.0       1.00      0.80      0.89         5\n",
      "         1.0       0.83      1.00      0.91         5\n",
      "\n",
      "    accuracy                           0.90        10\n",
      "   macro avg       0.92      0.90      0.90        10\n",
      "weighted avg       0.92      0.90      0.90        10\n",
      "\n"
     ]
    }
   ],
   "source": [
    "##classification report#\n",
    "classification = classification_report(election['pred'], election['Result'])\n",
    "print(classification)"
   ]
  },
  {
   "cell_type": "code",
   "execution_count": 35,
   "id": "ea3300b2",
   "metadata": {},
   "outputs": [],
   "source": [
    "##spliting data into train and test data#\n",
    "train_data, test_data =train_test_split(election,test_size=0.3)"
   ]
  },
  {
   "cell_type": "code",
   "execution_count": 36,
   "id": "63b8fec9",
   "metadata": {},
   "outputs": [
    {
     "name": "stdout",
     "output_type": "stream",
     "text": [
      "Optimization terminated successfully.\n",
      "         Current function value: 0.000000\n",
      "         Iterations: 28\n",
      "         Function evaluations: 31\n",
      "         Gradient evaluations: 31\n"
     ]
    }
   ],
   "source": [
    "final_model = sm.logit('Result ~  Year + Amount_Spent + Popularity_Rank',\n",
    "                       data = election)\n",
    "model=logit.fit(method='bfgs')"
   ]
  },
  {
   "cell_type": "code",
   "execution_count": 37,
   "id": "a0af7422",
   "metadata": {},
   "outputs": [
    {
     "data": {
      "text/html": [
       "<table class=\"simpletable\">\n",
       "<caption>Logit Regression Results</caption>\n",
       "<tr>\n",
       "  <th>Dep. Variable:</th>        <td>Result</td>      <th>  No. Observations:  </th>   <td>    10</td>   \n",
       "</tr>\n",
       "<tr>\n",
       "  <th>Model:</th>                 <td>Logit</td>      <th>  Df Residuals:      </th>   <td>     6</td>   \n",
       "</tr>\n",
       "<tr>\n",
       "  <th>Method:</th>                 <td>MLE</td>       <th>  Df Model:          </th>   <td>     3</td>   \n",
       "</tr>\n",
       "<tr>\n",
       "  <th>Date:</th>            <td>Wed, 31 Aug 2022</td> <th>  Pseudo R-squ.:     </th>   <td> 1.000</td>   \n",
       "</tr>\n",
       "<tr>\n",
       "  <th>Time:</th>                <td>10:34:12</td>     <th>  Log-Likelihood:    </th> <td>-1.3750e-06</td>\n",
       "</tr>\n",
       "<tr>\n",
       "  <th>converged:</th>             <td>True</td>       <th>  LL-Null:           </th>  <td> -6.7301</td>  \n",
       "</tr>\n",
       "<tr>\n",
       "  <th>Covariance Type:</th>     <td>nonrobust</td>    <th>  LLR p-value:       </th>  <td>0.003740</td>  \n",
       "</tr>\n",
       "</table>\n",
       "<table class=\"simpletable\">\n",
       "<tr>\n",
       "         <td></td>            <th>coef</th>     <th>std err</th>      <th>z</th>      <th>P>|z|</th>  <th>[0.025</th>    <th>0.975]</th>  \n",
       "</tr>\n",
       "<tr>\n",
       "  <th>Intercept</th>       <td>   -2.9397</td> <td> 3.14e+08</td> <td>-9.36e-09</td> <td> 1.000</td> <td>-6.16e+08</td> <td> 6.16e+08</td>\n",
       "</tr>\n",
       "<tr>\n",
       "  <th>Year</th>            <td>    5.2768</td> <td> 1.26e+07</td> <td>  4.2e-07</td> <td> 1.000</td> <td>-2.46e+07</td> <td> 2.46e+07</td>\n",
       "</tr>\n",
       "<tr>\n",
       "  <th>Amount_Spent</th>    <td>    5.8153</td> <td> 2.37e+07</td> <td> 2.45e-07</td> <td> 1.000</td> <td>-4.64e+07</td> <td> 4.64e+07</td>\n",
       "</tr>\n",
       "<tr>\n",
       "  <th>Popularity_Rank</th> <td>  -75.1724</td> <td> 1.05e+08</td> <td>-7.15e-07</td> <td> 1.000</td> <td>-2.06e+08</td> <td> 2.06e+08</td>\n",
       "</tr>\n",
       "</table><br/><br/>Complete Separation: The results show that there iscomplete separation.<br/>In this case the Maximum Likelihood Estimator does not exist and the parameters<br/>are not identified."
      ],
      "text/plain": [
       "<class 'statsmodels.iolib.summary.Summary'>\n",
       "\"\"\"\n",
       "                           Logit Regression Results                           \n",
       "==============================================================================\n",
       "Dep. Variable:                 Result   No. Observations:                   10\n",
       "Model:                          Logit   Df Residuals:                        6\n",
       "Method:                           MLE   Df Model:                            3\n",
       "Date:                Wed, 31 Aug 2022   Pseudo R-squ.:                   1.000\n",
       "Time:                        10:34:12   Log-Likelihood:            -1.3750e-06\n",
       "converged:                       True   LL-Null:                       -6.7301\n",
       "Covariance Type:            nonrobust   LLR p-value:                  0.003740\n",
       "===================================================================================\n",
       "                      coef    std err          z      P>|z|      [0.025      0.975]\n",
       "-----------------------------------------------------------------------------------\n",
       "Intercept          -2.9397   3.14e+08  -9.36e-09      1.000   -6.16e+08    6.16e+08\n",
       "Year                5.2768   1.26e+07    4.2e-07      1.000   -2.46e+07    2.46e+07\n",
       "Amount_Spent        5.8153   2.37e+07   2.45e-07      1.000   -4.64e+07    4.64e+07\n",
       "Popularity_Rank   -75.1724   1.05e+08  -7.15e-07      1.000   -2.06e+08    2.06e+08\n",
       "===================================================================================\n",
       "\n",
       "Complete Separation: The results show that there iscomplete separation.\n",
       "In this case the Maximum Likelihood Estimator does not exist and the parameters\n",
       "are not identified.\n",
       "\"\"\""
      ]
     },
     "execution_count": 37,
     "metadata": {},
     "output_type": "execute_result"
    }
   ],
   "source": [
    "model.summary2() #for AIC model#\n",
    "model.summary()"
   ]
  },
  {
   "cell_type": "code",
   "execution_count": 38,
   "id": "872ef9e1",
   "metadata": {},
   "outputs": [],
   "source": [
    "#prediction on test data#\n",
    "test_pred  = model.predict(test_data.iloc[:,1:])\n"
   ]
  },
  {
   "cell_type": "code",
   "execution_count": 39,
   "id": "a461e80a",
   "metadata": {},
   "outputs": [],
   "source": [
    "##creating new column for storing prediction#\n",
    "#filling all the cell with zeros\n",
    "test_data['test_pred'] = np.zeros(3)"
   ]
  },
  {
   "cell_type": "code",
   "execution_count": 40,
   "id": "96436e2a",
   "metadata": {},
   "outputs": [],
   "source": [
    "# taking threshold value as 'optimal_threshold' and above the thresold prob value will be treated as 1 #\n",
    "test_data.loc[test_pred>optimal_threshold,'test_pred']=1"
   ]
  },
  {
   "cell_type": "code",
   "execution_count": 41,
   "id": "3337d9ad",
   "metadata": {},
   "outputs": [
    {
     "data": {
      "text/html": [
       "<div>\n",
       "<style scoped>\n",
       "    .dataframe tbody tr th:only-of-type {\n",
       "        vertical-align: middle;\n",
       "    }\n",
       "\n",
       "    .dataframe tbody tr th {\n",
       "        vertical-align: top;\n",
       "    }\n",
       "\n",
       "    .dataframe thead th {\n",
       "        text-align: right;\n",
       "    }\n",
       "</style>\n",
       "<table border=\"1\" class=\"dataframe\">\n",
       "  <thead>\n",
       "    <tr style=\"text-align: right;\">\n",
       "      <th>Result</th>\n",
       "      <th>0.0</th>\n",
       "      <th>1.0</th>\n",
       "    </tr>\n",
       "    <tr>\n",
       "      <th>test_pred</th>\n",
       "      <th></th>\n",
       "      <th></th>\n",
       "    </tr>\n",
       "  </thead>\n",
       "  <tbody>\n",
       "    <tr>\n",
       "      <th>0.0</th>\n",
       "      <td>1</td>\n",
       "      <td>0</td>\n",
       "    </tr>\n",
       "    <tr>\n",
       "      <th>1.0</th>\n",
       "      <td>0</td>\n",
       "      <td>2</td>\n",
       "    </tr>\n",
       "  </tbody>\n",
       "</table>\n",
       "</div>"
      ],
      "text/plain": [
       "Result     0.0  1.0\n",
       "test_pred          \n",
       "0.0          1    0\n",
       "1.0          0    2"
      ]
     },
     "execution_count": 41,
     "metadata": {},
     "output_type": "execute_result"
    }
   ],
   "source": [
    "##confusion matrix#\n",
    "confusion_matrix =  pd.crosstab(test_data.test_pred, test_data['Result'])\n",
    "confusion_matrix"
   ]
  },
  {
   "cell_type": "code",
   "execution_count": 42,
   "id": "958d1da5",
   "metadata": {},
   "outputs": [
    {
     "data": {
      "text/plain": [
       "1.0"
      ]
     },
     "execution_count": 42,
     "metadata": {},
     "output_type": "execute_result"
    }
   ],
   "source": [
    "accuracy_test  = accuracy_score(test_data['Result'], test_data.test_pred)\n",
    "accuracy_test"
   ]
  },
  {
   "cell_type": "code",
   "execution_count": 43,
   "id": "2ee2bcb9",
   "metadata": {},
   "outputs": [
    {
     "name": "stdout",
     "output_type": "stream",
     "text": [
      "              precision    recall  f1-score   support\n",
      "\n",
      "         0.0       1.00      1.00      1.00         1\n",
      "         1.0       1.00      1.00      1.00         2\n",
      "\n",
      "    accuracy                           1.00         3\n",
      "   macro avg       1.00      1.00      1.00         3\n",
      "weighted avg       1.00      1.00      1.00         3\n",
      "\n"
     ]
    }
   ],
   "source": [
    "##classification report#\n",
    "classification = classification_report(test_data['test_pred'], test_data['Result'])\n",
    "print(classification)"
   ]
  },
  {
   "cell_type": "code",
   "execution_count": 44,
   "id": "b0738a3f",
   "metadata": {},
   "outputs": [],
   "source": [
    "##roc curve and AUC#\n",
    "fpr,tpr,threshold = metrics.roc_curve(test_data['Result'],test_pred)"
   ]
  },
  {
   "cell_type": "code",
   "execution_count": 45,
   "id": "1b273e73",
   "metadata": {},
   "outputs": [
    {
     "data": {
      "text/plain": [
       "Text(0, 0.5, 'True positive rate')"
      ]
     },
     "execution_count": 45,
     "metadata": {},
     "output_type": "execute_result"
    },
    {
     "data": {
      "image/png": "[encoded data removed]",
      "text/plain": [
       "<Figure size 432x288 with 1 Axes>"
      ]
     },
     "metadata": {
      "needs_background": "light"
     },
     "output_type": "display_data"
    }
   ],
   "source": [
    "##ROC plot#\n",
    "plt.plot(fpr,tpr);plt.xlabel(\"False positive rate\");plt.ylabel(\"True positive rate\")"
   ]
  },
  {
   "cell_type": "code",
   "execution_count": 46,
   "id": "018d35e5",
   "metadata": {},
   "outputs": [
    {
     "data": {
      "text/plain": [
       "1.0"
      ]
     },
     "execution_count": 46,
     "metadata": {},
     "output_type": "execute_result"
    }
   ],
   "source": [
    "roc_auc_test = metrics.auc(fpr,tpr)\n",
    "roc_auc_test"
   ]
  },
  {
   "cell_type": "code",
   "execution_count": 47,
   "id": "78823bb9",
   "metadata": {},
   "outputs": [],
   "source": [
    "##prediction on test data#\n",
    "train_pred = model.predict(train_data.iloc[:,1:])"
   ]
  },
  {
   "cell_type": "code",
   "execution_count": 48,
   "id": "19711818",
   "metadata": {},
   "outputs": [],
   "source": [
    "##create new columns#\n",
    "##filling all  the cell with colums#\n",
    "train_data['train_pred'] = np.zeros(7)"
   ]
  },
  {
   "cell_type": "code",
   "execution_count": 49,
   "id": "793a3b3a",
   "metadata": {},
   "outputs": [],
   "source": [
    "# taking threshold value and above the prob value will be treated as correct value #\n",
    "train_data.loc[train_pred>optimal_threshold, 'train_pred'] =1"
   ]
  },
  {
   "cell_type": "code",
   "execution_count": 51,
   "id": "cba80908",
   "metadata": {},
   "outputs": [
    {
     "data": {
      "text/html": [
       "<div>\n",
       "<style scoped>\n",
       "    .dataframe tbody tr th:only-of-type {\n",
       "        vertical-align: middle;\n",
       "    }\n",
       "\n",
       "    .dataframe tbody tr th {\n",
       "        vertical-align: top;\n",
       "    }\n",
       "\n",
       "    .dataframe thead th {\n",
       "        text-align: right;\n",
       "    }\n",
       "</style>\n",
       "<table border=\"1\" class=\"dataframe\">\n",
       "  <thead>\n",
       "    <tr style=\"text-align: right;\">\n",
       "      <th>Result</th>\n",
       "      <th>0.0</th>\n",
       "      <th>1.0</th>\n",
       "    </tr>\n",
       "    <tr>\n",
       "      <th>train_pred</th>\n",
       "      <th></th>\n",
       "      <th></th>\n",
       "    </tr>\n",
       "  </thead>\n",
       "  <tbody>\n",
       "    <tr>\n",
       "      <th>0.0</th>\n",
       "      <td>3</td>\n",
       "      <td>1</td>\n",
       "    </tr>\n",
       "    <tr>\n",
       "      <th>1.0</th>\n",
       "      <td>0</td>\n",
       "      <td>3</td>\n",
       "    </tr>\n",
       "  </tbody>\n",
       "</table>\n",
       "</div>"
      ],
      "text/plain": [
       "Result      0.0  1.0\n",
       "train_pred          \n",
       "0.0           3    1\n",
       "1.0           0    3"
      ]
     },
     "execution_count": 51,
     "metadata": {},
     "output_type": "execute_result"
    }
   ],
   "source": [
    "##confusion matrix#\n",
    "confusion_matrix = pd.crosstab(train_data.train_pred, train_data['Result'])\n",
    "confusion_matrix"
   ]
  },
  {
   "cell_type": "code",
   "execution_count": 53,
   "id": "0adb2975",
   "metadata": {},
   "outputs": [
    {
     "data": {
      "text/plain": [
       "0.8571428571428571"
      ]
     },
     "execution_count": 53,
     "metadata": {},
     "output_type": "execute_result"
    }
   ],
   "source": [
    "##accuracy score#\n",
    "accuracy_train = accuracy_score(train_data['Result'], train_data.train_pred)\n",
    "accuracy_train"
   ]
  },
  {
   "cell_type": "markdown",
   "id": "a8cdc191",
   "metadata": {},
   "source": [
    "PROBLEM 4#"
   ]
  },
  {
   "cell_type": "code",
   "execution_count": 54,
   "id": "c26e9137",
   "metadata": {},
   "outputs": [],
   "source": [
    "import pandas as pd\n",
    "import numpy as np\n",
    "import matplotlib.pyplot as plt\n",
    "import statsmodels.api as sm\n",
    "from sklearn.model_selection import train_test_split # train and test \n",
    "from sklearn import metrics\n",
    "from sklearn.metrics import roc_curve, auc\n",
    "from sklearn.metrics import classification_report\n",
    "from sklearn.metrics import accuracy_score"
   ]
  },
  {
   "cell_type": "code",
   "execution_count": 61,
   "id": "cfb72da5",
   "metadata": {},
   "outputs": [],
   "source": [
    "##LOADING DATASET#\n",
    "bank= pd.read_csv('D:\\\\DATA SCIENCE ASSIGNMENT\\\\Datasets_LR\\\\bank_data.csv', sep=',')"
   ]
  },
  {
   "cell_type": "code",
   "execution_count": 62,
   "id": "15e5834e",
   "metadata": {},
   "outputs": [
    {
     "data": {
      "text/html": [
       "<div>\n",
       "<style scoped>\n",
       "    .dataframe tbody tr th:only-of-type {\n",
       "        vertical-align: middle;\n",
       "    }\n",
       "\n",
       "    .dataframe tbody tr th {\n",
       "        vertical-align: top;\n",
       "    }\n",
       "\n",
       "    .dataframe thead th {\n",
       "        text-align: right;\n",
       "    }\n",
       "</style>\n",
       "<table border=\"1\" class=\"dataframe\">\n",
       "  <thead>\n",
       "    <tr style=\"text-align: right;\">\n",
       "      <th></th>\n",
       "      <th>age</th>\n",
       "      <th>default</th>\n",
       "      <th>balance</th>\n",
       "      <th>housing</th>\n",
       "      <th>loan</th>\n",
       "      <th>duration</th>\n",
       "      <th>campaign</th>\n",
       "      <th>pdays</th>\n",
       "      <th>previous</th>\n",
       "      <th>poutfailure</th>\n",
       "      <th>...</th>\n",
       "      <th>johousemaid</th>\n",
       "      <th>jomanagement</th>\n",
       "      <th>joretired</th>\n",
       "      <th>joself.employed</th>\n",
       "      <th>joservices</th>\n",
       "      <th>jostudent</th>\n",
       "      <th>jotechnician</th>\n",
       "      <th>jounemployed</th>\n",
       "      <th>jounknown</th>\n",
       "      <th>y</th>\n",
       "    </tr>\n",
       "  </thead>\n",
       "  <tbody>\n",
       "    <tr>\n",
       "      <th>0</th>\n",
       "      <td>58</td>\n",
       "      <td>0</td>\n",
       "      <td>2143</td>\n",
       "      <td>1</td>\n",
       "      <td>0</td>\n",
       "      <td>261</td>\n",
       "      <td>1</td>\n",
       "      <td>-1</td>\n",
       "      <td>0</td>\n",
       "      <td>0</td>\n",
       "      <td>...</td>\n",
       "      <td>0</td>\n",
       "      <td>1</td>\n",
       "      <td>0</td>\n",
       "      <td>0</td>\n",
       "      <td>0</td>\n",
       "      <td>0</td>\n",
       "      <td>0</td>\n",
       "      <td>0</td>\n",
       "      <td>0</td>\n",
       "      <td>0</td>\n",
       "    </tr>\n",
       "    <tr>\n",
       "      <th>1</th>\n",
       "      <td>44</td>\n",
       "      <td>0</td>\n",
       "      <td>29</td>\n",
       "      <td>1</td>\n",
       "      <td>0</td>\n",
       "      <td>151</td>\n",
       "      <td>1</td>\n",
       "      <td>-1</td>\n",
       "      <td>0</td>\n",
       "      <td>0</td>\n",
       "      <td>...</td>\n",
       "      <td>0</td>\n",
       "      <td>0</td>\n",
       "      <td>0</td>\n",
       "      <td>0</td>\n",
       "      <td>0</td>\n",
       "      <td>0</td>\n",
       "      <td>1</td>\n",
       "      <td>0</td>\n",
       "      <td>0</td>\n",
       "      <td>0</td>\n",
       "    </tr>\n",
       "    <tr>\n",
       "      <th>2</th>\n",
       "      <td>33</td>\n",
       "      <td>0</td>\n",
       "      <td>2</td>\n",
       "      <td>1</td>\n",
       "      <td>1</td>\n",
       "      <td>76</td>\n",
       "      <td>1</td>\n",
       "      <td>-1</td>\n",
       "      <td>0</td>\n",
       "      <td>0</td>\n",
       "      <td>...</td>\n",
       "      <td>0</td>\n",
       "      <td>0</td>\n",
       "      <td>0</td>\n",
       "      <td>0</td>\n",
       "      <td>0</td>\n",
       "      <td>0</td>\n",
       "      <td>0</td>\n",
       "      <td>0</td>\n",
       "      <td>0</td>\n",
       "      <td>0</td>\n",
       "    </tr>\n",
       "    <tr>\n",
       "      <th>3</th>\n",
       "      <td>47</td>\n",
       "      <td>0</td>\n",
       "      <td>1506</td>\n",
       "      <td>1</td>\n",
       "      <td>0</td>\n",
       "      <td>92</td>\n",
       "      <td>1</td>\n",
       "      <td>-1</td>\n",
       "      <td>0</td>\n",
       "      <td>0</td>\n",
       "      <td>...</td>\n",
       "      <td>0</td>\n",
       "      <td>0</td>\n",
       "      <td>0</td>\n",
       "      <td>0</td>\n",
       "      <td>0</td>\n",
       "      <td>0</td>\n",
       "      <td>0</td>\n",
       "      <td>0</td>\n",
       "      <td>0</td>\n",
       "      <td>0</td>\n",
       "    </tr>\n",
       "    <tr>\n",
       "      <th>4</th>\n",
       "      <td>33</td>\n",
       "      <td>0</td>\n",
       "      <td>1</td>\n",
       "      <td>0</td>\n",
       "      <td>0</td>\n",
       "      <td>198</td>\n",
       "      <td>1</td>\n",
       "      <td>-1</td>\n",
       "      <td>0</td>\n",
       "      <td>0</td>\n",
       "      <td>...</td>\n",
       "      <td>0</td>\n",
       "      <td>0</td>\n",
       "      <td>0</td>\n",
       "      <td>0</td>\n",
       "      <td>0</td>\n",
       "      <td>0</td>\n",
       "      <td>0</td>\n",
       "      <td>0</td>\n",
       "      <td>1</td>\n",
       "      <td>0</td>\n",
       "    </tr>\n",
       "  </tbody>\n",
       "</table>\n",
       "<p>5 rows × 32 columns</p>\n",
       "</div>"
      ],
      "text/plain": [
       "   age  default  balance  housing  loan  duration  campaign  pdays  previous  \\\n",
       "0   58        0     2143        1     0       261         1     -1         0   \n",
       "1   44        0       29        1     0       151         1     -1         0   \n",
       "2   33        0        2        1     1        76         1     -1         0   \n",
       "3   47        0     1506        1     0        92         1     -1         0   \n",
       "4   33        0        1        0     0       198         1     -1         0   \n",
       "\n",
       "   poutfailure  ...  johousemaid  jomanagement  joretired  joself.employed  \\\n",
       "0            0  ...            0             1          0                0   \n",
       "1            0  ...            0             0          0                0   \n",
       "2            0  ...            0             0          0                0   \n",
       "3            0  ...            0             0          0                0   \n",
       "4            0  ...            0             0          0                0   \n",
       "\n",
       "   joservices  jostudent  jotechnician  jounemployed  jounknown  y  \n",
       "0           0          0             0             0          0  0  \n",
       "1           0          0             1             0          0  0  \n",
       "2           0          0             0             0          0  0  \n",
       "3           0          0             0             0          0  0  \n",
       "4           0          0             0             0          1  0  \n",
       "\n",
       "[5 rows x 32 columns]"
      ]
     },
     "execution_count": 62,
     "metadata": {},
     "output_type": "execute_result"
    }
   ],
   "source": [
    "bank.head(5)"
   ]
  },
  {
   "cell_type": "code",
   "execution_count": 63,
   "id": "cc4142ef",
   "metadata": {},
   "outputs": [
    {
     "data": {
      "text/html": [
       "<div>\n",
       "<style scoped>\n",
       "    .dataframe tbody tr th:only-of-type {\n",
       "        vertical-align: middle;\n",
       "    }\n",
       "\n",
       "    .dataframe tbody tr th {\n",
       "        vertical-align: top;\n",
       "    }\n",
       "\n",
       "    .dataframe thead th {\n",
       "        text-align: right;\n",
       "    }\n",
       "</style>\n",
       "<table border=\"1\" class=\"dataframe\">\n",
       "  <thead>\n",
       "    <tr style=\"text-align: right;\">\n",
       "      <th></th>\n",
       "      <th>age</th>\n",
       "      <th>default</th>\n",
       "      <th>balance</th>\n",
       "      <th>housing</th>\n",
       "      <th>loan</th>\n",
       "      <th>duration</th>\n",
       "      <th>campaign</th>\n",
       "      <th>pdays</th>\n",
       "      <th>previous</th>\n",
       "      <th>poutfailure</th>\n",
       "      <th>...</th>\n",
       "      <th>johousemaid</th>\n",
       "      <th>jomanagement</th>\n",
       "      <th>joretired</th>\n",
       "      <th>joself.employed</th>\n",
       "      <th>joservices</th>\n",
       "      <th>jostudent</th>\n",
       "      <th>jotechnician</th>\n",
       "      <th>jounemployed</th>\n",
       "      <th>jounknown</th>\n",
       "      <th>y</th>\n",
       "    </tr>\n",
       "  </thead>\n",
       "  <tbody>\n",
       "    <tr>\n",
       "      <th>45206</th>\n",
       "      <td>51</td>\n",
       "      <td>0</td>\n",
       "      <td>825</td>\n",
       "      <td>0</td>\n",
       "      <td>0</td>\n",
       "      <td>977</td>\n",
       "      <td>3</td>\n",
       "      <td>-1</td>\n",
       "      <td>0</td>\n",
       "      <td>0</td>\n",
       "      <td>...</td>\n",
       "      <td>0</td>\n",
       "      <td>0</td>\n",
       "      <td>0</td>\n",
       "      <td>0</td>\n",
       "      <td>0</td>\n",
       "      <td>0</td>\n",
       "      <td>1</td>\n",
       "      <td>0</td>\n",
       "      <td>0</td>\n",
       "      <td>1</td>\n",
       "    </tr>\n",
       "    <tr>\n",
       "      <th>45207</th>\n",
       "      <td>71</td>\n",
       "      <td>0</td>\n",
       "      <td>1729</td>\n",
       "      <td>0</td>\n",
       "      <td>0</td>\n",
       "      <td>456</td>\n",
       "      <td>2</td>\n",
       "      <td>-1</td>\n",
       "      <td>0</td>\n",
       "      <td>0</td>\n",
       "      <td>...</td>\n",
       "      <td>0</td>\n",
       "      <td>0</td>\n",
       "      <td>1</td>\n",
       "      <td>0</td>\n",
       "      <td>0</td>\n",
       "      <td>0</td>\n",
       "      <td>0</td>\n",
       "      <td>0</td>\n",
       "      <td>0</td>\n",
       "      <td>1</td>\n",
       "    </tr>\n",
       "    <tr>\n",
       "      <th>45208</th>\n",
       "      <td>72</td>\n",
       "      <td>0</td>\n",
       "      <td>5715</td>\n",
       "      <td>0</td>\n",
       "      <td>0</td>\n",
       "      <td>1127</td>\n",
       "      <td>5</td>\n",
       "      <td>184</td>\n",
       "      <td>3</td>\n",
       "      <td>0</td>\n",
       "      <td>...</td>\n",
       "      <td>0</td>\n",
       "      <td>0</td>\n",
       "      <td>1</td>\n",
       "      <td>0</td>\n",
       "      <td>0</td>\n",
       "      <td>0</td>\n",
       "      <td>0</td>\n",
       "      <td>0</td>\n",
       "      <td>0</td>\n",
       "      <td>1</td>\n",
       "    </tr>\n",
       "    <tr>\n",
       "      <th>45209</th>\n",
       "      <td>57</td>\n",
       "      <td>0</td>\n",
       "      <td>668</td>\n",
       "      <td>0</td>\n",
       "      <td>0</td>\n",
       "      <td>508</td>\n",
       "      <td>4</td>\n",
       "      <td>-1</td>\n",
       "      <td>0</td>\n",
       "      <td>0</td>\n",
       "      <td>...</td>\n",
       "      <td>0</td>\n",
       "      <td>0</td>\n",
       "      <td>0</td>\n",
       "      <td>0</td>\n",
       "      <td>0</td>\n",
       "      <td>0</td>\n",
       "      <td>0</td>\n",
       "      <td>0</td>\n",
       "      <td>0</td>\n",
       "      <td>0</td>\n",
       "    </tr>\n",
       "    <tr>\n",
       "      <th>45210</th>\n",
       "      <td>37</td>\n",
       "      <td>0</td>\n",
       "      <td>2971</td>\n",
       "      <td>0</td>\n",
       "      <td>0</td>\n",
       "      <td>361</td>\n",
       "      <td>2</td>\n",
       "      <td>188</td>\n",
       "      <td>11</td>\n",
       "      <td>0</td>\n",
       "      <td>...</td>\n",
       "      <td>0</td>\n",
       "      <td>0</td>\n",
       "      <td>0</td>\n",
       "      <td>0</td>\n",
       "      <td>0</td>\n",
       "      <td>0</td>\n",
       "      <td>0</td>\n",
       "      <td>0</td>\n",
       "      <td>0</td>\n",
       "      <td>0</td>\n",
       "    </tr>\n",
       "  </tbody>\n",
       "</table>\n",
       "<p>5 rows × 32 columns</p>\n",
       "</div>"
      ],
      "text/plain": [
       "       age  default  balance  housing  loan  duration  campaign  pdays  \\\n",
       "45206   51        0      825        0     0       977         3     -1   \n",
       "45207   71        0     1729        0     0       456         2     -1   \n",
       "45208   72        0     5715        0     0      1127         5    184   \n",
       "45209   57        0      668        0     0       508         4     -1   \n",
       "45210   37        0     2971        0     0       361         2    188   \n",
       "\n",
       "       previous  poutfailure  ...  johousemaid  jomanagement  joretired  \\\n",
       "45206         0            0  ...            0             0          0   \n",
       "45207         0            0  ...            0             0          1   \n",
       "45208         3            0  ...            0             0          1   \n",
       "45209         0            0  ...            0             0          0   \n",
       "45210        11            0  ...            0             0          0   \n",
       "\n",
       "       joself.employed  joservices  jostudent  jotechnician  jounemployed  \\\n",
       "45206                0           0          0             1             0   \n",
       "45207                0           0          0             0             0   \n",
       "45208                0           0          0             0             0   \n",
       "45209                0           0          0             0             0   \n",
       "45210                0           0          0             0             0   \n",
       "\n",
       "       jounknown  y  \n",
       "45206          0  1  \n",
       "45207          0  1  \n",
       "45208          0  1  \n",
       "45209          0  0  \n",
       "45210          0  0  \n",
       "\n",
       "[5 rows x 32 columns]"
      ]
     },
     "execution_count": 63,
     "metadata": {},
     "output_type": "execute_result"
    }
   ],
   "source": [
    "bank.tail() "
   ]
  },
  {
   "cell_type": "code",
   "execution_count": 65,
   "id": "176b9024",
   "metadata": {},
   "outputs": [
    {
     "data": {
      "text/plain": [
       "age                0\n",
       "default            0\n",
       "balance            0\n",
       "housing            0\n",
       "loan               0\n",
       "duration           0\n",
       "campaign           0\n",
       "pdays              0\n",
       "previous           0\n",
       "poutfailure        0\n",
       "poutother          0\n",
       "poutsuccess        0\n",
       "poutunknown        0\n",
       "con_cellular       0\n",
       "con_telephone      0\n",
       "con_unknown        0\n",
       "divorced           0\n",
       "married            0\n",
       "single             0\n",
       "joadmin.           0\n",
       "joblue.collar      0\n",
       "joentrepreneur     0\n",
       "johousemaid        0\n",
       "jomanagement       0\n",
       "joretired          0\n",
       "joself.employed    0\n",
       "joservices         0\n",
       "jostudent          0\n",
       "jotechnician       0\n",
       "jounemployed       0\n",
       "jounknown          0\n",
       "y                  0\n",
       "dtype: int64"
      ]
     },
     "execution_count": 65,
     "metadata": {},
     "output_type": "execute_result"
    }
   ],
   "source": [
    "bank.isna().sum()##checking for missing data#"
   ]
  },
  {
   "cell_type": "code",
   "execution_count": 66,
   "id": "87507b37",
   "metadata": {},
   "outputs": [],
   "source": [
    "cols_data = ['age', 'default', 'balance', 'housing', 'loan', 'duration', 'campaign',\n",
    "       'pdays', 'previous', 'poutfailure', 'poutother', 'poutsuccess',\n",
    "       'poutunknown', 'con_cellular', 'con_telephone', 'con_unknown',\n",
    "       'divorced', 'married', 'single', 'joadmin.', 'joblue.collar',\n",
    "       'joentrepreneur', 'johousemaid', 'jomanagement', 'joretired',\n",
    "       'joself.employed', 'joservices', 'jostudent', 'jotechnician',\n",
    "       'jounemployed', 'jounknown'] ##storing as columns as cols_data#"
   ]
  },
  {
   "cell_type": "code",
   "execution_count": 68,
   "id": "6c577e2d",
   "metadata": {},
   "outputs": [
    {
     "name": "stdout",
     "output_type": "stream",
     "text": [
      "Optimization terminated successfully.\n",
      "         Current function value: 0.250376\n",
      "         Iterations 8\n"
     ]
    }
   ],
   "source": [
    "##model building#\n",
    "logit_model= sm.Logit(bank['y'],bank[cols_data]).fit()"
   ]
  },
  {
   "cell_type": "code",
   "execution_count": 69,
   "id": "0e7992e8",
   "metadata": {},
   "outputs": [
    {
     "data": {
      "text/html": [
       "<table class=\"simpletable\">\n",
       "<caption>Logit Regression Results</caption>\n",
       "<tr>\n",
       "  <th>Dep. Variable:</th>           <td>y</td>        <th>  No. Observations:  </th>  <td> 45211</td> \n",
       "</tr>\n",
       "<tr>\n",
       "  <th>Model:</th>                 <td>Logit</td>      <th>  Df Residuals:      </th>  <td> 45183</td> \n",
       "</tr>\n",
       "<tr>\n",
       "  <th>Method:</th>                 <td>MLE</td>       <th>  Df Model:          </th>  <td>    27</td> \n",
       "</tr>\n",
       "<tr>\n",
       "  <th>Date:</th>            <td>Wed, 31 Aug 2022</td> <th>  Pseudo R-squ.:     </th>  <td>0.3062</td> \n",
       "</tr>\n",
       "<tr>\n",
       "  <th>Time:</th>                <td>10:51:49</td>     <th>  Log-Likelihood:    </th> <td> -11320.</td>\n",
       "</tr>\n",
       "<tr>\n",
       "  <th>converged:</th>             <td>True</td>       <th>  LL-Null:           </th> <td> -16315.</td>\n",
       "</tr>\n",
       "<tr>\n",
       "  <th>Covariance Type:</th>     <td>nonrobust</td>    <th>  LLR p-value:       </th>  <td> 0.000</td> \n",
       "</tr>\n",
       "</table>\n",
       "<table class=\"simpletable\">\n",
       "<tr>\n",
       "         <td></td>            <th>coef</th>     <th>std err</th>      <th>z</th>      <th>P>|z|</th>  <th>[0.025</th>    <th>0.975]</th>  \n",
       "</tr>\n",
       "<tr>\n",
       "  <th>age</th>             <td>    0.0004</td> <td>    0.002</td> <td>    0.168</td> <td> 0.867</td> <td>   -0.004</td> <td>    0.005</td>\n",
       "</tr>\n",
       "<tr>\n",
       "  <th>default</th>         <td>   -0.1822</td> <td>    0.161</td> <td>   -1.130</td> <td> 0.259</td> <td>   -0.498</td> <td>    0.134</td>\n",
       "</tr>\n",
       "<tr>\n",
       "  <th>balance</th>         <td> 1.872e-05</td> <td> 4.85e-06</td> <td>    3.860</td> <td> 0.000</td> <td> 9.21e-06</td> <td> 2.82e-05</td>\n",
       "</tr>\n",
       "<tr>\n",
       "  <th>housing</th>         <td>   -0.7756</td> <td>    0.040</td> <td>  -19.618</td> <td> 0.000</td> <td>   -0.853</td> <td>   -0.698</td>\n",
       "</tr>\n",
       "<tr>\n",
       "  <th>loan</th>            <td>   -0.5720</td> <td>    0.058</td> <td>   -9.842</td> <td> 0.000</td> <td>   -0.686</td> <td>   -0.458</td>\n",
       "</tr>\n",
       "<tr>\n",
       "  <th>duration</th>        <td>    0.0040</td> <td> 6.26e-05</td> <td>   64.618</td> <td> 0.000</td> <td>    0.004</td> <td>    0.004</td>\n",
       "</tr>\n",
       "<tr>\n",
       "  <th>campaign</th>        <td>   -0.1093</td> <td>    0.010</td> <td>  -11.037</td> <td> 0.000</td> <td>   -0.129</td> <td>   -0.090</td>\n",
       "</tr>\n",
       "<tr>\n",
       "  <th>pdays</th>           <td>    0.0001</td> <td>    0.000</td> <td>    0.479</td> <td> 0.632</td> <td>   -0.000</td> <td>    0.001</td>\n",
       "</tr>\n",
       "<tr>\n",
       "  <th>previous</th>        <td>    0.0104</td> <td>    0.006</td> <td>    1.620</td> <td> 0.105</td> <td>   -0.002</td> <td>    0.023</td>\n",
       "</tr>\n",
       "<tr>\n",
       "  <th>poutfailure</th>     <td>   -1.1544</td> <td>      nan</td> <td>      nan</td> <td>   nan</td> <td>      nan</td> <td>      nan</td>\n",
       "</tr>\n",
       "<tr>\n",
       "  <th>poutother</th>       <td>   -0.9121</td> <td>      nan</td> <td>      nan</td> <td>   nan</td> <td>      nan</td> <td>      nan</td>\n",
       "</tr>\n",
       "<tr>\n",
       "  <th>poutsuccess</th>     <td>    1.1541</td> <td>      nan</td> <td>      nan</td> <td>   nan</td> <td>      nan</td> <td>      nan</td>\n",
       "</tr>\n",
       "<tr>\n",
       "  <th>poutunknown</th>     <td>   -1.4106</td> <td>      nan</td> <td>      nan</td> <td>   nan</td> <td>      nan</td> <td>      nan</td>\n",
       "</tr>\n",
       "<tr>\n",
       "  <th>con_cellular</th>    <td>   -0.3529</td> <td>      nan</td> <td>      nan</td> <td>   nan</td> <td>      nan</td> <td>      nan</td>\n",
       "</tr>\n",
       "<tr>\n",
       "  <th>con_telephone</th>   <td>   -0.4515</td> <td>      nan</td> <td>      nan</td> <td>   nan</td> <td>      nan</td> <td>      nan</td>\n",
       "</tr>\n",
       "<tr>\n",
       "  <th>con_unknown</th>     <td>   -1.5187</td> <td>      nan</td> <td>      nan</td> <td>   nan</td> <td>      nan</td> <td>      nan</td>\n",
       "</tr>\n",
       "<tr>\n",
       "  <th>divorced</th>        <td>   -0.7786</td> <td>      nan</td> <td>      nan</td> <td>   nan</td> <td>      nan</td> <td>      nan</td>\n",
       "</tr>\n",
       "<tr>\n",
       "  <th>married</th>         <td>   -0.9419</td> <td>      nan</td> <td>      nan</td> <td>   nan</td> <td>      nan</td> <td>      nan</td>\n",
       "</tr>\n",
       "<tr>\n",
       "  <th>single</th>          <td>   -0.6025</td> <td>      nan</td> <td>      nan</td> <td>   nan</td> <td>      nan</td> <td>      nan</td>\n",
       "</tr>\n",
       "<tr>\n",
       "  <th>joadmin.</th>        <td>   -0.0263</td> <td>      nan</td> <td>      nan</td> <td>   nan</td> <td>      nan</td> <td>      nan</td>\n",
       "</tr>\n",
       "<tr>\n",
       "  <th>joblue.collar</th>   <td>   -0.4899</td> <td>      nan</td> <td>      nan</td> <td>   nan</td> <td>      nan</td> <td>      nan</td>\n",
       "</tr>\n",
       "<tr>\n",
       "  <th>joentrepreneur</th>  <td>   -0.4301</td> <td>      nan</td> <td>      nan</td> <td>   nan</td> <td>      nan</td> <td>      nan</td>\n",
       "</tr>\n",
       "<tr>\n",
       "  <th>johousemaid</th>     <td>   -0.6005</td> <td>      nan</td> <td>      nan</td> <td>   nan</td> <td>      nan</td> <td>      nan</td>\n",
       "</tr>\n",
       "<tr>\n",
       "  <th>jomanagement</th>    <td>   -0.0848</td> <td>      nan</td> <td>      nan</td> <td>   nan</td> <td>      nan</td> <td>      nan</td>\n",
       "</tr>\n",
       "<tr>\n",
       "  <th>joretired</th>       <td>    0.3087</td> <td>      nan</td> <td>      nan</td> <td>   nan</td> <td>      nan</td> <td>      nan</td>\n",
       "</tr>\n",
       "<tr>\n",
       "  <th>joself.employed</th> <td>   -0.3032</td> <td>      nan</td> <td>      nan</td> <td>   nan</td> <td>      nan</td> <td>      nan</td>\n",
       "</tr>\n",
       "<tr>\n",
       "  <th>joservices</th>      <td>   -0.3597</td> <td>      nan</td> <td>      nan</td> <td>   nan</td> <td>      nan</td> <td>      nan</td>\n",
       "</tr>\n",
       "<tr>\n",
       "  <th>jostudent</th>       <td>    0.4859</td> <td>      nan</td> <td>      nan</td> <td>   nan</td> <td>      nan</td> <td>      nan</td>\n",
       "</tr>\n",
       "<tr>\n",
       "  <th>jotechnician</th>    <td>   -0.2590</td> <td>      nan</td> <td>      nan</td> <td>   nan</td> <td>      nan</td> <td>      nan</td>\n",
       "</tr>\n",
       "<tr>\n",
       "  <th>jounemployed</th>    <td>   -0.2412</td> <td>      nan</td> <td>      nan</td> <td>   nan</td> <td>      nan</td> <td>      nan</td>\n",
       "</tr>\n",
       "<tr>\n",
       "  <th>jounknown</th>       <td>   -0.3228</td> <td>      nan</td> <td>      nan</td> <td>   nan</td> <td>      nan</td> <td>      nan</td>\n",
       "</tr>\n",
       "</table>"
      ],
      "text/plain": [
       "<class 'statsmodels.iolib.summary.Summary'>\n",
       "\"\"\"\n",
       "                           Logit Regression Results                           \n",
       "==============================================================================\n",
       "Dep. Variable:                      y   No. Observations:                45211\n",
       "Model:                          Logit   Df Residuals:                    45183\n",
       "Method:                           MLE   Df Model:                           27\n",
       "Date:                Wed, 31 Aug 2022   Pseudo R-squ.:                  0.3062\n",
       "Time:                        10:51:49   Log-Likelihood:                -11320.\n",
       "converged:                       True   LL-Null:                       -16315.\n",
       "Covariance Type:            nonrobust   LLR p-value:                     0.000\n",
       "===================================================================================\n",
       "                      coef    std err          z      P>|z|      [0.025      0.975]\n",
       "-----------------------------------------------------------------------------------\n",
       "age                 0.0004      0.002      0.168      0.867      -0.004       0.005\n",
       "default            -0.1822      0.161     -1.130      0.259      -0.498       0.134\n",
       "balance          1.872e-05   4.85e-06      3.860      0.000    9.21e-06    2.82e-05\n",
       "housing            -0.7756      0.040    -19.618      0.000      -0.853      -0.698\n",
       "loan               -0.5720      0.058     -9.842      0.000      -0.686      -0.458\n",
       "duration            0.0040   6.26e-05     64.618      0.000       0.004       0.004\n",
       "campaign           -0.1093      0.010    -11.037      0.000      -0.129      -0.090\n",
       "pdays               0.0001      0.000      0.479      0.632      -0.000       0.001\n",
       "previous            0.0104      0.006      1.620      0.105      -0.002       0.023\n",
       "poutfailure        -1.1544        nan        nan        nan         nan         nan\n",
       "poutother          -0.9121        nan        nan        nan         nan         nan\n",
       "poutsuccess         1.1541        nan        nan        nan         nan         nan\n",
       "poutunknown        -1.4106        nan        nan        nan         nan         nan\n",
       "con_cellular       -0.3529        nan        nan        nan         nan         nan\n",
       "con_telephone      -0.4515        nan        nan        nan         nan         nan\n",
       "con_unknown        -1.5187        nan        nan        nan         nan         nan\n",
       "divorced           -0.7786        nan        nan        nan         nan         nan\n",
       "married            -0.9419        nan        nan        nan         nan         nan\n",
       "single             -0.6025        nan        nan        nan         nan         nan\n",
       "joadmin.           -0.0263        nan        nan        nan         nan         nan\n",
       "joblue.collar      -0.4899        nan        nan        nan         nan         nan\n",
       "joentrepreneur     -0.4301        nan        nan        nan         nan         nan\n",
       "johousemaid        -0.6005        nan        nan        nan         nan         nan\n",
       "jomanagement       -0.0848        nan        nan        nan         nan         nan\n",
       "joretired           0.3087        nan        nan        nan         nan         nan\n",
       "joself.employed    -0.3032        nan        nan        nan         nan         nan\n",
       "joservices         -0.3597        nan        nan        nan         nan         nan\n",
       "jostudent           0.4859        nan        nan        nan         nan         nan\n",
       "jotechnician       -0.2590        nan        nan        nan         nan         nan\n",
       "jounemployed       -0.2412        nan        nan        nan         nan         nan\n",
       "jounknown          -0.3228        nan        nan        nan         nan         nan\n",
       "===================================================================================\n",
       "\"\"\""
      ]
     },
     "execution_count": 69,
     "metadata": {},
     "output_type": "execute_result"
    }
   ],
   "source": [
    "logit_model.summary2() #for AIC model#\n",
    "logit_model.summary()"
   ]
  },
  {
   "cell_type": "code",
   "execution_count": 70,
   "id": "b2e992b6",
   "metadata": {},
   "outputs": [],
   "source": [
    "pred= logit_model.predict(bank.iloc[:,:31])"
   ]
  },
  {
   "cell_type": "code",
   "execution_count": 71,
   "id": "ca93f059",
   "metadata": {},
   "outputs": [
    {
     "data": {
      "text/plain": [
       "0.1147422078766177"
      ]
     },
     "execution_count": 71,
     "metadata": {},
     "output_type": "execute_result"
    }
   ],
   "source": [
    "fpr,tpr,thresholds = roc_curve(bank.y,pred)\n",
    "optimal_idx =np.argmax(tpr-fpr)\n",
    "optimal_threshold = thresholds[optimal_idx]\n",
    "optimal_threshold"
   ]
  },
  {
   "cell_type": "code",
   "execution_count": 72,
   "id": "83c1e71c",
   "metadata": {},
   "outputs": [],
   "source": [
    "import pylab as pl"
   ]
  },
  {
   "cell_type": "code",
   "execution_count": 73,
   "id": "5ba43618",
   "metadata": {},
   "outputs": [
    {
     "data": {
      "text/html": [
       "<div>\n",
       "<style scoped>\n",
       "    .dataframe tbody tr th:only-of-type {\n",
       "        vertical-align: middle;\n",
       "    }\n",
       "\n",
       "    .dataframe tbody tr th {\n",
       "        vertical-align: top;\n",
       "    }\n",
       "\n",
       "    .dataframe thead th {\n",
       "        text-align: right;\n",
       "    }\n",
       "</style>\n",
       "<table border=\"1\" class=\"dataframe\">\n",
       "  <thead>\n",
       "    <tr style=\"text-align: right;\">\n",
       "      <th></th>\n",
       "      <th>fpr</th>\n",
       "      <th>tpr</th>\n",
       "      <th>1-fpr</th>\n",
       "      <th>tf</th>\n",
       "      <th>thresholds</th>\n",
       "    </tr>\n",
       "  </thead>\n",
       "  <tbody>\n",
       "    <tr>\n",
       "      <th>4619</th>\n",
       "      <td>0.183358</td>\n",
       "      <td>0.8166</td>\n",
       "      <td>0.816642</td>\n",
       "      <td>-0.000042</td>\n",
       "      <td>0.112521</td>\n",
       "    </tr>\n",
       "  </tbody>\n",
       "</table>\n",
       "</div>"
      ],
      "text/plain": [
       "           fpr     tpr     1-fpr        tf  thresholds\n",
       "4619  0.183358  0.8166  0.816642 -0.000042    0.112521"
      ]
     },
     "execution_count": 73,
     "metadata": {},
     "output_type": "execute_result"
    }
   ],
   "source": [
    "i = np.arange(len(tpr))\n",
    "roc = pd.DataFrame({'fpr':pd.Series(fpr,index=i),'tpr':pd.Series(tpr,index=i), '1-fpr':pd.Series(1-fpr,index=i),'tf': pd.Series(tpr-(1-fpr),index=i), 'thresholds':pd.Series(thresholds,index= i)})\n",
    "roc.iloc[(roc.tf-0).abs().argsort()[:1]]"
   ]
  },
  {
   "cell_type": "code",
   "execution_count": 74,
   "id": "17fa05c4",
   "metadata": {},
   "outputs": [
    {
     "data": {
      "text/plain": [
       "[Text(-1000.0, 0, ''),\n",
       " Text(0.0, 0, ''),\n",
       " Text(1000.0, 0, ''),\n",
       " Text(2000.0, 0, ''),\n",
       " Text(3000.0, 0, ''),\n",
       " Text(4000.0, 0, ''),\n",
       " Text(5000.0, 0, ''),\n",
       " Text(6000.0, 0, ''),\n",
       " Text(7000.0, 0, '')]"
      ]
     },
     "execution_count": 74,
     "metadata": {},
     "output_type": "execute_result"
    },
    {
     "data": {
      "image/png": "[encoded data removed]",
      "text/plain": [
       "<Figure size 432x288 with 1 Axes>"
      ]
     },
     "metadata": {
      "needs_background": "light"
     },
     "output_type": "display_data"
    }
   ],
   "source": [
    "##plotting tpr vs 1-fpr\n",
    "fig, ax= pl.subplots()\n",
    "pl.plot(roc['tpr'], color = 'red')\n",
    "pl.plot(roc['1-fpr'], color = 'blue')\n",
    "pl.xlabel('1-False positive rate')\n",
    "pl.ylabel('True positive rate')\n",
    "pl.title('Reciever operating characteristic')\n",
    "ax.set_xticklabels([])"
   ]
  },
  {
   "cell_type": "code",
   "execution_count": 75,
   "id": "037c08df",
   "metadata": {},
   "outputs": [
    {
     "name": "stdout",
     "output_type": "stream",
     "text": [
      "Area under the ROC curve:0.890843\n"
     ]
    }
   ],
   "source": [
    "roc_auc = auc(fpr,tpr)\n",
    "print('Area under the ROC curve:%f'% roc_auc)"
   ]
  },
  {
   "cell_type": "code",
   "execution_count": 76,
   "id": "f37e597f",
   "metadata": {},
   "outputs": [],
   "source": [
    "# filling all the cells with zeroes#\n",
    "bank[\"pred\"] = np.zeros(45211)"
   ]
  },
  {
   "cell_type": "code",
   "execution_count": 77,
   "id": "8205c495",
   "metadata": {},
   "outputs": [],
   "source": [
    "# taking threshold value and above the prob value will be treated as correct value \n",
    "bank.loc[pred>optimal_threshold,'pred']=1"
   ]
  },
  {
   "cell_type": "code",
   "execution_count": 78,
   "id": "5ed2bbda",
   "metadata": {},
   "outputs": [
    {
     "name": "stdout",
     "output_type": "stream",
     "text": [
      "              precision    recall  f1-score   support\n",
      "\n",
      "         0.0       0.82      0.97      0.89     33791\n",
      "         1.0       0.81      0.38      0.52     11420\n",
      "\n",
      "    accuracy                           0.82     45211\n",
      "   macro avg       0.82      0.67      0.70     45211\n",
      "weighted avg       0.82      0.82      0.80     45211\n",
      "\n"
     ]
    }
   ],
   "source": [
    "##classification report#\n",
    "classification = classification_report(bank['pred'], bank['y'])\n",
    "print(classification)"
   ]
  },
  {
   "cell_type": "code",
   "execution_count": 79,
   "id": "8bfa1e91",
   "metadata": {},
   "outputs": [],
   "source": [
    "##splitting data into test and train#\n",
    "train_data , test_data = train_test_split(bank, test_size= 0.3)"
   ]
  },
  {
   "cell_type": "code",
   "execution_count": 80,
   "id": "938ebccf",
   "metadata": {},
   "outputs": [
    {
     "name": "stdout",
     "output_type": "stream",
     "text": [
      "Optimization terminated successfully.\n",
      "         Current function value: 0.251068\n",
      "         Iterations 8\n"
     ]
    }
   ],
   "source": [
    "# Model building \n",
    "model= sm.Logit(train_data['y'],train_data[cols_data]).fit()"
   ]
  },
  {
   "cell_type": "code",
   "execution_count": 81,
   "id": "49edb207",
   "metadata": {},
   "outputs": [
    {
     "data": {
      "text/html": [
       "<table class=\"simpletable\">\n",
       "<caption>Logit Regression Results</caption>\n",
       "<tr>\n",
       "  <th>Dep. Variable:</th>           <td>y</td>        <th>  No. Observations:  </th>  <td> 45211</td> \n",
       "</tr>\n",
       "<tr>\n",
       "  <th>Model:</th>                 <td>Logit</td>      <th>  Df Residuals:      </th>  <td> 45183</td> \n",
       "</tr>\n",
       "<tr>\n",
       "  <th>Method:</th>                 <td>MLE</td>       <th>  Df Model:          </th>  <td>    27</td> \n",
       "</tr>\n",
       "<tr>\n",
       "  <th>Date:</th>            <td>Wed, 31 Aug 2022</td> <th>  Pseudo R-squ.:     </th>  <td>0.3062</td> \n",
       "</tr>\n",
       "<tr>\n",
       "  <th>Time:</th>                <td>11:00:06</td>     <th>  Log-Likelihood:    </th> <td> -11320.</td>\n",
       "</tr>\n",
       "<tr>\n",
       "  <th>converged:</th>             <td>True</td>       <th>  LL-Null:           </th> <td> -16315.</td>\n",
       "</tr>\n",
       "<tr>\n",
       "  <th>Covariance Type:</th>     <td>nonrobust</td>    <th>  LLR p-value:       </th>  <td> 0.000</td> \n",
       "</tr>\n",
       "</table>\n",
       "<table class=\"simpletable\">\n",
       "<tr>\n",
       "         <td></td>            <th>coef</th>     <th>std err</th>      <th>z</th>      <th>P>|z|</th>  <th>[0.025</th>    <th>0.975]</th>  \n",
       "</tr>\n",
       "<tr>\n",
       "  <th>age</th>             <td>    0.0004</td> <td>    0.002</td> <td>    0.168</td> <td> 0.867</td> <td>   -0.004</td> <td>    0.005</td>\n",
       "</tr>\n",
       "<tr>\n",
       "  <th>default</th>         <td>   -0.1822</td> <td>    0.161</td> <td>   -1.130</td> <td> 0.259</td> <td>   -0.498</td> <td>    0.134</td>\n",
       "</tr>\n",
       "<tr>\n",
       "  <th>balance</th>         <td> 1.872e-05</td> <td> 4.85e-06</td> <td>    3.860</td> <td> 0.000</td> <td> 9.21e-06</td> <td> 2.82e-05</td>\n",
       "</tr>\n",
       "<tr>\n",
       "  <th>housing</th>         <td>   -0.7756</td> <td>    0.040</td> <td>  -19.618</td> <td> 0.000</td> <td>   -0.853</td> <td>   -0.698</td>\n",
       "</tr>\n",
       "<tr>\n",
       "  <th>loan</th>            <td>   -0.5720</td> <td>    0.058</td> <td>   -9.842</td> <td> 0.000</td> <td>   -0.686</td> <td>   -0.458</td>\n",
       "</tr>\n",
       "<tr>\n",
       "  <th>duration</th>        <td>    0.0040</td> <td> 6.26e-05</td> <td>   64.618</td> <td> 0.000</td> <td>    0.004</td> <td>    0.004</td>\n",
       "</tr>\n",
       "<tr>\n",
       "  <th>campaign</th>        <td>   -0.1093</td> <td>    0.010</td> <td>  -11.037</td> <td> 0.000</td> <td>   -0.129</td> <td>   -0.090</td>\n",
       "</tr>\n",
       "<tr>\n",
       "  <th>pdays</th>           <td>    0.0001</td> <td>    0.000</td> <td>    0.479</td> <td> 0.632</td> <td>   -0.000</td> <td>    0.001</td>\n",
       "</tr>\n",
       "<tr>\n",
       "  <th>previous</th>        <td>    0.0104</td> <td>    0.006</td> <td>    1.620</td> <td> 0.105</td> <td>   -0.002</td> <td>    0.023</td>\n",
       "</tr>\n",
       "<tr>\n",
       "  <th>poutfailure</th>     <td>   -1.1544</td> <td>      nan</td> <td>      nan</td> <td>   nan</td> <td>      nan</td> <td>      nan</td>\n",
       "</tr>\n",
       "<tr>\n",
       "  <th>poutother</th>       <td>   -0.9121</td> <td>      nan</td> <td>      nan</td> <td>   nan</td> <td>      nan</td> <td>      nan</td>\n",
       "</tr>\n",
       "<tr>\n",
       "  <th>poutsuccess</th>     <td>    1.1541</td> <td>      nan</td> <td>      nan</td> <td>   nan</td> <td>      nan</td> <td>      nan</td>\n",
       "</tr>\n",
       "<tr>\n",
       "  <th>poutunknown</th>     <td>   -1.4106</td> <td>      nan</td> <td>      nan</td> <td>   nan</td> <td>      nan</td> <td>      nan</td>\n",
       "</tr>\n",
       "<tr>\n",
       "  <th>con_cellular</th>    <td>   -0.3529</td> <td>      nan</td> <td>      nan</td> <td>   nan</td> <td>      nan</td> <td>      nan</td>\n",
       "</tr>\n",
       "<tr>\n",
       "  <th>con_telephone</th>   <td>   -0.4515</td> <td>      nan</td> <td>      nan</td> <td>   nan</td> <td>      nan</td> <td>      nan</td>\n",
       "</tr>\n",
       "<tr>\n",
       "  <th>con_unknown</th>     <td>   -1.5187</td> <td>      nan</td> <td>      nan</td> <td>   nan</td> <td>      nan</td> <td>      nan</td>\n",
       "</tr>\n",
       "<tr>\n",
       "  <th>divorced</th>        <td>   -0.7786</td> <td>      nan</td> <td>      nan</td> <td>   nan</td> <td>      nan</td> <td>      nan</td>\n",
       "</tr>\n",
       "<tr>\n",
       "  <th>married</th>         <td>   -0.9419</td> <td>      nan</td> <td>      nan</td> <td>   nan</td> <td>      nan</td> <td>      nan</td>\n",
       "</tr>\n",
       "<tr>\n",
       "  <th>single</th>          <td>   -0.6025</td> <td>      nan</td> <td>      nan</td> <td>   nan</td> <td>      nan</td> <td>      nan</td>\n",
       "</tr>\n",
       "<tr>\n",
       "  <th>joadmin.</th>        <td>   -0.0263</td> <td>      nan</td> <td>      nan</td> <td>   nan</td> <td>      nan</td> <td>      nan</td>\n",
       "</tr>\n",
       "<tr>\n",
       "  <th>joblue.collar</th>   <td>   -0.4899</td> <td>      nan</td> <td>      nan</td> <td>   nan</td> <td>      nan</td> <td>      nan</td>\n",
       "</tr>\n",
       "<tr>\n",
       "  <th>joentrepreneur</th>  <td>   -0.4301</td> <td>      nan</td> <td>      nan</td> <td>   nan</td> <td>      nan</td> <td>      nan</td>\n",
       "</tr>\n",
       "<tr>\n",
       "  <th>johousemaid</th>     <td>   -0.6005</td> <td>      nan</td> <td>      nan</td> <td>   nan</td> <td>      nan</td> <td>      nan</td>\n",
       "</tr>\n",
       "<tr>\n",
       "  <th>jomanagement</th>    <td>   -0.0848</td> <td>      nan</td> <td>      nan</td> <td>   nan</td> <td>      nan</td> <td>      nan</td>\n",
       "</tr>\n",
       "<tr>\n",
       "  <th>joretired</th>       <td>    0.3087</td> <td>      nan</td> <td>      nan</td> <td>   nan</td> <td>      nan</td> <td>      nan</td>\n",
       "</tr>\n",
       "<tr>\n",
       "  <th>joself.employed</th> <td>   -0.3032</td> <td>      nan</td> <td>      nan</td> <td>   nan</td> <td>      nan</td> <td>      nan</td>\n",
       "</tr>\n",
       "<tr>\n",
       "  <th>joservices</th>      <td>   -0.3597</td> <td>      nan</td> <td>      nan</td> <td>   nan</td> <td>      nan</td> <td>      nan</td>\n",
       "</tr>\n",
       "<tr>\n",
       "  <th>jostudent</th>       <td>    0.4859</td> <td>      nan</td> <td>      nan</td> <td>   nan</td> <td>      nan</td> <td>      nan</td>\n",
       "</tr>\n",
       "<tr>\n",
       "  <th>jotechnician</th>    <td>   -0.2590</td> <td>      nan</td> <td>      nan</td> <td>   nan</td> <td>      nan</td> <td>      nan</td>\n",
       "</tr>\n",
       "<tr>\n",
       "  <th>jounemployed</th>    <td>   -0.2412</td> <td>      nan</td> <td>      nan</td> <td>   nan</td> <td>      nan</td> <td>      nan</td>\n",
       "</tr>\n",
       "<tr>\n",
       "  <th>jounknown</th>       <td>   -0.3228</td> <td>      nan</td> <td>      nan</td> <td>   nan</td> <td>      nan</td> <td>      nan</td>\n",
       "</tr>\n",
       "</table>"
      ],
      "text/plain": [
       "<class 'statsmodels.iolib.summary.Summary'>\n",
       "\"\"\"\n",
       "                           Logit Regression Results                           \n",
       "==============================================================================\n",
       "Dep. Variable:                      y   No. Observations:                45211\n",
       "Model:                          Logit   Df Residuals:                    45183\n",
       "Method:                           MLE   Df Model:                           27\n",
       "Date:                Wed, 31 Aug 2022   Pseudo R-squ.:                  0.3062\n",
       "Time:                        11:00:06   Log-Likelihood:                -11320.\n",
       "converged:                       True   LL-Null:                       -16315.\n",
       "Covariance Type:            nonrobust   LLR p-value:                     0.000\n",
       "===================================================================================\n",
       "                      coef    std err          z      P>|z|      [0.025      0.975]\n",
       "-----------------------------------------------------------------------------------\n",
       "age                 0.0004      0.002      0.168      0.867      -0.004       0.005\n",
       "default            -0.1822      0.161     -1.130      0.259      -0.498       0.134\n",
       "balance          1.872e-05   4.85e-06      3.860      0.000    9.21e-06    2.82e-05\n",
       "housing            -0.7756      0.040    -19.618      0.000      -0.853      -0.698\n",
       "loan               -0.5720      0.058     -9.842      0.000      -0.686      -0.458\n",
       "duration            0.0040   6.26e-05     64.618      0.000       0.004       0.004\n",
       "campaign           -0.1093      0.010    -11.037      0.000      -0.129      -0.090\n",
       "pdays               0.0001      0.000      0.479      0.632      -0.000       0.001\n",
       "previous            0.0104      0.006      1.620      0.105      -0.002       0.023\n",
       "poutfailure        -1.1544        nan        nan        nan         nan         nan\n",
       "poutother          -0.9121        nan        nan        nan         nan         nan\n",
       "poutsuccess         1.1541        nan        nan        nan         nan         nan\n",
       "poutunknown        -1.4106        nan        nan        nan         nan         nan\n",
       "con_cellular       -0.3529        nan        nan        nan         nan         nan\n",
       "con_telephone      -0.4515        nan        nan        nan         nan         nan\n",
       "con_unknown        -1.5187        nan        nan        nan         nan         nan\n",
       "divorced           -0.7786        nan        nan        nan         nan         nan\n",
       "married            -0.9419        nan        nan        nan         nan         nan\n",
       "single             -0.6025        nan        nan        nan         nan         nan\n",
       "joadmin.           -0.0263        nan        nan        nan         nan         nan\n",
       "joblue.collar      -0.4899        nan        nan        nan         nan         nan\n",
       "joentrepreneur     -0.4301        nan        nan        nan         nan         nan\n",
       "johousemaid        -0.6005        nan        nan        nan         nan         nan\n",
       "jomanagement       -0.0848        nan        nan        nan         nan         nan\n",
       "joretired           0.3087        nan        nan        nan         nan         nan\n",
       "joself.employed    -0.3032        nan        nan        nan         nan         nan\n",
       "joservices         -0.3597        nan        nan        nan         nan         nan\n",
       "jostudent           0.4859        nan        nan        nan         nan         nan\n",
       "jotechnician       -0.2590        nan        nan        nan         nan         nan\n",
       "jounemployed       -0.2412        nan        nan        nan         nan         nan\n",
       "jounknown          -0.3228        nan        nan        nan         nan         nan\n",
       "===================================================================================\n",
       "\"\"\""
      ]
     },
     "execution_count": 81,
     "metadata": {},
     "output_type": "execute_result"
    }
   ],
   "source": [
    "model.summary2() #for AIC model#\n",
    "logit_model.summary()"
   ]
  },
  {
   "cell_type": "code",
   "execution_count": 82,
   "id": "bc5cbfca",
   "metadata": {},
   "outputs": [],
   "source": [
    "#prediction on test data#\n",
    "test_pred  = model.predict(test_data.iloc[:,:31])\n"
   ]
  },
  {
   "cell_type": "code",
   "execution_count": 85,
   "id": "570e922c",
   "metadata": {},
   "outputs": [
    {
     "data": {
      "text/html": [
       "<div>\n",
       "<style scoped>\n",
       "    .dataframe tbody tr th:only-of-type {\n",
       "        vertical-align: middle;\n",
       "    }\n",
       "\n",
       "    .dataframe tbody tr th {\n",
       "        vertical-align: top;\n",
       "    }\n",
       "\n",
       "    .dataframe thead th {\n",
       "        text-align: right;\n",
       "    }\n",
       "</style>\n",
       "<table border=\"1\" class=\"dataframe\">\n",
       "  <thead>\n",
       "    <tr style=\"text-align: right;\">\n",
       "      <th></th>\n",
       "      <th>age</th>\n",
       "      <th>default</th>\n",
       "      <th>balance</th>\n",
       "      <th>housing</th>\n",
       "      <th>loan</th>\n",
       "      <th>duration</th>\n",
       "      <th>campaign</th>\n",
       "      <th>pdays</th>\n",
       "      <th>previous</th>\n",
       "      <th>poutfailure</th>\n",
       "      <th>...</th>\n",
       "      <th>joretired</th>\n",
       "      <th>joself.employed</th>\n",
       "      <th>joservices</th>\n",
       "      <th>jostudent</th>\n",
       "      <th>jotechnician</th>\n",
       "      <th>jounemployed</th>\n",
       "      <th>jounknown</th>\n",
       "      <th>y</th>\n",
       "      <th>pred</th>\n",
       "      <th>test_pred</th>\n",
       "    </tr>\n",
       "  </thead>\n",
       "  <tbody>\n",
       "    <tr>\n",
       "      <th>13671</th>\n",
       "      <td>37</td>\n",
       "      <td>0</td>\n",
       "      <td>224</td>\n",
       "      <td>1</td>\n",
       "      <td>0</td>\n",
       "      <td>128</td>\n",
       "      <td>2</td>\n",
       "      <td>-1</td>\n",
       "      <td>0</td>\n",
       "      <td>0</td>\n",
       "      <td>...</td>\n",
       "      <td>0</td>\n",
       "      <td>0</td>\n",
       "      <td>0</td>\n",
       "      <td>0</td>\n",
       "      <td>0</td>\n",
       "      <td>0</td>\n",
       "      <td>0</td>\n",
       "      <td>0</td>\n",
       "      <td>0.0</td>\n",
       "      <td>0.0</td>\n",
       "    </tr>\n",
       "    <tr>\n",
       "      <th>35691</th>\n",
       "      <td>31</td>\n",
       "      <td>0</td>\n",
       "      <td>691</td>\n",
       "      <td>1</td>\n",
       "      <td>0</td>\n",
       "      <td>198</td>\n",
       "      <td>1</td>\n",
       "      <td>-1</td>\n",
       "      <td>0</td>\n",
       "      <td>0</td>\n",
       "      <td>...</td>\n",
       "      <td>0</td>\n",
       "      <td>0</td>\n",
       "      <td>0</td>\n",
       "      <td>0</td>\n",
       "      <td>1</td>\n",
       "      <td>0</td>\n",
       "      <td>0</td>\n",
       "      <td>0</td>\n",
       "      <td>0.0</td>\n",
       "      <td>0.0</td>\n",
       "    </tr>\n",
       "    <tr>\n",
       "      <th>38569</th>\n",
       "      <td>38</td>\n",
       "      <td>0</td>\n",
       "      <td>5774</td>\n",
       "      <td>1</td>\n",
       "      <td>0</td>\n",
       "      <td>406</td>\n",
       "      <td>4</td>\n",
       "      <td>359</td>\n",
       "      <td>5</td>\n",
       "      <td>0</td>\n",
       "      <td>...</td>\n",
       "      <td>0</td>\n",
       "      <td>1</td>\n",
       "      <td>0</td>\n",
       "      <td>0</td>\n",
       "      <td>0</td>\n",
       "      <td>0</td>\n",
       "      <td>0</td>\n",
       "      <td>1</td>\n",
       "      <td>1.0</td>\n",
       "      <td>0.0</td>\n",
       "    </tr>\n",
       "    <tr>\n",
       "      <th>4318</th>\n",
       "      <td>36</td>\n",
       "      <td>0</td>\n",
       "      <td>141</td>\n",
       "      <td>1</td>\n",
       "      <td>0</td>\n",
       "      <td>165</td>\n",
       "      <td>5</td>\n",
       "      <td>-1</td>\n",
       "      <td>0</td>\n",
       "      <td>0</td>\n",
       "      <td>...</td>\n",
       "      <td>0</td>\n",
       "      <td>0</td>\n",
       "      <td>0</td>\n",
       "      <td>0</td>\n",
       "      <td>1</td>\n",
       "      <td>0</td>\n",
       "      <td>0</td>\n",
       "      <td>0</td>\n",
       "      <td>0.0</td>\n",
       "      <td>0.0</td>\n",
       "    </tr>\n",
       "    <tr>\n",
       "      <th>12887</th>\n",
       "      <td>51</td>\n",
       "      <td>0</td>\n",
       "      <td>1392</td>\n",
       "      <td>0</td>\n",
       "      <td>0</td>\n",
       "      <td>511</td>\n",
       "      <td>3</td>\n",
       "      <td>-1</td>\n",
       "      <td>0</td>\n",
       "      <td>0</td>\n",
       "      <td>...</td>\n",
       "      <td>0</td>\n",
       "      <td>0</td>\n",
       "      <td>0</td>\n",
       "      <td>0</td>\n",
       "      <td>0</td>\n",
       "      <td>0</td>\n",
       "      <td>0</td>\n",
       "      <td>0</td>\n",
       "      <td>1.0</td>\n",
       "      <td>0.0</td>\n",
       "    </tr>\n",
       "    <tr>\n",
       "      <th>...</th>\n",
       "      <td>...</td>\n",
       "      <td>...</td>\n",
       "      <td>...</td>\n",
       "      <td>...</td>\n",
       "      <td>...</td>\n",
       "      <td>...</td>\n",
       "      <td>...</td>\n",
       "      <td>...</td>\n",
       "      <td>...</td>\n",
       "      <td>...</td>\n",
       "      <td>...</td>\n",
       "      <td>...</td>\n",
       "      <td>...</td>\n",
       "      <td>...</td>\n",
       "      <td>...</td>\n",
       "      <td>...</td>\n",
       "      <td>...</td>\n",
       "      <td>...</td>\n",
       "      <td>...</td>\n",
       "      <td>...</td>\n",
       "      <td>...</td>\n",
       "    </tr>\n",
       "    <tr>\n",
       "      <th>18046</th>\n",
       "      <td>57</td>\n",
       "      <td>0</td>\n",
       "      <td>3819</td>\n",
       "      <td>0</td>\n",
       "      <td>0</td>\n",
       "      <td>1001</td>\n",
       "      <td>2</td>\n",
       "      <td>-1</td>\n",
       "      <td>0</td>\n",
       "      <td>0</td>\n",
       "      <td>...</td>\n",
       "      <td>0</td>\n",
       "      <td>0</td>\n",
       "      <td>0</td>\n",
       "      <td>0</td>\n",
       "      <td>0</td>\n",
       "      <td>0</td>\n",
       "      <td>0</td>\n",
       "      <td>0</td>\n",
       "      <td>1.0</td>\n",
       "      <td>0.0</td>\n",
       "    </tr>\n",
       "    <tr>\n",
       "      <th>19218</th>\n",
       "      <td>48</td>\n",
       "      <td>0</td>\n",
       "      <td>1526</td>\n",
       "      <td>0</td>\n",
       "      <td>0</td>\n",
       "      <td>273</td>\n",
       "      <td>2</td>\n",
       "      <td>-1</td>\n",
       "      <td>0</td>\n",
       "      <td>0</td>\n",
       "      <td>...</td>\n",
       "      <td>0</td>\n",
       "      <td>0</td>\n",
       "      <td>0</td>\n",
       "      <td>0</td>\n",
       "      <td>1</td>\n",
       "      <td>0</td>\n",
       "      <td>0</td>\n",
       "      <td>0</td>\n",
       "      <td>1.0</td>\n",
       "      <td>0.0</td>\n",
       "    </tr>\n",
       "    <tr>\n",
       "      <th>17588</th>\n",
       "      <td>51</td>\n",
       "      <td>0</td>\n",
       "      <td>5</td>\n",
       "      <td>0</td>\n",
       "      <td>0</td>\n",
       "      <td>600</td>\n",
       "      <td>2</td>\n",
       "      <td>-1</td>\n",
       "      <td>0</td>\n",
       "      <td>0</td>\n",
       "      <td>...</td>\n",
       "      <td>0</td>\n",
       "      <td>0</td>\n",
       "      <td>0</td>\n",
       "      <td>0</td>\n",
       "      <td>0</td>\n",
       "      <td>0</td>\n",
       "      <td>0</td>\n",
       "      <td>1</td>\n",
       "      <td>1.0</td>\n",
       "      <td>0.0</td>\n",
       "    </tr>\n",
       "    <tr>\n",
       "      <th>2047</th>\n",
       "      <td>49</td>\n",
       "      <td>1</td>\n",
       "      <td>15</td>\n",
       "      <td>0</td>\n",
       "      <td>0</td>\n",
       "      <td>290</td>\n",
       "      <td>5</td>\n",
       "      <td>-1</td>\n",
       "      <td>0</td>\n",
       "      <td>0</td>\n",
       "      <td>...</td>\n",
       "      <td>0</td>\n",
       "      <td>0</td>\n",
       "      <td>0</td>\n",
       "      <td>0</td>\n",
       "      <td>0</td>\n",
       "      <td>0</td>\n",
       "      <td>0</td>\n",
       "      <td>0</td>\n",
       "      <td>0.0</td>\n",
       "      <td>0.0</td>\n",
       "    </tr>\n",
       "    <tr>\n",
       "      <th>43366</th>\n",
       "      <td>59</td>\n",
       "      <td>0</td>\n",
       "      <td>4007</td>\n",
       "      <td>0</td>\n",
       "      <td>0</td>\n",
       "      <td>157</td>\n",
       "      <td>2</td>\n",
       "      <td>116</td>\n",
       "      <td>4</td>\n",
       "      <td>1</td>\n",
       "      <td>...</td>\n",
       "      <td>1</td>\n",
       "      <td>0</td>\n",
       "      <td>0</td>\n",
       "      <td>0</td>\n",
       "      <td>0</td>\n",
       "      <td>0</td>\n",
       "      <td>0</td>\n",
       "      <td>0</td>\n",
       "      <td>1.0</td>\n",
       "      <td>0.0</td>\n",
       "    </tr>\n",
       "  </tbody>\n",
       "</table>\n",
       "<p>13564 rows × 34 columns</p>\n",
       "</div>"
      ],
      "text/plain": [
       "       age  default  balance  housing  loan  duration  campaign  pdays  \\\n",
       "13671   37        0      224        1     0       128         2     -1   \n",
       "35691   31        0      691        1     0       198         1     -1   \n",
       "38569   38        0     5774        1     0       406         4    359   \n",
       "4318    36        0      141        1     0       165         5     -1   \n",
       "12887   51        0     1392        0     0       511         3     -1   \n",
       "...    ...      ...      ...      ...   ...       ...       ...    ...   \n",
       "18046   57        0     3819        0     0      1001         2     -1   \n",
       "19218   48        0     1526        0     0       273         2     -1   \n",
       "17588   51        0        5        0     0       600         2     -1   \n",
       "2047    49        1       15        0     0       290         5     -1   \n",
       "43366   59        0     4007        0     0       157         2    116   \n",
       "\n",
       "       previous  poutfailure  ...  joretired  joself.employed  joservices  \\\n",
       "13671         0            0  ...          0                0           0   \n",
       "35691         0            0  ...          0                0           0   \n",
       "38569         5            0  ...          0                1           0   \n",
       "4318          0            0  ...          0                0           0   \n",
       "12887         0            0  ...          0                0           0   \n",
       "...         ...          ...  ...        ...              ...         ...   \n",
       "18046         0            0  ...          0                0           0   \n",
       "19218         0            0  ...          0                0           0   \n",
       "17588         0            0  ...          0                0           0   \n",
       "2047          0            0  ...          0                0           0   \n",
       "43366         4            1  ...          1                0           0   \n",
       "\n",
       "       jostudent  jotechnician  jounemployed  jounknown  y  pred  test_pred  \n",
       "13671          0             0             0          0  0   0.0        0.0  \n",
       "35691          0             1             0          0  0   0.0        0.0  \n",
       "38569          0             0             0          0  1   1.0        0.0  \n",
       "4318           0             1             0          0  0   0.0        0.0  \n",
       "12887          0             0             0          0  0   1.0        0.0  \n",
       "...          ...           ...           ...        ... ..   ...        ...  \n",
       "18046          0             0             0          0  0   1.0        0.0  \n",
       "19218          0             1             0          0  0   1.0        0.0  \n",
       "17588          0             0             0          0  1   1.0        0.0  \n",
       "2047           0             0             0          0  0   0.0        0.0  \n",
       "43366          0             0             0          0  0   1.0        0.0  \n",
       "\n",
       "[13564 rows x 34 columns]"
      ]
     },
     "execution_count": 85,
     "metadata": {},
     "output_type": "execute_result"
    }
   ],
   "source": [
    "test_data"
   ]
  },
  {
   "cell_type": "code",
   "execution_count": 86,
   "id": "3c288cf3",
   "metadata": {},
   "outputs": [],
   "source": [
    "##creating new column for storing prediction#\n",
    "#filling all the cell with zeros\n",
    "test_data['test_pred'] = np.zeros(13564)"
   ]
  },
  {
   "cell_type": "code",
   "execution_count": 87,
   "id": "16adebbc",
   "metadata": {},
   "outputs": [],
   "source": [
    "# taking threshold value as 'optimal_threshold' and above the thresold prob value will be treated as 1 #\n",
    "test_data.loc[test_pred>optimal_threshold,'test_pred']=1"
   ]
  },
  {
   "cell_type": "code",
   "execution_count": 88,
   "id": "dcd92693",
   "metadata": {},
   "outputs": [
    {
     "data": {
      "text/html": [
       "<div>\n",
       "<style scoped>\n",
       "    .dataframe tbody tr th:only-of-type {\n",
       "        vertical-align: middle;\n",
       "    }\n",
       "\n",
       "    .dataframe tbody tr th {\n",
       "        vertical-align: top;\n",
       "    }\n",
       "\n",
       "    .dataframe thead th {\n",
       "        text-align: right;\n",
       "    }\n",
       "</style>\n",
       "<table border=\"1\" class=\"dataframe\">\n",
       "  <thead>\n",
       "    <tr style=\"text-align: right;\">\n",
       "      <th>y</th>\n",
       "      <th>0</th>\n",
       "      <th>1</th>\n",
       "    </tr>\n",
       "    <tr>\n",
       "      <th>test_pred</th>\n",
       "      <th></th>\n",
       "      <th></th>\n",
       "    </tr>\n",
       "  </thead>\n",
       "  <tbody>\n",
       "    <tr>\n",
       "      <th>0.0</th>\n",
       "      <td>9781</td>\n",
       "      <td>287</td>\n",
       "    </tr>\n",
       "    <tr>\n",
       "      <th>1.0</th>\n",
       "      <td>2208</td>\n",
       "      <td>1288</td>\n",
       "    </tr>\n",
       "  </tbody>\n",
       "</table>\n",
       "</div>"
      ],
      "text/plain": [
       "y             0     1\n",
       "test_pred            \n",
       "0.0        9781   287\n",
       "1.0        2208  1288"
      ]
     },
     "execution_count": 88,
     "metadata": {},
     "output_type": "execute_result"
    }
   ],
   "source": [
    "##confusion matrix#\n",
    "confusion_matrix =  pd.crosstab(test_data.test_pred, test_data['y'])\n",
    "confusion_matrix"
   ]
  },
  {
   "cell_type": "code",
   "execution_count": 89,
   "id": "f6fb6cdd",
   "metadata": {},
   "outputs": [
    {
     "data": {
      "text/plain": [
       "0.8160572102624595"
      ]
     },
     "execution_count": 89,
     "metadata": {},
     "output_type": "execute_result"
    }
   ],
   "source": [
    "accuracy_test  = accuracy_score(test_data['y'], test_data.test_pred)\n",
    "accuracy_test"
   ]
  },
  {
   "cell_type": "code",
   "execution_count": 90,
   "id": "b0b57f99",
   "metadata": {},
   "outputs": [
    {
     "name": "stdout",
     "output_type": "stream",
     "text": [
      "              precision    recall  f1-score   support\n",
      "\n",
      "         0.0       0.82      0.97      0.89     10068\n",
      "         1.0       0.82      0.37      0.51      3496\n",
      "\n",
      "    accuracy                           0.82     13564\n",
      "   macro avg       0.82      0.67      0.70     13564\n",
      "weighted avg       0.82      0.82      0.79     13564\n",
      "\n"
     ]
    }
   ],
   "source": [
    "##classification report#\n",
    "classification = classification_report(test_data['test_pred'], test_data['y'])\n",
    "print(classification)"
   ]
  },
  {
   "cell_type": "code",
   "execution_count": 91,
   "id": "38413799",
   "metadata": {},
   "outputs": [],
   "source": [
    "##roc curve and AUC#\n",
    "fpr,tpr,threshold = metrics.roc_curve(test_data['y'],test_pred)"
   ]
  },
  {
   "cell_type": "code",
   "execution_count": 92,
   "id": "36e46ab2",
   "metadata": {},
   "outputs": [
    {
     "data": {
      "text/plain": [
       "Text(0, 0.5, 'True positive rate')"
      ]
     },
     "execution_count": 92,
     "metadata": {},
     "output_type": "execute_result"
    },
    {
     "data": {
      "image/png": "[encoded data removed]",
      "text/plain": [
       "<Figure size 432x288 with 1 Axes>"
      ]
     },
     "metadata": {
      "needs_background": "light"
     },
     "output_type": "display_data"
    }
   ],
   "source": [
    "##ROC plot#\n",
    "plt.plot(fpr,tpr);plt.xlabel(\"False positive rate\");plt.ylabel(\"True positive rate\")"
   ]
  },
  {
   "cell_type": "code",
   "execution_count": 93,
   "id": "beb45e7a",
   "metadata": {},
   "outputs": [
    {
     "data": {
      "text/plain": [
       "0.8895874128003579"
      ]
     },
     "execution_count": 93,
     "metadata": {},
     "output_type": "execute_result"
    }
   ],
   "source": [
    "roc_auc_test = metrics.auc(fpr,tpr)\n",
    "roc_auc_test"
   ]
  },
  {
   "cell_type": "code",
   "execution_count": 94,
   "id": "bfd64a8c",
   "metadata": {},
   "outputs": [],
   "source": [
    "##prediction on test data#\n",
    "train_pred = model.predict(train_data.iloc[:,:31])"
   ]
  },
  {
   "cell_type": "code",
   "execution_count": 95,
   "id": "3c7726ca",
   "metadata": {},
   "outputs": [],
   "source": [
    "##create new columns#\n",
    "##filling all  the cell with colums#\n",
    "train_data['train_pred'] = np.zeros(31647)"
   ]
  },
  {
   "cell_type": "code",
   "execution_count": 96,
   "id": "b6d004f5",
   "metadata": {},
   "outputs": [],
   "source": [
    "# taking threshold value and above the prob value will be treated as correct value #\n",
    "train_data.loc[train_pred>optimal_threshold, 'train_pred'] =1"
   ]
  },
  {
   "cell_type": "code",
   "execution_count": 97,
   "id": "edb7d3c6",
   "metadata": {},
   "outputs": [
    {
     "data": {
      "text/html": [
       "<div>\n",
       "<style scoped>\n",
       "    .dataframe tbody tr th:only-of-type {\n",
       "        vertical-align: middle;\n",
       "    }\n",
       "\n",
       "    .dataframe tbody tr th {\n",
       "        vertical-align: top;\n",
       "    }\n",
       "\n",
       "    .dataframe thead th {\n",
       "        text-align: right;\n",
       "    }\n",
       "</style>\n",
       "<table border=\"1\" class=\"dataframe\">\n",
       "  <thead>\n",
       "    <tr style=\"text-align: right;\">\n",
       "      <th>y</th>\n",
       "      <th>0</th>\n",
       "      <th>1</th>\n",
       "    </tr>\n",
       "    <tr>\n",
       "      <th>train_pred</th>\n",
       "      <th></th>\n",
       "      <th></th>\n",
       "    </tr>\n",
       "  </thead>\n",
       "  <tbody>\n",
       "    <tr>\n",
       "      <th>0.0</th>\n",
       "      <td>22903</td>\n",
       "      <td>707</td>\n",
       "    </tr>\n",
       "    <tr>\n",
       "      <th>1.0</th>\n",
       "      <td>5030</td>\n",
       "      <td>3007</td>\n",
       "    </tr>\n",
       "  </tbody>\n",
       "</table>\n",
       "</div>"
      ],
      "text/plain": [
       "y               0     1\n",
       "train_pred             \n",
       "0.0         22903   707\n",
       "1.0          5030  3007"
      ]
     },
     "execution_count": 97,
     "metadata": {},
     "output_type": "execute_result"
    }
   ],
   "source": [
    "##confusion matrix#\n",
    "confusion_matrix = pd.crosstab(train_data.train_pred, train_data['y'])\n",
    "confusion_matrix"
   ]
  },
  {
   "cell_type": "code",
   "execution_count": 98,
   "id": "5c840755",
   "metadata": {},
   "outputs": [
    {
     "data": {
      "text/plain": [
       "0.8187189939014756"
      ]
     },
     "execution_count": 98,
     "metadata": {},
     "output_type": "execute_result"
    }
   ],
   "source": [
    "##accuracy score#\n",
    "accuracy_train = accuracy_score(train_data['y'], train_data.train_pred)\n",
    "accuracy_train"
   ]
  },
  {
   "cell_type": "markdown",
   "id": "298cc3c5",
   "metadata": {},
   "source": [
    "##############################################################"
   ]
  },
  {
   "cell_type": "code",
   "execution_count": null,
   "id": "4c55e67f",
   "metadata": {},
   "outputs": [],
   "source": []
  }
 ],
 "metadata": {
  "kernelspec": {
   "display_name": "Python 3 (ipykernel)",
   "language": "python",
   "name": "python3"
  },
  "language_info": {
   "codemirror_mode": {
    "name": "ipython",
    "version": 3
   },
   "file_extension": ".py",
   "mimetype": "text/x-python",
   "name": "python",
   "nbconvert_exporter": "python",
   "pygments_lexer": "ipython3",
   "version": "3.10.4"
  }
 },
 "nbformat": 4,
 "nbformat_minor": 5
}
